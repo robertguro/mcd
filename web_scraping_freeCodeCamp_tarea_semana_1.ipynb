{
  "cells": [
    {
      "cell_type": "markdown",
      "metadata": {
        "id": "view-in-github",
        "colab_type": "text"
      },
      "source": [
        "<a href=\"https://colab.research.google.com/github/robertguro/mcd/blob/main/web_scraping_freeCodeCamp_tarea_semana_1.ipynb\" target=\"_parent\"><img src=\"https://colab.research.google.com/assets/colab-badge.svg\" alt=\"Open In Colab\"/></a>"
      ]
    },
    {
      "cell_type": "markdown",
      "metadata": {
        "id": "HFbPvfyu3yaS"
      },
      "source": [
        "<center>\n",
        "<img src=\"https://d33wubrfki0l68.cloudfront.net/774b60156d8f103170dc66f3ad10310941114653/da262/img/fcc_secondary_large.svg\" width=\"600\" height=\"auto\"/>\n",
        "\n",
        "# **Web scraping con Python**\n",
        "\n",
        "## *Material complementario del curso dictado por [Gustavo Juantorena](https://github.com/GEJ1) para **freeCodecamp** en español.*\n",
        "\n",
        "### **Link a la web de práctica: https://scrapepark.org/courses/spanish/**\n"
      ]
    },
    {
      "cell_type": "markdown",
      "metadata": {
        "id": "2T6lp5_w9Gi0"
      },
      "source": [
        "<center>\n",
        "\n",
        "### **Importante**: Los cambios que hagan en este cuaderno de Colab no se guardarán, lo ideal sería que hagan una copia del mismo en sus respectivas cuentas de Google Drive de la siguiente manera:\n",
        "\n",
        "### *Archivo > Guardar una copia en drive*\n"
      ]
    },
    {
      "cell_type": "markdown",
      "metadata": {
        "id": "UE_kUe2dlbbF"
      },
      "source": [
        "# **Hoja de ruta**\n",
        "\n",
        "## 1. Pedidos HTTP con **Requests**\n",
        "## 2. Uso basico de **APIs**\n",
        "## 3. Web Scraping con **Beautiful Soup**\n",
        "\n",
        "\n",
        "\n",
        "\n"
      ]
    },
    {
      "cell_type": "markdown",
      "metadata": {
        "id": "5UQcVg3CKSi1"
      },
      "source": [
        "# **Pedidos HTTP con requests**\n"
      ]
    },
    {
      "cell_type": "code",
      "execution_count": 1,
      "metadata": {
        "id": "32ZIp-taK6PE"
      },
      "outputs": [],
      "source": [
        "import requests\n",
        "import json"
      ]
    },
    {
      "cell_type": "code",
      "execution_count": 2,
      "metadata": {
        "id": "bc1hU64tLv-v",
        "colab": {
          "base_uri": "https://localhost:8080/"
        },
        "outputId": "0788b92a-86b1-4e9d-e7f9-ff9c012c3877"
      },
      "outputs": [
        {
          "output_type": "stream",
          "name": "stdout",
          "text": [
            "Data: <!DOCTYPE html>\n",
            "<html class=\"client-nojs vector-feature-language-in-header-enabled vector-feature-language-in-main-page-header-disabled vector-feature-sticky-header-disabled vector-feature-page-tools-pinned-disabled vector-feature-toc-pinned-clientpref-1 vector-feature-main-menu-pinned-disabled vector-feature-limited-width-clientpref-1 vector-feature-limited-width-content-enabled vector-feature-custom-font-size-clientpref-0 vector-feature-client-preferences-disabled vector-feature-client-prefs-pinned-disabled vector-feature-night-mode-disabled skin-night-mode-clientpref-0 vector-toc-not-available\" lang=\"es\" dir=\"ltr\">\n",
            "<head>\n",
            "<meta charset=\"UTF-8\">\n",
            "<title>Wikipedia, la enciclopedia libre</title>\n",
            "<script>(function(){var className=\"client-js vector-feature-language-in-header-enabled vector-feature-language-in-main-page-header-disabled vector-feature-sticky-header-disabled vector-feature-page-tools-pinned-disabled vector-feature-toc-pinned-clientpref-1 vector-feature-main-menu-pinned-disabled vector-feature-limited-width-clientpref-1 vector-feature-limited-width-content-enabled vector-feature-custom-font-size-clientpref-0 vector-feature-client-preferences-disabled vector-feature-client-prefs-pinned-disabled vector-feature-night-mode-disabled skin-night-mode-clientpref-0 vector-toc-not-available\";var cookie=document.cookie.match(/(?:^|; )eswikimwclientpreferences=([^;]+)/);if(cookie){cookie[1].split('%2C').forEach(function(pref){className=className.replace(new RegExp('(^| )'+pref.replace(/-clientpref-\\w+$|[^\\w-]+/g,'')+'-clientpref-\\\\w+( |$)'),'$1'+pref+'$2');});}document.documentElement.className=className;}());RLCONF={\"wgBreakFrames\":false,\"wgSeparatorTransformTable\":[\",\\t.\",\" \\t,\"],\n",
            "\"wgDigitTransformTable\":[\"\",\"\"],\"wgDefaultDateFormat\":\"dmy\",\"wgMonthNames\":[\"\",\"enero\",\"febrero\",\"marzo\",\"abril\",\"mayo\",\"junio\",\"julio\",\"agosto\",\"septiembre\",\"octubre\",\"noviembre\",\"diciembre\"],\"wgRequestId\":\"970f82ab-536d-4fb9-b560-3f0389cf2f9a\",\"wgCanonicalNamespace\":\"Project\",\"wgCanonicalSpecialPageName\":false,\"wgNamespaceNumber\":4,\"wgPageName\":\"Wikipedia:Portada\",\"wgTitle\":\"Portada\",\"wgCurRevisionId\":149134229,\"wgRevisionId\":149134229,\"wgArticleId\":2271189,\"wgIsArticle\":true,\"wgIsRedirect\":false,\"wgAction\":\"view\",\"wgUserName\":null,\"wgUserGroups\":[\"*\"],\"wgCategories\":[],\"wgPageViewLanguage\":\"es\",\"wgPageContentLanguage\":\"es\",\"wgPageContentModel\":\"wikitext\",\"wgRelevantPageName\":\"Wikipedia:Portada\",\"wgRelevantArticleId\":2271189,\"wgIsProbablyEditable\":false,\"wgRelevantPageIsProbablyEditable\":false,\"wgRestrictionEdit\":[\"sysop\"],\"wgRestrictionMove\":[\"sysop\"],\"wgIsMainPage\":true,\"wgNoticeProject\":\"wikipedia\",\"wgMediaViewerOnClick\":true,\"wgMediaViewerEnabledByDefault\":true,\"wgPopupsFlags\":6,\n",
            "\"wgVisualEditor\":{\"pageLanguageCode\":\"es\",\"pageLanguageDir\":\"ltr\",\"pageVariantFallbacks\":\"es\"},\"wgMFDisplayWikibaseDescriptions\":{\"search\":true,\"watchlist\":true,\"tagline\":true,\"nearby\":true},\"wgWMESchemaEditAttemptStepOversample\":false,\"wgWMEPageLength\":3000,\"wgULSCurrentAutonym\":\"español\",\"wgCentralAuthMobileDomain\":false,\"wgEditSubmitButtonLabelPublish\":true,\"wgDiscussionToolsFeaturesEnabled\":{\"replytool\":true,\"newtopictool\":true,\"sourcemodetoolbar\":true,\"topicsubscription\":false,\"autotopicsub\":false,\"visualenhancements\":false,\"visualenhancements_reply\":false,\"visualenhancements_pageframe\":false},\"wgDiscussionToolsFallbackEditMode\":\"source\",\"wgULSPosition\":\"interlanguage\",\"wgULSisCompactLinksEnabled\":false,\"wgVector2022LanguageInHeader\":true,\"wgULSisLanguageSelectorEmpty\":false,\"wgWikibaseItemId\":\"Q5296\",\"wgCheckUserClientHintsHeadersJsApi\":[\"architecture\",\"bitness\",\"brands\",\"fullVersionList\",\"mobile\",\"model\",\"platform\",\"platformVersion\"],\"GEHomepageSuggestedEditsEnableTopics\":true,\n",
            "\"wgGETopicsMatchModeEnabled\":true,\"wgGEStructuredTaskRejectionReasonTextInputEnabled\":false,\"wgGELevelingUpEnabledForUser\":false};RLSTATE={\"skins.vector.user.styles\":\"ready\",\"ext.gadget.imagenesinfobox\":\"ready\",\"ext.globalCssJs.user.styles\":\"ready\",\"site.styles\":\"ready\",\"user.styles\":\"ready\",\"skins.vector.user\":\"ready\",\"ext.globalCssJs.user\":\"ready\",\"user\":\"ready\",\"user.options\":\"loading\",\"ext.discussionTools.init.styles\":\"ready\",\"oojs-ui-core.styles\":\"ready\",\"oojs-ui.styles.indicators\":\"ready\",\"mediawiki.widgets.styles\":\"ready\",\"oojs-ui-core.icons\":\"ready\",\"codex-search-styles\":\"ready\",\"skins.vector.styles\":\"ready\",\"skins.vector.icons\":\"ready\",\"jquery.makeCollapsible.styles\":\"ready\",\"mediawiki.ui.button\":\"ready\",\"ext.visualEditor.desktopArticleTarget.noscript\":\"ready\",\"ext.uls.interlanguage\":\"ready\",\"ext.wikimediaBadges\":\"ready\"};RLPAGEMODULES=[\"site\",\"mediawiki.page.ready\",\"jquery.makeCollapsible\",\"skins.vector.js\",\"ext.centralNotice.geoIP\",\"ext.centralNotice.startUp\",\n",
            "\"ext.gadget.a-commons-directo\",\"ext.gadget.ReferenceTooltips\",\"ext.gadget.refToolbar\",\"ext.gadget.switcher\",\"ext.urlShortener.toolbar\",\"ext.centralauth.centralautologin\",\"mmv.head\",\"mmv.bootstrap.autostart\",\"ext.popups\",\"ext.visualEditor.desktopArticleTarget.init\",\"ext.visualEditor.targetLoader\",\"ext.echo.centralauth\",\"ext.discussionTools.init\",\"ext.eventLogging\",\"ext.wikimediaEvents\",\"ext.navigationTiming\",\"ext.uls.interface\",\"ext.cx.eventlogging.campaigns\",\"wikibase.client.vector-2022\",\"ext.checkUser.clientHints\"];</script>\n",
            "<script>(RLQ=window.RLQ||[]).push(function(){mw.loader.impl(function(){return[\"user.options@12s5i\",function($,jQuery,require,module){mw.user.tokens.set({\"patrolToken\":\"+\\\\\",\"watchToken\":\"+\\\\\",\"csrfToken\":\"+\\\\\"});\n",
            "}];});});</script>\n",
            "<link rel=\"stylesheet\" href=\"/w/load.php?lang=es&amp;modules=codex-search-styles%7Cext.discussionTools.init.styles%7Cext.uls.interlanguage%7Cext.visualEditor.desktopArticleTarget.noscript%7Cext.wikimediaBadges%7Cjquery.makeCollapsible.styles%7Cmediawiki.ui.button%7Cmediawiki.widgets.styles%7Coojs-ui-core.icons%2Cstyles%7Coojs-ui.styles.indicators%7Cskins.vector.icons%2Cstyles&amp;only=styles&amp;skin=vector-2022\">\n",
            "<script async=\"\" src=\"/w/load.php?lang=es&amp;modules=startup&amp;only=scripts&amp;raw=1&amp;skin=vector-2022\"></script>\n",
            "<meta name=\"ResourceLoaderDynamicStyles\" content=\"\">\n",
            "<link rel=\"stylesheet\" href=\"/w/load.php?lang=es&amp;modules=ext.gadget.imagenesinfobox&amp;only=styles&amp;skin=vector-2022\">\n",
            "<link rel=\"stylesheet\" href=\"/w/load.php?lang=es&amp;modules=site.styles&amp;only=styles&amp;skin=vector-2022\">\n",
            "<noscript><link rel=\"stylesheet\" href=\"/w/load.php?lang=es&amp;modules=noscript&amp;only=styles&amp;skin=vector-2022\"></noscript>\n",
            "<meta name=\"generator\" content=\"MediaWiki 1.42.0-wmf.19\">\n",
            "<meta name=\"referrer\" content=\"origin\">\n",
            "<meta name=\"referrer\" content=\"origin-when-cross-origin\">\n",
            "<meta name=\"robots\" content=\"max-image-preview:standard\">\n",
            "<meta name=\"format-detection\" content=\"telephone=no\">\n",
            "<meta name=\"viewport\" content=\"width=1000\">\n",
            "<meta property=\"og:title\" content=\"Wikipedia, la enciclopedia libre\">\n",
            "<meta property=\"og:type\" content=\"website\">\n",
            "<link rel=\"preconnect\" href=\"//upload.wikimedia.org\">\n",
            "<link rel=\"alternate\" media=\"only screen and (max-width: 720px)\" href=\"//es.m.wikipedia.org/wiki/Wikipedia:Portada\">\n",
            "<link rel=\"apple-touch-icon\" href=\"/static/apple-touch/wikipedia.png\">\n",
            "<link rel=\"icon\" href=\"/static/favicon/wikipedia.ico\">\n",
            "<link rel=\"search\" type=\"application/opensearchdescription+xml\" href=\"/w/opensearch_desc.php\" title=\"Wikipedia (es)\">\n",
            "<link rel=\"EditURI\" type=\"application/rsd+xml\" href=\"//es.wikipedia.org/w/api.php?action=rsd\">\n",
            "<link rel=\"canonical\" href=\"https://es.wikipedia.org/wiki/Wikipedia:Portada\">\n",
            "<link rel=\"license\" href=\"https://creativecommons.org/licenses/by-sa/4.0/deed.es\">\n",
            "<link rel=\"alternate\" type=\"application/atom+xml\" title=\"Canal Atom de Wikipedia\" href=\"/w/index.php?title=Especial:CambiosRecientes&amp;feed=atom\">\n",
            "<link rel=\"dns-prefetch\" href=\"//meta.wikimedia.org\" />\n",
            "<link rel=\"dns-prefetch\" href=\"//login.wikimedia.org\">\n",
            "</head>\n",
            "<body class=\"ext-discussiontools-replytool-enabled ext-discussiontools-newtopictool-enabled ext-discussiontools-sourcemodetoolbar-enabled skin-vector skin-vector-search-vue mediawiki ltr sitedir-ltr mw-hide-empty-elt ns-4 ns-subject page-Wikipedia_Portada rootpage-Wikipedia_Portada skin-vector-2022 action-view\"><a class=\"mw-jump-link\" href=\"#bodyContent\">Ir al contenido</a>\n",
            "<div class=\"vector-header-container\">\n",
            "\t<header class=\"vector-header mw-header\">\n",
            "\t\t<div class=\"vector-header-start\">\n",
            "\t\t\t<nav class=\"vector-main-menu-landmark\" aria-label=\"Sitio\" role=\"navigation\">\n",
            "\t\t\t\t\n",
            "<div id=\"vector-main-menu-dropdown\" class=\"vector-dropdown vector-main-menu-dropdown vector-button-flush-left vector-button-flush-right\"  >\n",
            "\t<input type=\"checkbox\" id=\"vector-main-menu-dropdown-checkbox\" role=\"button\" aria-haspopup=\"true\" data-event-name=\"ui.dropdown-vector-main-menu-dropdown\" class=\"vector-dropdown-checkbox \"  aria-label=\"Menú principal\"  >\n",
            "\t<label id=\"vector-main-menu-dropdown-label\" for=\"vector-main-menu-dropdown-checkbox\" class=\"vector-dropdown-label cdx-button cdx-button--fake-button cdx-button--fake-button--enabled cdx-button--weight-quiet cdx-button--icon-only \" aria-hidden=\"true\"  ><span class=\"vector-icon mw-ui-icon-menu mw-ui-icon-wikimedia-menu\"></span>\n",
            "\n",
            "<span class=\"vector-dropdown-label-text\">Menú principal</span>\n",
            "\t</label>\n",
            "\t<div class=\"vector-dropdown-content\">\n",
            "\n",
            "\n",
            "\t\t\t\t<div id=\"vector-main-menu-unpinned-container\" class=\"vector-unpinned-container\">\n",
            "\t\t\n",
            "<div id=\"vector-main-menu\" class=\"vector-main-menu vector-pinnable-element\">\n",
            "\t<div\n",
            "\tclass=\"vector-pinnable-header vector-main-menu-pinnable-header vector-pinnable-header-unpinned\"\n",
            "\tdata-feature-name=\"main-menu-pinned\"\n",
            "\tdata-pinnable-element-id=\"vector-main-menu\"\n",
            "\tdata-pinned-container-id=\"vector-main-menu-pinned-container\"\n",
            "\tdata-unpinned-container-id=\"vector-main-menu-unpinned-container\"\n",
            ">\n",
            "\t<div class=\"vector-pinnable-header-label\">Menú principal</div>\n",
            "\t<button class=\"vector-pinnable-header-toggle-button vector-pinnable-header-pin-button\" data-event-name=\"pinnable-header.vector-main-menu.pin\">mover a la barra lateral</button>\n",
            "\t<button class=\"vector-pinnable-header-toggle-button vector-pinnable-header-unpin-button\" data-event-name=\"pinnable-header.vector-main-menu.unpin\">ocultar</button>\n",
            "</div>\n",
            "\n",
            "\t\n",
            "<div id=\"p-navigation\" class=\"vector-menu mw-portlet mw-portlet-navigation\"  >\n",
            "\t<div class=\"vector-menu-heading\">\n",
            "\t\tNavegación\n",
            "\t</div>\n",
            "\t<div class=\"vector-menu-content\">\n",
            "\t\t\n",
            "\t\t<ul class=\"vector-menu-content-list\">\n",
            "\t\t\t\n",
            "\t\t\t<li id=\"n-mainpage-description\" class=\"mw-list-item\"><a href=\"/wiki/Wikipedia:Portada\" title=\"Visitar la página principal [z]\" accesskey=\"z\"><span>Portada</span></a></li><li id=\"n-portal\" class=\"mw-list-item\"><a href=\"/wiki/Portal:Comunidad\" title=\"Acerca del proyecto, lo que puedes hacer, dónde encontrar información\"><span>Portal de la comunidad</span></a></li><li id=\"n-currentevents\" class=\"mw-list-item\"><a href=\"/wiki/Portal:Actualidad\" title=\"Encuentra información de contexto sobre acontecimientos actuales\"><span>Actualidad</span></a></li><li id=\"n-recentchanges\" class=\"mw-list-item\"><a href=\"/wiki/Especial:CambiosRecientes\" title=\"Lista de cambios recientes en la wiki [r]\" accesskey=\"r\"><span>Cambios recientes</span></a></li><li id=\"n-newpages\" class=\"mw-list-item\"><a href=\"/wiki/Especial:P%C3%A1ginasNuevas\"><span>Páginas nuevas</span></a></li><li id=\"n-randompage\" class=\"mw-list-item\"><a href=\"/wiki/Especial:Aleatoria\" title=\"Cargar una página al azar [x]\" accesskey=\"x\"><span>Página aleatoria</span></a></li><li id=\"n-help\" class=\"mw-list-item\"><a href=\"/wiki/Ayuda:Contenidos\" title=\"El lugar para aprender\"><span>Ayuda</span></a></li><li id=\"n-sitesupport\" class=\"mw-list-item\"><a href=\"//donate.wikimedia.org/wiki/Special:FundraiserRedirector?utm_source=donate&amp;utm_medium=sidebar&amp;utm_campaign=C13_es.wikipedia.org&amp;uselang=es\" title=\"Apóyanos\"><span>Donaciones</span></a></li><li id=\"n-bug_in_article\" class=\"mw-list-item\"><a href=\"/wiki/Wikipedia:Informes_de_error\"><span>Notificar un error</span></a></li>\n",
            "\t\t</ul>\n",
            "\t\t\n",
            "\t</div>\n",
            "</div>\n",
            "\n",
            "\t\n",
            "\t\n",
            "\t\n",
            "</div>\n",
            "\n",
            "\t\t\t\t</div>\n",
            "\n",
            "\t</div>\n",
            "</div>\n",
            "\n",
            "\t\t</nav>\n",
            "\t\t\t\n",
            "<a href=\"/wiki/Wikipedia:Portada\" class=\"mw-logo\">\n",
            "\t<img class=\"mw-logo-icon\" src=\"/static/images/icons/wikipedia.png\" alt=\"\" aria-hidden=\"true\" height=\"50\" width=\"50\">\n",
            "\t<span class=\"mw-logo-container\">\n",
            "\t\t<img class=\"mw-logo-wordmark\" alt=\"Wikipedia\" src=\"/static/images/mobile/copyright/wikipedia-wordmark-en.svg\" style=\"width: 7.5em; height: 1.125em;\">\n",
            "\t\t<img class=\"mw-logo-tagline\" alt=\"La enciclopedia libre\" src=\"/static/images/mobile/copyright/wikipedia-tagline-es.svg\" width=\"120\" height=\"13\" style=\"width: 7.5em; height: 0.8125em;\">\n",
            "\t</span>\n",
            "</a>\n",
            "\n",
            "\t\t</div>\n",
            "\t\t<div class=\"vector-header-end\">\n",
            "\t\t\t\n",
            "<div id=\"p-search\" role=\"search\" class=\"vector-search-box-vue  vector-search-box-collapses vector-search-box-show-thumbnail vector-search-box-auto-expand-width vector-search-box\">\n",
            "\t<a href=\"/wiki/Especial:Buscar\" class=\"cdx-button cdx-button--fake-button cdx-button--fake-button--enabled cdx-button--weight-quiet cdx-button--icon-only search-toggle\" id=\"\" title=\"Buscar en este wiki [f]\" accesskey=\"f\"><span class=\"vector-icon mw-ui-icon-search mw-ui-icon-wikimedia-search\"></span>\n",
            "\n",
            "<span>Buscar</span>\n",
            "\t</a>\n",
            "\t<div class=\"vector-typeahead-search-container\">\n",
            "\t\t<div class=\"cdx-typeahead-search cdx-typeahead-search--show-thumbnail cdx-typeahead-search--auto-expand-width\">\n",
            "\t\t\t<form action=\"/w/index.php\" id=\"searchform\" class=\"cdx-search-input cdx-search-input--has-end-button\">\n",
            "\t\t\t\t<div id=\"simpleSearch\" class=\"cdx-search-input__input-wrapper\"  data-search-loc=\"header-moved\">\n",
            "\t\t\t\t\t<div class=\"cdx-text-input cdx-text-input--has-start-icon\">\n",
            "\t\t\t\t\t\t<input\n",
            "\t\t\t\t\t\t\tclass=\"cdx-text-input__input\"\n",
            "\t\t\t\t\t\t\t type=\"search\" name=\"search\" placeholder=\"Buscar en Wikipedia\" aria-label=\"Buscar en Wikipedia\" autocapitalize=\"sentences\" title=\"Buscar en este wiki [f]\" accesskey=\"f\" id=\"searchInput\"\n",
            "\t\t\t\t\t\t\t>\n",
            "\t\t\t\t\t\t<span class=\"cdx-text-input__icon cdx-text-input__start-icon\"></span>\n",
            "\t\t\t\t\t</div>\n",
            "\t\t\t\t\t<input type=\"hidden\" name=\"title\" value=\"Especial:Buscar\">\n",
            "\t\t\t\t</div>\n",
            "\t\t\t\t<button class=\"cdx-button cdx-search-input__end-button\">Buscar</button>\n",
            "\t\t\t</form>\n",
            "\t\t</div>\n",
            "\t</div>\n",
            "</div>\n",
            "\n",
            "\t\t\t<nav class=\"vector-user-links vector-user-links-wide\" aria-label=\"Herramientas personales\" role=\"navigation\" >\n",
            "\t<div class=\"vector-user-links-main\">\n",
            "\t\n",
            "<div id=\"p-vector-user-menu-preferences\" class=\"vector-menu mw-portlet emptyPortlet\"  >\n",
            "\t<div class=\"vector-menu-content\">\n",
            "\t\t\n",
            "\t\t<ul class=\"vector-menu-content-list\">\n",
            "\t\t\t\n",
            "\t\t\t\n",
            "\t\t</ul>\n",
            "\t\t\n",
            "\t</div>\n",
            "</div>\n",
            "\n",
            "\t\n",
            "<div id=\"p-vector-user-menu-userpage\" class=\"vector-menu mw-portlet emptyPortlet\"  >\n",
            "\t<div class=\"vector-menu-content\">\n",
            "\t\t\n",
            "\t\t<ul class=\"vector-menu-content-list\">\n",
            "\t\t\t\n",
            "\t\t\t\n",
            "\t\t</ul>\n",
            "\t\t\n",
            "\t</div>\n",
            "</div>\n",
            "\n",
            "\t<nav class=\"vector-client-prefs-landmark\" aria-label=\"Tema\">\n",
            "\t\t\n",
            "\t\t\n",
            "\t</nav>\n",
            "\t\n",
            "<div id=\"p-vector-user-menu-notifications\" class=\"vector-menu mw-portlet emptyPortlet\"  >\n",
            "\t<div class=\"vector-menu-content\">\n",
            "\t\t\n",
            "\t\t<ul class=\"vector-menu-content-list\">\n",
            "\t\t\t\n",
            "\t\t\t\n",
            "\t\t</ul>\n",
            "\t\t\n",
            "\t</div>\n",
            "</div>\n",
            "\n",
            "\t\n",
            "<div id=\"p-vector-user-menu-overflow\" class=\"vector-menu mw-portlet\"  >\n",
            "\t<div class=\"vector-menu-content\">\n",
            "\t\t\n",
            "\t\t<ul class=\"vector-menu-content-list\">\n",
            "\t\t\t<li id=\"pt-createaccount-2\" class=\"user-links-collapsible-item mw-list-item user-links-collapsible-item\"><a data-mw=\"interface\" href=\"/w/index.php?title=Especial:Crear_una_cuenta&amp;returnto=Wikipedia%3APortada\" title=\"Te recomendamos crear una cuenta e iniciar sesión; sin embargo, no es obligatorio\" class=\"\"><span>Crear una cuenta</span></a>\n",
            "</li>\n",
            "<li id=\"pt-login-2\" class=\"user-links-collapsible-item mw-list-item user-links-collapsible-item\"><a data-mw=\"interface\" href=\"/w/index.php?title=Especial:Entrar&amp;returnto=Wikipedia%3APortada\" title=\"Te recomendamos iniciar sesión, aunque no es obligatorio [o]\" accesskey=\"o\" class=\"\"><span>Acceder</span></a>\n",
            "</li>\n",
            "\n",
            "\t\t\t\n",
            "\t\t</ul>\n",
            "\t\t\n",
            "\t</div>\n",
            "</div>\n",
            "\n",
            "\t</div>\n",
            "\t\n",
            "<div id=\"vector-user-links-dropdown\" class=\"vector-dropdown vector-user-menu vector-button-flush-right vector-user-menu-logged-out\"  title=\"Más opciones\" >\n",
            "\t<input type=\"checkbox\" id=\"vector-user-links-dropdown-checkbox\" role=\"button\" aria-haspopup=\"true\" data-event-name=\"ui.dropdown-vector-user-links-dropdown\" class=\"vector-dropdown-checkbox \"  aria-label=\"Herramientas personales\"  >\n",
            "\t<label id=\"vector-user-links-dropdown-label\" for=\"vector-user-links-dropdown-checkbox\" class=\"vector-dropdown-label cdx-button cdx-button--fake-button cdx-button--fake-button--enabled cdx-button--weight-quiet cdx-button--icon-only \" aria-hidden=\"true\"  ><span class=\"vector-icon mw-ui-icon-ellipsis mw-ui-icon-wikimedia-ellipsis\"></span>\n",
            "\n",
            "<span class=\"vector-dropdown-label-text\">Herramientas personales</span>\n",
            "\t</label>\n",
            "\t<div class=\"vector-dropdown-content\">\n",
            "\n",
            "\n",
            "\t\t\n",
            "<div id=\"p-personal\" class=\"vector-menu mw-portlet mw-portlet-personal user-links-collapsible-item\"  title=\"Menú de usuario\" >\n",
            "\t<div class=\"vector-menu-content\">\n",
            "\t\t\n",
            "\t\t<ul class=\"vector-menu-content-list\">\n",
            "\t\t\t\n",
            "\t\t\t<li id=\"pt-createaccount\" class=\"user-links-collapsible-item mw-list-item\"><a href=\"/w/index.php?title=Especial:Crear_una_cuenta&amp;returnto=Wikipedia%3APortada\" title=\"Te recomendamos crear una cuenta e iniciar sesión; sin embargo, no es obligatorio\"><span class=\"vector-icon mw-ui-icon-userAdd mw-ui-icon-wikimedia-userAdd\"></span> <span>Crear una cuenta</span></a></li><li id=\"pt-login\" class=\"user-links-collapsible-item mw-list-item\"><a href=\"/w/index.php?title=Especial:Entrar&amp;returnto=Wikipedia%3APortada\" title=\"Te recomendamos iniciar sesión, aunque no es obligatorio [o]\" accesskey=\"o\"><span class=\"vector-icon mw-ui-icon-logIn mw-ui-icon-wikimedia-logIn\"></span> <span>Acceder</span></a></li>\n",
            "\t\t</ul>\n",
            "\t\t\n",
            "\t</div>\n",
            "</div>\n",
            "\n",
            "<div id=\"p-user-menu-anon-editor\" class=\"vector-menu mw-portlet mw-portlet-user-menu-anon-editor\"  >\n",
            "\t<div class=\"vector-menu-heading\">\n",
            "\t\tPáginas para editores desconectados <a href=\"/wiki/Ayuda:Introducci%C3%B3n\" aria-label=\"Obtenga más información sobre editar\"><span>más información</span></a>\n",
            "\t</div>\n",
            "\t<div class=\"vector-menu-content\">\n",
            "\t\t\n",
            "\t\t<ul class=\"vector-menu-content-list\">\n",
            "\t\t\t\n",
            "\t\t\t<li id=\"pt-anoncontribs\" class=\"mw-list-item\"><a href=\"/wiki/Especial:MisContribuciones\" title=\"Una lista de modificaciones hechas desde esta dirección IP [y]\" accesskey=\"y\"><span>Contribuciones</span></a></li><li id=\"pt-anontalk\" class=\"mw-list-item\"><a href=\"/wiki/Especial:MiDiscusi%C3%B3n\" title=\"Discusión sobre ediciones hechas desde esta dirección IP [n]\" accesskey=\"n\"><span>Discusión</span></a></li>\n",
            "\t\t</ul>\n",
            "\t\t\n",
            "\t</div>\n",
            "</div>\n",
            "\n",
            "\t\n",
            "\t</div>\n",
            "</div>\n",
            "\n",
            "</nav>\n",
            "\n",
            "\t\t</div>\n",
            "\t</header>\n",
            "</div>\n",
            "<div class=\"mw-page-container\">\n",
            "\t<div class=\"mw-page-container-inner\">\n",
            "\t\t<div class=\"vector-sitenotice-container\">\n",
            "\t\t\t<div id=\"siteNotice\"><!-- CentralNotice --></div>\n",
            "\t\t</div>\n",
            "\t\t<div class=\"vector-column-start\">\n",
            "\t\t\t<div class=\"vector-main-menu-container\">\n",
            "\t\t<div id=\"mw-navigation\">\n",
            "\t\t\t<nav id=\"mw-panel\" class=\"vector-main-menu-landmark\" aria-label=\"Sitio\" role=\"navigation\">\n",
            "\t\t\t\t<div id=\"vector-main-menu-pinned-container\" class=\"vector-pinned-container\">\n",
            "\t\t\t\t\n",
            "\t\t\t\t</div>\n",
            "\t\t</nav>\n",
            "\t\t</div>\n",
            "\t</div>\n",
            "</div>\n",
            "\t\t<div class=\"mw-content-container\">\n",
            "\t\t\t<main id=\"content\" class=\"mw-body\" role=\"main\">\n",
            "\t\t\t\t<header class=\"mw-body-header vector-page-titlebar\">\n",
            "\t\t\t\t\t<h1 id=\"firstHeading\" class=\"firstHeading mw-first-heading\"><span class=\"mw-page-title-namespace\">Wikipedia</span><span class=\"mw-page-title-separator\">:</span><span class=\"mw-page-title-main\">Portada</span></h1>\n",
            "\t\t\t\t\t\t<div class=\"mw-indicators\">\n",
            "\t\t</div>\n",
            "</header>\n",
            "\t\t\t\t<div class=\"vector-page-toolbar\">\n",
            "\t\t\t\t\t<div class=\"vector-page-toolbar-container\">\n",
            "\t\t\t\t\t\t<div id=\"left-navigation\">\n",
            "\t\t\t\t\t\t\t<nav aria-label=\"Espacios de nombres\">\n",
            "\t\t\t\t\t\t\t\t\n",
            "<div id=\"p-associated-pages\" class=\"vector-menu vector-menu-tabs mw-portlet mw-portlet-associated-pages\"  >\n",
            "\t<div class=\"vector-menu-content\">\n",
            "\t\t\n",
            "\t\t<ul class=\"vector-menu-content-list\">\n",
            "\t\t\t\n",
            "\t\t\t<li id=\"ca-nstab-project\" class=\"selected vector-tab-noicon mw-list-item\"><a href=\"/wiki/Wikipedia:Portada\" title=\"Ver la página del proyecto [c]\" accesskey=\"c\"><span>Portada</span></a></li><li id=\"ca-talk\" class=\"vector-tab-noicon mw-list-item\"><a href=\"/wiki/Wikipedia_discusi%C3%B3n:Portada\" rel=\"discussion\" title=\"Discusión acerca de la página [t]\" accesskey=\"t\"><span>Discusión</span></a></li>\n",
            "\t\t</ul>\n",
            "\t\t\n",
            "\t</div>\n",
            "</div>\n",
            "\n",
            "\t\t\t\t\t\t\t\t\n",
            "<div id=\"p-variants\" class=\"vector-dropdown emptyPortlet\"  >\n",
            "\t<input type=\"checkbox\" id=\"p-variants-checkbox\" role=\"button\" aria-haspopup=\"true\" data-event-name=\"ui.dropdown-p-variants\" class=\"vector-dropdown-checkbox \" aria-label=\"Cambiar variante de idioma\"   >\n",
            "\t<label id=\"p-variants-label\" for=\"p-variants-checkbox\" class=\"vector-dropdown-label cdx-button cdx-button--fake-button cdx-button--fake-button--enabled cdx-button--weight-quiet\" aria-hidden=\"true\"  ><span class=\"vector-dropdown-label-text\">español</span>\n",
            "\t</label>\n",
            "\t<div class=\"vector-dropdown-content\">\n",
            "\n",
            "\n",
            "\t\t\t\t\t\n",
            "<div id=\"p-variants\" class=\"vector-menu mw-portlet mw-portlet-variants emptyPortlet\"  >\n",
            "\t<div class=\"vector-menu-content\">\n",
            "\t\t\n",
            "\t\t<ul class=\"vector-menu-content-list\">\n",
            "\t\t\t\n",
            "\t\t\t\n",
            "\t\t</ul>\n",
            "\t\t\n",
            "\t</div>\n",
            "</div>\n",
            "\n",
            "\t\t\t\t\n",
            "\t</div>\n",
            "</div>\n",
            "\n",
            "\t\t\t\t\t\t\t</nav>\n",
            "\t\t\t\t\t\t</div>\n",
            "\t\t\t\t\t\t<div id=\"right-navigation\" class=\"vector-collapsible\">\n",
            "\t\t\t\t\t\t\t<nav aria-label=\"Vistas\">\n",
            "\t\t\t\t\t\t\t\t\n",
            "<div id=\"p-views\" class=\"vector-menu vector-menu-tabs mw-portlet mw-portlet-views\"  >\n",
            "\t<div class=\"vector-menu-content\">\n",
            "\t\t\n",
            "\t\t<ul class=\"vector-menu-content-list\">\n",
            "\t\t\t\n",
            "\t\t\t<li id=\"ca-view\" class=\"selected vector-tab-noicon mw-list-item\"><a href=\"/wiki/Wikipedia:Portada\"><span>Leer</span></a></li><li id=\"ca-viewsource\" class=\"vector-tab-noicon mw-list-item\"><a href=\"/w/index.php?title=Wikipedia:Portada&amp;action=edit\" title=\"Esta página está protegida, pero puedes ver su código fuente [e]\" accesskey=\"e\"><span>Ver código fuente</span></a></li><li id=\"ca-history\" class=\"vector-tab-noicon mw-list-item\"><a href=\"/w/index.php?title=Wikipedia:Portada&amp;action=history\" title=\"Versiones anteriores de esta página [h]\" accesskey=\"h\"><span>Ver historial</span></a></li>\n",
            "\t\t</ul>\n",
            "\t\t\n",
            "\t</div>\n",
            "</div>\n",
            "\n",
            "\t\t\t\t\t\t\t</nav>\n",
            "\t\t\t\t\n",
            "\t\t\t\t\t\t\t<nav class=\"vector-page-tools-landmark\" aria-label=\"Página de herramientas\">\n",
            "\t\t\t\t\t\t\t\t\n",
            "<div id=\"vector-page-tools-dropdown\" class=\"vector-dropdown vector-page-tools-dropdown\"  >\n",
            "\t<input type=\"checkbox\" id=\"vector-page-tools-dropdown-checkbox\" role=\"button\" aria-haspopup=\"true\" data-event-name=\"ui.dropdown-vector-page-tools-dropdown\" class=\"vector-dropdown-checkbox \"  aria-label=\"Herramientas\"  >\n",
            "\t<label id=\"vector-page-tools-dropdown-label\" for=\"vector-page-tools-dropdown-checkbox\" class=\"vector-dropdown-label cdx-button cdx-button--fake-button cdx-button--fake-button--enabled cdx-button--weight-quiet\" aria-hidden=\"true\"  ><span class=\"vector-dropdown-label-text\">Herramientas</span>\n",
            "\t</label>\n",
            "\t<div class=\"vector-dropdown-content\">\n",
            "\n",
            "\n",
            "\t\t\t\t\t\t\t\t\t<div id=\"vector-page-tools-unpinned-container\" class=\"vector-unpinned-container\">\n",
            "\t\t\t\t\t\t\n",
            "<div id=\"vector-page-tools\" class=\"vector-page-tools vector-pinnable-element\">\n",
            "\t<div\n",
            "\tclass=\"vector-pinnable-header vector-page-tools-pinnable-header vector-pinnable-header-unpinned\"\n",
            "\tdata-feature-name=\"page-tools-pinned\"\n",
            "\tdata-pinnable-element-id=\"vector-page-tools\"\n",
            "\tdata-pinned-container-id=\"vector-page-tools-pinned-container\"\n",
            "\tdata-unpinned-container-id=\"vector-page-tools-unpinned-container\"\n",
            ">\n",
            "\t<div class=\"vector-pinnable-header-label\">Herramientas</div>\n",
            "\t<button class=\"vector-pinnable-header-toggle-button vector-pinnable-header-pin-button\" data-event-name=\"pinnable-header.vector-page-tools.pin\">mover a la barra lateral</button>\n",
            "\t<button class=\"vector-pinnable-header-toggle-button vector-pinnable-header-unpin-button\" data-event-name=\"pinnable-header.vector-page-tools.unpin\">ocultar</button>\n",
            "</div>\n",
            "\n",
            "\t\n",
            "<div id=\"p-cactions\" class=\"vector-menu mw-portlet mw-portlet-cactions emptyPortlet vector-has-collapsible-items\"  title=\"Más opciones\" >\n",
            "\t<div class=\"vector-menu-heading\">\n",
            "\t\tAcciones\n",
            "\t</div>\n",
            "\t<div class=\"vector-menu-content\">\n",
            "\t\t\n",
            "\t\t<ul class=\"vector-menu-content-list\">\n",
            "\t\t\t\n",
            "\t\t\t<li id=\"ca-more-view\" class=\"selected vector-more-collapsible-item mw-list-item\"><a href=\"/wiki/Wikipedia:Portada\"><span>Leer</span></a></li><li id=\"ca-more-viewsource\" class=\"vector-more-collapsible-item mw-list-item\"><a href=\"/w/index.php?title=Wikipedia:Portada&amp;action=edit\"><span>Ver código fuente</span></a></li><li id=\"ca-more-history\" class=\"vector-more-collapsible-item mw-list-item\"><a href=\"/w/index.php?title=Wikipedia:Portada&amp;action=history\"><span>Ver historial</span></a></li>\n",
            "\t\t</ul>\n",
            "\t\t\n",
            "\t</div>\n",
            "</div>\n",
            "\n",
            "<div id=\"p-tb\" class=\"vector-menu mw-portlet mw-portlet-tb\"  >\n",
            "\t<div class=\"vector-menu-heading\">\n",
            "\t\tGeneral\n",
            "\t</div>\n",
            "\t<div class=\"vector-menu-content\">\n",
            "\t\t\n",
            "\t\t<ul class=\"vector-menu-content-list\">\n",
            "\t\t\t\n",
            "\t\t\t<li id=\"t-whatlinkshere\" class=\"mw-list-item\"><a href=\"/wiki/Especial:LoQueEnlazaAqu%C3%AD/Wikipedia:Portada\" title=\"Lista de todas las páginas de la wiki que enlazan aquí [j]\" accesskey=\"j\"><span>Lo que enlaza aquí</span></a></li><li id=\"t-recentchangeslinked\" class=\"mw-list-item\"><a href=\"/wiki/Especial:CambiosEnEnlazadas/Wikipedia:Portada\" rel=\"nofollow\" title=\"Cambios recientes en las páginas que enlazan con esta [k]\" accesskey=\"k\"><span>Cambios en enlazadas</span></a></li><li id=\"t-upload\" class=\"mw-list-item\"><a href=\"//commons.wikimedia.org/wiki/Special:UploadWizard?uselang=es\" title=\"Subir archivos [u]\" accesskey=\"u\"><span>Subir archivo</span></a></li><li id=\"t-specialpages\" class=\"mw-list-item\"><a href=\"/wiki/Especial:P%C3%A1ginasEspeciales\" title=\"Lista de todas las páginas especiales [q]\" accesskey=\"q\"><span>Páginas especiales</span></a></li><li id=\"t-permalink\" class=\"mw-list-item\"><a href=\"/w/index.php?title=Wikipedia:Portada&amp;oldid=149134229\" title=\"Enlace permanente a esta versión de la página\"><span>Enlace permanente</span></a></li><li id=\"t-info\" class=\"mw-list-item\"><a href=\"/w/index.php?title=Wikipedia:Portada&amp;action=info\" title=\"Más información sobre esta página\"><span>Información de la página</span></a></li><li id=\"t-urlshortener\" class=\"mw-list-item\"><a href=\"/w/index.php?title=Especial:Acortador_de_URL&amp;url=https%3A%2F%2Fes.wikipedia.org%2Fwiki%2FWikipedia%3APortada\"><span>Obtener URL acortado</span></a></li><li id=\"t-urlshortener-qrcode\" class=\"mw-list-item\"><a href=\"/w/index.php?title=Especial:QrCode&amp;url=https%3A%2F%2Fes.wikipedia.org%2Fwiki%2FWikipedia%3APortada\"><span>Descargar código QR</span></a></li><li id=\"t-wikibase\" class=\"mw-list-item\"><a href=\"https://www.wikidata.org/wiki/Special:EntityPage/Q5296\" title=\"Enlace al elemento conectado del repositorio de datos [g]\" accesskey=\"g\"><span>Elemento de Wikidata</span></a></li>\n",
            "\t\t</ul>\n",
            "\t\t\n",
            "\t</div>\n",
            "</div>\n",
            "\n",
            "<div id=\"p-coll-print_export\" class=\"vector-menu mw-portlet mw-portlet-coll-print_export\"  >\n",
            "\t<div class=\"vector-menu-heading\">\n",
            "\t\tImprimir/exportar\n",
            "\t</div>\n",
            "\t<div class=\"vector-menu-content\">\n",
            "\t\t\n",
            "\t\t<ul class=\"vector-menu-content-list\">\n",
            "\t\t\t\n",
            "\t\t\t<li id=\"coll-create_a_book\" class=\"mw-list-item\"><a href=\"/w/index.php?title=Especial:Libro&amp;bookcmd=book_creator&amp;referer=Wikipedia%3APortada\"><span>Crear un libro</span></a></li><li id=\"coll-download-as-rl\" class=\"mw-list-item\"><a href=\"/w/index.php?title=Especial:DownloadAsPdf&amp;page=Wikipedia%3APortada&amp;action=show-download-screen\"><span>Descargar como PDF</span></a></li><li id=\"t-print\" class=\"mw-list-item\"><a href=\"/w/index.php?title=Wikipedia:Portada&amp;printable=yes\" title=\"Versión imprimible de esta página [p]\" accesskey=\"p\"><span>Versión para imprimir</span></a></li>\n",
            "\t\t</ul>\n",
            "\t\t\n",
            "\t</div>\n",
            "</div>\n",
            "\n",
            "<div id=\"p-wikibase-otherprojects\" class=\"vector-menu mw-portlet mw-portlet-wikibase-otherprojects\"  >\n",
            "\t<div class=\"vector-menu-heading\">\n",
            "\t\tEn otros proyectos\n",
            "\t</div>\n",
            "\t<div class=\"vector-menu-content\">\n",
            "\t\t\n",
            "\t\t<ul class=\"vector-menu-content-list\">\n",
            "\t\t\t\n",
            "\t\t\t<li class=\"wb-otherproject-link wb-otherproject-commons mw-list-item\"><a href=\"https://commons.wikimedia.org/wiki/Main_Page\" hreflang=\"en\"><span>Wikimedia Commons</span></a></li><li class=\"wb-otherproject-link wb-otherproject-foundation mw-list-item\"><a href=\"https://foundation.wikimedia.org/wiki/Home\" hreflang=\"en\"><span>Fundación Wikimedia</span></a></li><li class=\"wb-otherproject-link wb-otherproject-mediawiki mw-list-item\"><a href=\"https://www.mediawiki.org/wiki/MediaWiki\" hreflang=\"en\"><span>MediaWiki</span></a></li><li class=\"wb-otherproject-link wb-otherproject-meta mw-list-item\"><a href=\"https://meta.wikimedia.org/wiki/Main_Page\" hreflang=\"en\"><span>Meta-Wiki</span></a></li><li class=\"wb-otherproject-link wb-otherproject-outreach mw-list-item\"><a href=\"https://outreach.wikimedia.org/wiki/Main_Page\" hreflang=\"en\"><span>Divulgación de Wikimedia</span></a></li><li class=\"wb-otherproject-link wb-otherproject-sources mw-list-item\"><a href=\"https://wikisource.org/wiki/Main_Page\" hreflang=\"en\"><span>Wikisource multilingüe</span></a></li><li class=\"wb-otherproject-link wb-otherproject-species mw-list-item\"><a href=\"https://species.wikimedia.org/wiki/Main_Page\" hreflang=\"en\"><span>Wikiespecies</span></a></li><li class=\"wb-otherproject-link wb-otherproject-wikibooks mw-list-item\"><a href=\"https://es.wikibooks.org/wiki/Portada\" hreflang=\"es\"><span>Wikilibros</span></a></li><li class=\"wb-otherproject-link wb-otherproject-wikidata mw-list-item\"><a href=\"https://www.wikidata.org/wiki/Wikidata:Main_Page\" hreflang=\"en\"><span>Wikidata</span></a></li><li class=\"wb-otherproject-link wb-otherproject-wikifunctions mw-list-item\"><a href=\"https://www.wikifunctions.org/wiki/Wikifunctions:Main_Page\" hreflang=\"en\"><span>Wikifunciones</span></a></li><li class=\"wb-otherproject-link wb-otherproject-wikimania badge-Q70894304 mw-list-item\" title=\"\"><a href=\"https://wikimania.wikimedia.org/wiki/Wikimania\" hreflang=\"en\"><span>Wikimanía</span></a></li><li class=\"wb-otherproject-link wb-otherproject-wikinews mw-list-item\"><a href=\"https://es.wikinews.org/wiki/Portada\" hreflang=\"es\"><span>Wikinoticias</span></a></li><li class=\"wb-otherproject-link wb-otherproject-wikiquote mw-list-item\"><a href=\"https://es.wikiquote.org/wiki/Portada\" hreflang=\"es\"><span>Wikiquote</span></a></li><li class=\"wb-otherproject-link wb-otherproject-wikisource mw-list-item\"><a href=\"https://es.wikisource.org/wiki/Portada\" hreflang=\"es\"><span>Wikisource</span></a></li><li class=\"wb-otherproject-link wb-otherproject-wikiversity mw-list-item\"><a href=\"https://es.wikiversity.org/wiki/Portada\" hreflang=\"es\"><span>Wikiversidad</span></a></li><li class=\"wb-otherproject-link wb-otherproject-wikivoyage mw-list-item\"><a href=\"https://es.wikivoyage.org/wiki/P%C3%A1gina_principal\" hreflang=\"es\"><span>Wikiviajes</span></a></li><li class=\"wb-otherproject-link wb-otherproject-wiktionary mw-list-item\"><a href=\"https://es.wiktionary.org/wiki/Wikcionario:Portada\" hreflang=\"es\"><span>Wikcionario</span></a></li>\n",
            "\t\t</ul>\n",
            "\t\t\n",
            "\t</div>\n",
            "</div>\n",
            "\n",
            "</div>\n",
            "\n",
            "\t\t\t\t\t\t\t\t\t</div>\n",
            "\t\t\t\t\n",
            "\t</div>\n",
            "</div>\n",
            "\n",
            "\t\t\t\t\t\t\t</nav>\n",
            "\t\t\t\t\t\t</div>\n",
            "\t\t\t\t\t</div>\n",
            "\t\t\t\t</div>\n",
            "\t\t\t\t<div class=\"vector-column-end\">\n",
            "\t\t\t\t\t<div class=\"vector-sticky-pinned-container\">\n",
            "\t\t\t\t\t\t<nav class=\"vector-page-tools-landmark\" aria-label=\"Página de herramientas\">\n",
            "\t\t\t\t\t\t\t<div id=\"vector-page-tools-pinned-container\" class=\"vector-pinned-container\">\n",
            "\t\t\t\t\n",
            "\t\t\t\t\t\t\t</div>\n",
            "\t\t</nav>\n",
            "\t\t\t\t\t\t<nav class=\"vector-client-prefs-landmark\" aria-label=\"Tema\">\n",
            "\t\t\t\t\t\t</nav>\n",
            "\t\t\t\t\t</div>\n",
            "\t\t\t\t</div>\n",
            "\t\t\t\t<div id=\"bodyContent\" class=\"vector-body\" aria-labelledby=\"firstHeading\" data-mw-ve-target-container>\n",
            "\t\t\t\t\t<div class=\"vector-body-before-content\">\n",
            "\t\t\t\t\t\n",
            "\t\t\t\t\t\t<div id=\"siteSub\" class=\"noprint\">De Wikipedia, la enciclopedia libre</div>\n",
            "\t\t\t\t\t</div>\n",
            "\t\t\t\t\t<div id=\"contentSub\"><div id=\"mw-content-subtitle\"></div></div>\n",
            "\t\t\t\t\t\n",
            "\t\t\t\t\t\n",
            "\t\t\t\t\t<div id=\"mw-content-text\" class=\"mw-body-content\"><div class=\"mw-content-ltr mw-parser-output\" lang=\"es\" dir=\"ltr\"><style data-mw-deduplicate=\"TemplateStyles:r144107000\">.mw-parser-output .main-header{border-bottom-color:transparent;margin-bottom:0.25em;margin-top:0;padding-bottom:0;padding-top:0}.mw-parser-output .main-plainlist>ul{list-style:none;margin:0;padding:0}.mw-parser-output .main-plainlist li{margin-bottom:0}.mw-parser-output .main-top-right .mw-ui-quiet:hover,.mw-parser-output .main-top-right .mw-ui-quiet:focus,.mw-parser-output .main-footer .mw-ui-quiet:hover,.mw-parser-output .main-footer .mw-ui-quiet:focus{color:#0645ad}.mw-parser-output .mw-headline-number{display:none}@media(min-width:720px){.mw-parser-output .main-wikimedia{padding-top:1rem;padding-left:1rem;padding-right:1rem}}@media(min-width:1000px){.mw-parser-output .main-wrapper{display:flex;margin:0 -0.5rem}.mw-parser-output .main-wrapper-column{flex:1;margin:0 0.5rem}.mw-parser-output .main-wikimedia{padding-top:1rem;padding-left:1rem;padding-right:1rem}}@media(min-width:1000px){.mw-parser-output .main-wrapper-column{width:55%}.mw-parser-output .main-wrapper-column+.main-wrapper-column{width:45%}.mw-parser-output .main-wrapper-column{flex:inherit}}.mw-parser-output .main-box-image-only div{width:auto!important}body.skin-timeless .mw-parser-output .main-box-header:after,body.skin-timeless .mw-parser-output .main-top-header:after{border-bottom:0 solid transparent}</style>\n",
            "<style data-mw-deduplicate=\"TemplateStyles:r144107009\">.mw-parser-output .main-top{font-size:1rem;margin-top:1rem;padding-bottom:1.5rem}.mw-parser-output .main-top-left>p{font-size:0.875em;margin:0}.mw-parser-output .main-top-right{font-size:0.875em;margin-top:0.5em}.mw-parser-output .main-top-right>ul{display:none;margin-top:0.5rem}.mw-parser-output .main-top-right .mw-ui-button.mw-ui-quiet{padding-right:0}.mw-parser-output .main-top-header{border-bottom:0;margin-bottom:0;margin-top:0}.mw-parser-output .main-top-articleCount{margin-bottom:0}body.skin-minerva .mw-parser-output .main-top-articleCount{display:none}.mw-parser-output .main-top-mobileSearch{display:none;margin-top:1rem}body.skin-minerva .mw-parser-output .main-top-mobileSearch{display:block}.mw-parser-output .main-top-mobileSearchButton{background:#fff;border:none;box-shadow:0 2px 2px 0 rgba(0,0,0,0.25);color:#72777d;font-weight:normal;max-width:none;text-align:left;width:100%}@media(min-width:720px){.mw-parser-output .main-top{background-color:#f8f9fa;border:1px solid #c8ccd1;border-radius:2px;box-shadow:0 1px 1px rgba(0,0,0,.15);margin-bottom:1rem;padding:1rem}.mw-parser-output .main-top-right>ul{display:flex;flex-wrap:wrap}.mw-parser-output .main-top-articleCount{margin-bottom:0.5rem}body.skin-minerva .mw-parser-output .main-top-articleCount{display:block}body.skin-minerva .mw-parser-output .main-top-mobileSearch{display:none}}@media(min-width:1000px){.mw-parser-output .main-top{align-items:center;background-image:url(\"https://upload.wikimedia.org/wikipedia/commons/e/e3/Wikipedia_logo_letters_banner.svg\");background-position:right;background-repeat:no-repeat;display:flex;margin-bottom:1rem;margin-top:0.5rem;padding:0 1.5rem 0 0}.mw-parser-output .main-top-left{background-image:linear-gradient(to right,#f8f9fa 0%,#f8f9fa 70%,rgba(248,249,250,0)100%);flex:2;padding:2rem 0 2rem 1.5rem}.mw-parser-output .main-top-right{flex:3;margin-top:0;text-align:right}.mw-parser-output .main-top-right>ul{align-items:center;flex-direction:row-reverse;margin-top:0;text-align:left}.mw-parser-output .main-top-createArticle+li .mw-ui-button.mw-ui-quiet{padding-right:1em}}body.skin-modern .mw-parser-output .main-top-header{line-height:1.8rem;font-size:1.8rem}</style>\n",
            "<div class=\"main-top\">\n",
            "<div class=\"main-top-left\">\n",
            "<h1 class=\"main-top-header\"><span id=\"Bienvenidos_a_Wikipedia.2C\"></span><span class=\"mw-headline\" id=\"Bienvenidos_a_Wikipedia,\" data-mw-thread-id=\"h-Bienvenidos_a_Wikipedia,\"><span data-mw-comment-start=\"\" id=\"h-Bienvenidos_a_Wikipedia,\"></span><a href=\"/wiki/Wikipedia:Bienvenidos\" title=\"Wikipedia:Bienvenidos\">Bienvenidos</a> a Wikipedia,<span data-mw-comment-end=\"h-Bienvenidos_a_Wikipedia,\"></span></span></h1>\n",
            "<p>la enciclopedia de contenido libre<br/>que <a href=\"/wiki/Ayuda:Introducci%C3%B3n\" title=\"Ayuda:Introducción\">todos pueden editar</a>.\n",
            "</p>\n",
            "<div class=\"main-top-mobileSearch\"><a href=\"/wiki/Especial:Buscar\" title=\"Especial:Buscar\"><span class=\"mw-ui-button main-top-mobileSearchButton skin-minerva-search-trigger\">Buscar en 1 934 248 artículos</span></a></div>\n",
            "</div>\n",
            "<div class=\"main-top-right main-plainlist\">\n",
            "<p class=\"main-top-articleCount\"><b><a href=\"/wiki/Especial:Estad%C3%ADsticas\" title=\"Especial:Estadísticas\">1 934 248</a></b> artículos <a href=\"/wiki/Wikipedia_en_espa%C3%B1ol\" title=\"Wikipedia en español\">en español</a>.</p>\n",
            "<ul>\n",
            "<li><a href=\"/wiki/Wikipedia:Caf%C3%A9\" title=\"Wikipedia:Café\"><span class=\"mw-ui-button mw-ui-quiet\">Café</span></a></li>\n",
            "<li><a href=\"/wiki/Ayuda:C%C3%B3mo_puedes_colaborar\" title=\"Ayuda:Cómo puedes colaborar\"><span class=\"mw-ui-button mw-ui-quiet\">¿Cómo colaborar?</span></a></li>\n",
            "<li><a href=\"/wiki/Ayuda:Introducci%C3%B3n\" title=\"Ayuda:Introducción\"><span class=\"mw-ui-button mw-ui-quiet\">Primeros pasos</span></a></li>\n",
            "<li><a href=\"/wiki/Ayuda:Contenidos\" title=\"Ayuda:Contenidos\"><span class=\"mw-ui-button mw-ui-quiet\">Ayuda</span></a></li>\n",
            "<li><a href=\"/wiki/Wikipedia:Contacto\" title=\"Wikipedia:Contacto\"><span class=\"mw-ui-button mw-ui-quiet\">Contacto</span></a></li>\n",
            "</ul>\n",
            "</div>\n",
            "</div>\n",
            "<div class=\"main-wrapper\">\n",
            "<div class=\"main-wrapper-column\">\n",
            "<style data-mw-deduplicate=\"TemplateStyles:r144107018\">.mw-parser-output .main-box{background:#fff;border:solid #c8ccd1;border-width:1px 0;box-shadow:0 1px 1px rgba(0,0,0,0.15);margin:0 -1rem 1rem;padding:1rem}.mw-parser-output .main-box>p:last-child{margin-bottom:0}.mw-parser-output .main-box-image-only>.main-box-content{margin:0.5rem -1rem 0;text-align:center}.mw-parser-output .main-box-image-only>.main-box-content img{height:auto;max-width:100%}.mw-parser-output .main-box-imageCaption{text-align:center}.mw-parser-output .main-box-imageCaption>p{display:inline-block;margin-bottom:0;text-align:left}.mw-parser-output .main-box-section{color:#72777d;line-height:1.25;margin-top:-.125em}.mw-parser-output .main-box-header{margin-top:-.15em}.mw-parser-output .main-box-header a{color:inherit}.mw-parser-output .main-box-section+.main-box-header{margin-top:0}.mw-parser-output .main-box-header a:focus,.mw-parser-output .main-box:hover .main-box-header a,.mw-parser-output .main-box:hover .main-featuredLists-item>a{color:#0645ad}.mw-parser-output .main-footer{display:flex;justify-content:flex-end;margin-top:1rem;position:relative}.mw-parser-output .main-footer:empty{display:none}.mw-parser-output .main-footer-actions{flex:1}.mw-parser-output .main-footer-actions>ul{align-items:center;display:flex}.mw-parser-output .main-footer-menu{align-items:stretch;display:flex}.mw-parser-output .main-footer-menuToggle{align-items:center;display:flex;float:none;height:100%;opacity:0.87}.mw-parser-output .main-footer-menuToggle:hover{opacity:0.51}.mw-parser-output .main-footer-menuDropdown{background:#fff;border:1px solid #a2a9b1;border-radius:2px;box-shadow:0 2px 2px 0 rgba(0,0,0,0.25);max-width:15em;position:absolute;right:0;top:100%;z-index:100}.mw-parser-output .main-footer-menuDropdown .mw-ui-button{text-align:left;width:100%}@media(max-width:719px){.mw-parser-output .main-box-responsive-image>.floatleft,.mw-parser-output .main-box-responsive-image>.floatright{float:none;margin-left:-1rem;margin-right:-1rem;text-align:center}.mw-parser-output .main-box-responsive-image>.floatleft>a,.mw-parser-output .main-box-responsive-image>.floatright>a{display:block}}@media(min-width:720px){.mw-parser-output .main-box{border-radius:2px;border-width:1px;margin-bottom:1rem;margin-left:0;margin-right:0}}@media(min-width:1000px){.mw-parser-output .main-box{margin-bottom:1rem;padding:1rem}.mw-parser-output .main-box-image-only>.main-box-content{margin-left:-1rem;margin-right:-1rem}}</style>\n",
            "<div id=\"main-tfa\" class=\"main-box main-box-responsive-image\"><div id=\"Artículo_destacado\" class=\"main-box-section\">Artículo destacado</div><h2 class=\"main-header main-box-header\"><span id=\"Mariya_Spirid.C3.B3nova\"></span><span class=\"mw-headline\" id=\"Mariya_Spiridónova\" data-mw-thread-id=\"h-Mariya_Spiridónova-Bienvenidos_a_Wikipedia,\"><span data-mw-comment-start=\"\" id=\"h-Mariya_Spiridónova-Bienvenidos_a_Wikipedia,\"></span><a href=\"/wiki/Mariya_Spirid%C3%B3nova\" title=\"Mariya Spiridónova\">Mariya Spiridónova</a><span data-mw-comment-end=\"h-Mariya_Spiridónova-Bienvenidos_a_Wikipedia,\"></span></span></h2>\n",
            "<figure class=\"mw-halign-right\" typeof=\"mw:File\"><a href=\"/wiki/Archivo:MarijaSpiridonova.jpg\" class=\"mw-file-description\" title=\"Mariya Spiridónova\"><img alt=\"Mariya Spiridónova\" src=\"//upload.wikimedia.org/wikipedia/commons/thumb/a/a1/MarijaSpiridonova.jpg/200px-MarijaSpiridonova.jpg\" decoding=\"async\" width=\"200\" height=\"280\" class=\"mw-file-element\" srcset=\"//upload.wikimedia.org/wikipedia/commons/thumb/a/a1/MarijaSpiridonova.jpg/300px-MarijaSpiridonova.jpg 1.5x, //upload.wikimedia.org/wikipedia/commons/thumb/a/a1/MarijaSpiridonova.jpg/400px-MarijaSpiridonova.jpg 2x\" data-file-width=\"1686\" data-file-height=\"2360\"/></a><figcaption>Mariya Spiridónova</figcaption></figure>\n",
            "<p><b>Mariya Aleksándrovna Spiridónova</b> (<a href=\"/wiki/Idioma_ruso\" title=\"Idioma ruso\">en ruso:</a> Мари́я Алекса́ндровна Спиридо́нова; <a href=\"/wiki/Tambov\" title=\"Tambov\">Tambov</a>, 16 de octubre de 1884-bosque Medvédevsk cerca de <a href=\"/wiki/Oriol\" title=\"Oriol\">Oriol</a>, 11 de septiembre de 1941) fue una revolucionaria rusa de principios del siglo <span style=\"font-variant:small-caps\">xx</span>, destacada dirigente del <a href=\"/wiki/Partido_Socialrevolucionario_de_Izquierda\" class=\"mw-redirect\" title=\"Partido Socialrevolucionario de Izquierda\">Partido Socialrevolucionario de Izquierda</a> (PSRI). Paradigma por excelencia de terrorista revolucionaria del último periodo <a href=\"/wiki/Imperio_ruso\" title=\"Imperio ruso\">zarista</a>, fue la candidata del <a href=\"/wiki/Sovnarkom\" class=\"mw-redirect\" title=\"Sovnarkom\">gobierno de Lenin</a> a presidir la <a href=\"/wiki/Asamblea_Constituyente_Rusa\" title=\"Asamblea Constituyente Rusa\">Asamblea Constituyente</a> tras la <a href=\"/wiki/Revoluci%C3%B3n_de_Octubre\" title=\"Revolución de Octubre\">Revolución de Octubre</a>, pero la mayoría de los delegados votaría por el <a href=\"/wiki/Partido_Social-Revolucionario\" title=\"Partido Social-Revolucionario\">socialista revolucionario</a> <a href=\"/wiki/V%C3%ADktor_Chernov\" class=\"mw-redirect\" title=\"Víktor Chernov\">Víktor Chernov</a>. Tras organizar el <a href=\"/wiki/Alzamiento_socialrevolucionario\" title=\"Alzamiento socialrevolucionario\">asesinato del embajador alemán</a> en el verano de 1918, los <a href=\"/wiki/Bolchevique\" title=\"Bolchevique\">bolcheviques</a> la detuvieron. Pasó el resto de su vida en el exilio interior y en diversas prisiones y campos de trabajo. Durante las <a href=\"/wiki/Gran_Purga\" title=\"Gran Purga\">Purgas de Stalin</a>, fue arrestada con otros doce antiguos miembros del PSRI en <a href=\"/wiki/Uf%C3%A1\" title=\"Ufá\">Ufá</a>, donde vivían en el exilio (8 de febrero de 1937).\n",
            "</p><p>Nació en el seno de una familia noble en la provincia de <a href=\"/wiki/Tambov\" title=\"Tambov\">Tambov</a> en 1884 y se formó en enfermería, pero en 1905 abandonó los estudios y se entregó a la actividad revolucionaria como miembro del <a href=\"/wiki/Partido_Social-Revolucionario\" title=\"Partido Social-Revolucionario\">Partido Social-Revolucionario</a> (PSR). Condenada a muerte por el asesinato de Gavriil Nikoláievich Luzhenovski, responsable policial de un distrito de la provincia de Tambov, la presión popular obligó a conmutar la pena por cadena perpetua. Su maltrato durante su periodo de encarcelamiento la convirtió en un mito entre el campesinado y su popularidad la utilizó más tarde el partido. Pasó los diez años siguientes en prisión en Siberia. Continuamente enferma y con periodos de depresión, apenas participó en las actividades organizadas por sus compañeras de cautiverio.\n",
            "</p>\n",
            "<div style=\"clear: both;\"></div>\n",
            "<div class=\"main-footer\"><div class=\"main-footer-actions main-plainlist nomobile\">\n",
            "<ul><li><a href=\"/wiki/Mariya_Spirid%C3%B3nova\" title=\"Mariya Spiridónova\"><span class=\"mw-ui-button\"> Leer </span></a></li>\n",
            "<li><span class=\"nomobile\"><a href=\"/wiki/Wikipedia:Art%C3%ADculos_destacados/%C3%8Dndice\" title=\"Wikipedia:Artículos destacados/Índice\"><span class=\"mw-ui-button mw-ui-quiet\"> Todos los artículos destacados </span></a></span></li></ul>\n",
            "</div><div id=\"mw-customcollapsible-tfa\" class=\"main-footer-menu mw-collapsible mw-collapsed nomobile\">\n",
            "<div class=\"main-footer-menuToggle mw-collapsible-toggle mw-customtoggle-main-tfa\"><span typeof=\"mw:File\"><span title=\"Acciones adicionales\"><img alt=\"Acciones adicionales\" src=\"//upload.wikimedia.org/wikipedia/commons/thumb/b/b3/OOjs_UI_icon_ellipsis.svg/20px-OOjs_UI_icon_ellipsis.svg.png\" decoding=\"async\" width=\"20\" height=\"20\" class=\"mw-file-element\" srcset=\"//upload.wikimedia.org/wikipedia/commons/thumb/b/b3/OOjs_UI_icon_ellipsis.svg/30px-OOjs_UI_icon_ellipsis.svg.png 1.5x, //upload.wikimedia.org/wikipedia/commons/thumb/b/b3/OOjs_UI_icon_ellipsis.svg/40px-OOjs_UI_icon_ellipsis.svg.png 2x\" data-file-width=\"20\" data-file-height=\"20\"/></span></span></div>\n",
            "<div class=\"main-footer-menuDropdown mw-collapsible-content main-plainlist\">\n",
            "<ul><li><a href=\"/wiki/Wikipedia:Candidatos_a_art%C3%ADculos_destacados\" title=\"Wikipedia:Candidatos a artículos destacados\"><span class=\"mw-ui-button mw-ui-quiet\"> Candidatos </span></a></li></ul>\n",
            "<dl><dd><i>Anteriores:</i></dd></dl>\n",
            "<ul><li><a href=\"/wiki/Santuario_de_Nuestra_Se%C3%B1ora_de_Contrueces\" title=\"Santuario de Nuestra Señora de Contrueces\"><span class=\"mw-ui-button mw-ui-quiet\"> Santuario de Nuestra Señora de Contrueces </span></a></li>\n",
            "<li><a href=\"/wiki/Gustav_Stresemann\" title=\"Gustav Stresemann\"><span class=\"mw-ui-button mw-ui-quiet\"> Gustav Stresemann </span></a></li>\n",
            "<li><a href=\"/wiki/Something_to_Remember\" title=\"Something to Remember\"><span class=\"mw-ui-button mw-ui-quiet\"> Something to Remember </span></a></li></ul>\n",
            "</div></div></div>\n",
            "</div>\n",
            "<link rel=\"mw-deduplicated-inline-style\" href=\"mw-data:TemplateStyles:r144107018\">\n",
            "<div id=\"main-tga\" class=\"main-box main-box-responsive-image\"><div id=\"Artículo_bueno\" class=\"main-box-section\">Artículo bueno</div><h2 class=\"main-header main-box-header\"><span class=\"mw-headline\" id=\"Born_to_Make_You_Happy\" data-mw-thread-id=\"h-Born_to_Make_You_Happy-Bienvenidos_a_Wikipedia,\"><span data-mw-comment-start=\"\" id=\"h-Born_to_Make_You_Happy-Bienvenidos_a_Wikipedia,\"></span><a href=\"/wiki/Born_to_Make_You_Happy\" title=\"Born to Make You Happy\">Born to Make You Happy</a><span data-mw-comment-end=\"h-Born_to_Make_You_Happy-Bienvenidos_a_Wikipedia,\"></span></span></h2>\n",
            "<figure class=\"mw-halign-right\" typeof=\"mw:File\"><a href=\"/wiki/Archivo:Britney_Spears_-_Born_to_Make_You_Happy_Logo.png\" class=\"mw-file-description\" title=\"Born to Make You Happy\"><img alt=\"Born to Make You Happy\" src=\"//upload.wikimedia.org/wikipedia/commons/thumb/3/33/Britney_Spears_-_Born_to_Make_You_Happy_Logo.png/150px-Britney_Spears_-_Born_to_Make_You_Happy_Logo.png\" decoding=\"async\" width=\"150\" height=\"23\" class=\"mw-file-element\" srcset=\"//upload.wikimedia.org/wikipedia/commons/thumb/3/33/Britney_Spears_-_Born_to_Make_You_Happy_Logo.png/225px-Britney_Spears_-_Born_to_Make_You_Happy_Logo.png 1.5x, //upload.wikimedia.org/wikipedia/commons/thumb/3/33/Britney_Spears_-_Born_to_Make_You_Happy_Logo.png/300px-Britney_Spears_-_Born_to_Make_You_Happy_Logo.png 2x\" data-file-width=\"1150\" data-file-height=\"180\"/></a><figcaption>Born to Make You Happy</figcaption></figure>\n",
            "<p>«<b>Born to Make You Happy</b>» (en español: «Nací para hacerte feliz») es una <a href=\"/wiki/Canci%C3%B3n\" title=\"Canción\">canción</a> <i><a href=\"/wiki/Dance_pop\" title=\"Dance pop\">dance pop</a></i> interpretada por la cantante estadounidense <a href=\"/wiki/Britney_Spears\" title=\"Britney Spears\">Britney Spears</a> e incluida originalmente en su álbum debut, <i><a href=\"/wiki/...Baby_One_More_Time\" title=\"...Baby One More Time\">...Baby One More Time</a></i> (1999). Mientras <a href=\"/wiki/Kristian_Lundin\" title=\"Kristian Lundin\">Kristian Lundin</a> <a href=\"/wiki/Composici%C3%B3n_musical\" title=\"Composición musical\">compuso</a> el tema junto a <a href=\"/w/index.php?title=Andreas_Carlsson&amp;action=edit&amp;redlink=1\" class=\"new\" title=\"Andreas Carlsson (aún no redactado)\">Andreas Carlsson</a> y lo <a href=\"/wiki/Productor_discogr%C3%A1fico\" title=\"Productor discográfico\">produjo</a> en solitario, Spears lo grabó entre marzo y abril de 1998 en <a href=\"/wiki/Suecia\" title=\"Suecia\">Suecia</a>, luego de hacer que los autores eliminaran el contenido sexual original de la <a href=\"/wiki/Letra_(m%C3%BAsica)\" title=\"Letra (música)\">letra</a> y lo basaran en una relación amorosa fallida que se desea corregir.\n",
            "</p>\n",
            "<div style=\"clear: both;\"></div>\n",
            "<div class=\"main-footer\"><div class=\"main-footer-actions main-plainlist nomobile\">\n",
            "<ul><li><a href=\"/wiki/Born_to_Make_You_Happy\" title=\"Born to Make You Happy\"><span class=\"mw-ui-button\"> Leer </span></a></li>\n",
            "<li><span class=\"nomobile\"><a href=\"/wiki/Wikipedia:Art%C3%ADculos_buenos/%C3%8Dndice\" title=\"Wikipedia:Artículos buenos/Índice\"><span class=\"mw-ui-button mw-ui-quiet\"> Todos los artículos buenos </span></a></span></li></ul>\n",
            "</div><div id=\"mw-customcollapsible-tga\" class=\"main-footer-menu mw-collapsible mw-collapsed nomobile\">\n",
            "<div class=\"main-footer-menuToggle mw-collapsible-toggle mw-customtoggle-main-tga\"><span typeof=\"mw:File\"><span title=\"Acciones adicionales\"><img alt=\"Acciones adicionales\" src=\"//upload.wikimedia.org/wikipedia/commons/thumb/b/b3/OOjs_UI_icon_ellipsis.svg/20px-OOjs_UI_icon_ellipsis.svg.png\" decoding=\"async\" width=\"20\" height=\"20\" class=\"mw-file-element\" srcset=\"//upload.wikimedia.org/wikipedia/commons/thumb/b/b3/OOjs_UI_icon_ellipsis.svg/30px-OOjs_UI_icon_ellipsis.svg.png 1.5x, //upload.wikimedia.org/wikipedia/commons/thumb/b/b3/OOjs_UI_icon_ellipsis.svg/40px-OOjs_UI_icon_ellipsis.svg.png 2x\" data-file-width=\"20\" data-file-height=\"20\"/></span></span></div>\n",
            "<div class=\"main-footer-menuDropdown mw-collapsible-content main-plainlist\">\n",
            "<ul><li><a href=\"/wiki/Wikipedia:Selecci%C3%B3n_de_art%C3%ADculos_buenos/nominaciones\" title=\"Wikipedia:Selección de artículos buenos/nominaciones\"><span class=\"mw-ui-button mw-ui-quiet\"> Candidatos </span></a></li></ul>\n",
            "<dl><dd><i>Anteriores:</i></dd></dl>\n",
            "<ul><li><a href=\"/wiki/Conquista_normanda_de_Inglaterra\" title=\"Conquista normanda de Inglaterra\"><span class=\"mw-ui-button mw-ui-quiet\"> Conquista normanda de Inglaterra </span></a></li>\n",
            "<li><a href=\"/wiki/Directorio_de_Omsk\" title=\"Directorio de Omsk\"><span class=\"mw-ui-button mw-ui-quiet\"> Directorio de Omsk </span></a></li>\n",
            "<li><a href=\"/wiki/Teresa_Cristina_de_Borb%C3%B3n-Dos_Sicilias\" title=\"Teresa Cristina de Borbón-Dos Sicilias\"><span class=\"mw-ui-button mw-ui-quiet\"> Teresa Cristina de Borbón-Dos Sicilias </span></a></li></ul>\n",
            "</div></div></div>\n",
            "</div>\n",
            "<link rel=\"mw-deduplicated-inline-style\" href=\"mw-data:TemplateStyles:r144107018\">\n",
            "<div id=\"main-potd\" class=\"main-box main-box-image-only\"><h2 class=\"main-header main-box-header\"><span id=\"Recurso_del_d.C3.ADa\"></span><span class=\"mw-headline\" id=\"Recurso_del_día\" data-mw-thread-id=\"h-Recurso_del_día-Bienvenidos_a_Wikipedia,\"><span data-mw-comment-start=\"\" id=\"h-Recurso_del_día-Bienvenidos_a_Wikipedia,\"></span><a href=\"/wiki/Wikipedia:Recurso_del_d%C3%ADa\" title=\"Wikipedia:Recurso del día\">Recurso del día</a><span data-mw-comment-end=\"h-Recurso_del_día-Bienvenidos_a_Wikipedia,\"></span></span></h2>\n",
            "<div class=\"main-box-content\"><figure class=\"mw-halign-center\" typeof=\"mw:File\"><a href=\"/wiki/Archivo:DNA_orbit_animated.gif\" class=\"mw-file-description\" title=\"Estructura de un segmento de ADN en doble hélice\"><img alt=\"Estructura de un segmento de ADN en doble hélice\" src=\"//upload.wikimedia.org/wikipedia/commons/1/16/DNA_orbit_animated.gif\" decoding=\"async\" width=\"304\" height=\"500\" class=\"mw-file-element\" data-file-width=\"290\" data-file-height=\"477\"/></a><figcaption>Estructura de un segmento de ADN en doble hélice</figcaption></figure></div>\n",
            "<div class=\"main-box-imageCaption\">\n",
            "<p>Estructura de un segmento de ADN en doble hélice\n",
            "</p>\n",
            "</div>\n",
            "<p>El <b><a href=\"/wiki/%C3%81cido_desoxirribonucleico\" title=\"Ácido desoxirribonucleico\">ácido desoxirribonucleico</a></b>, frecuentemente abreviado <b>ADN</b> (y también DNA, del inglés <i>deoxyribonucleic acid</i>), es un <a href=\"/wiki/%C3%81cido_nucleico\" title=\"Ácido nucleico\">ácido nucleico</a> que contiene las instrucciones <a href=\"/wiki/Gen%C3%A9tica\" title=\"Genética\">genéticas</a> usadas en el desarrollo y el funcionamiento de la mayoría de los <a href=\"/wiki/Ser_vivo\" title=\"Ser vivo\">organismos vivos</a> conocidos y algunos <a href=\"/wiki/Virus\" title=\"Virus\">virus</a>.\n",
            "</p>\n",
            "<div style=\"clear: both;\"></div>\n",
            "<div class=\"main-footer\"><div class=\"main-footer-actions main-plainlist nomobile\">\n",
            "<ul><li><a href=\"/wiki/Wikipedia:Recurso_del_d%C3%ADa\" title=\"Wikipedia:Recurso del día\"><span class=\"mw-ui-button mw-ui-quiet\"> Archivo </span></a></li></ul>\n",
            "</div></div>\n",
            "</div>\n",
            "<link rel=\"mw-deduplicated-inline-style\" href=\"mw-data:TemplateStyles:r144107018\">\n",
            "<div id=\"main-port\" class=\"main-box\"><h2 class=\"main-header main-box-header\"><span class=\"mw-headline\" id=\"Portales\" data-mw-thread-id=\"h-Portales-Bienvenidos_a_Wikipedia,\"><span data-mw-comment-start=\"\" id=\"h-Portales-Bienvenidos_a_Wikipedia,\"></span><a href=\"/wiki/Wikipedia:Portal\" title=\"Wikipedia:Portal\">Portales</a><span data-mw-comment-end=\"h-Portales-Bienvenidos_a_Wikipedia,\"></span></span></h2>\n",
            "<div style=\"font-size: 89%; padding-bottom:.2em; padding-top:.2em;\">\n",
            "<figure class=\"mw-halign-right noviewer\" typeof=\"mw:File\"><a href=\"/wiki/Archivo:Nuvola_apps_package_graphics.svg\" class=\"mw-file-description\" title=\"Artes\"><img alt=\"Artes\" src=\"//upload.wikimedia.org/wikipedia/commons/thumb/c/c3/Nuvola_apps_package_graphics.svg/20px-Nuvola_apps_package_graphics.svg.png\" decoding=\"async\" width=\"20\" height=\"20\" class=\"mw-file-element\" srcset=\"//upload.wikimedia.org/wikipedia/commons/thumb/c/c3/Nuvola_apps_package_graphics.svg/30px-Nuvola_apps_package_graphics.svg.png 1.5x, //upload.wikimedia.org/wikipedia/commons/thumb/c/c3/Nuvola_apps_package_graphics.svg/40px-Nuvola_apps_package_graphics.svg.png 2x\" data-file-width=\"128\" data-file-height=\"128\"/></a><figcaption>Artes</figcaption></figure>\n",
            "<p><b><a href=\"/wiki/Portal:Arte\" title=\"Portal:Arte\">Artes</a></b>: \n",
            "<a href=\"/wiki/Portal:Arquitectura\" title=\"Portal:Arquitectura\">Arquitectura</a> – \n",
            "<a href=\"/wiki/Portal:Cine\" title=\"Portal:Cine\">Cine</a> – \n",
            "<a href=\"/wiki/Portal:Danza\" title=\"Portal:Danza\">Danza</a> –\n",
            "<a href=\"/wiki/Portal:Literatura\" title=\"Portal:Literatura\">Literatura</a> – \n",
            "<a href=\"/wiki/Portal:M%C3%BAsica\" title=\"Portal:Música\">Música</a> – \n",
            "<a href=\"/wiki/Portal:M%C3%BAsica_cl%C3%A1sica\" title=\"Portal:Música clásica\">Música clásica</a> – \n",
            "<a href=\"/wiki/Portal:Pintura\" title=\"Portal:Pintura\">Pintura</a> – \n",
            "<a href=\"/wiki/Portal:Teatro\" title=\"Portal:Teatro\">Teatro</a>\n",
            "</p>\n",
            "</div>\n",
            "<div style=\"border-top: 1px dotted #c088fe; font-size: 89%; padding-bottom:.2em; padding-top:.2em;\">\n",
            "<figure class=\"mw-halign-right noviewer\" typeof=\"mw:File\"><a href=\"/wiki/Archivo:Sciences_humaines.svg\" class=\"mw-file-description\" title=\"Ciencias sociales\"><img alt=\"Ciencias sociales\" src=\"//upload.wikimedia.org/wikipedia/commons/thumb/3/3f/Sciences_humaines.svg/20px-Sciences_humaines.svg.png\" decoding=\"async\" width=\"20\" height=\"20\" class=\"mw-file-element\" srcset=\"//upload.wikimedia.org/wikipedia/commons/thumb/3/3f/Sciences_humaines.svg/30px-Sciences_humaines.svg.png 1.5x, //upload.wikimedia.org/wikipedia/commons/thumb/3/3f/Sciences_humaines.svg/40px-Sciences_humaines.svg.png 2x\" data-file-width=\"256\" data-file-height=\"256\"/></a><figcaption>Ciencias sociales</figcaption></figure>\n",
            "<p><b><a href=\"/wiki/Portal:Ciencias_humanas_y_sociales\" title=\"Portal:Ciencias humanas y sociales\">Ciencias sociales</a></b>:\n",
            "<a href=\"/wiki/Portal:Comunicaci%C3%B3n\" title=\"Portal:Comunicación\">Comunicación</a> –\n",
            "<a href=\"/wiki/Portal:Deporte\" title=\"Portal:Deporte\">Deporte</a> –\n",
            "<a href=\"/wiki/Portal:Derecho\" title=\"Portal:Derecho\">Derecho</a> – \n",
            "<a href=\"/wiki/Portal:Econom%C3%ADa\" title=\"Portal:Economía\">Economía</a> –\n",
            "<a href=\"/wiki/Portal:Filosof%C3%ADa\" title=\"Portal:Filosofía\">Filosofía</a> – \n",
            "<a href=\"/wiki/Portal:Ling%C3%BC%C3%ADstica\" title=\"Portal:Lingüística\">Lingüística</a> – \n",
            "<a href=\"/wiki/Portal:Psicolog%C3%ADa\" title=\"Portal:Psicología\">Psicología</a> – \n",
            "<a href=\"/wiki/Portal:Sociolog%C3%ADa\" title=\"Portal:Sociología\">Sociología</a> \n",
            "</p>\n",
            "</div>\n",
            "<div style=\"border-top: 1px dotted #c088fe; font-size: 89%; padding-bottom:.2em; padding-top:.2em;\">\n",
            "<figure class=\"mw-halign-right noviewer\" typeof=\"mw:File\"><a href=\"/wiki/Archivo:Science-symbol-2.svg\" class=\"mw-file-description\" title=\"Ciencias naturales\"><img alt=\"Ciencias naturales\" src=\"//upload.wikimedia.org/wikipedia/commons/thumb/7/75/Science-symbol-2.svg/20px-Science-symbol-2.svg.png\" decoding=\"async\" width=\"20\" height=\"20\" class=\"mw-file-element\" srcset=\"//upload.wikimedia.org/wikipedia/commons/thumb/7/75/Science-symbol-2.svg/30px-Science-symbol-2.svg.png 1.5x, //upload.wikimedia.org/wikipedia/commons/thumb/7/75/Science-symbol-2.svg/40px-Science-symbol-2.svg.png 2x\" data-file-width=\"87\" data-file-height=\"87\"/></a><figcaption>Ciencias naturales</figcaption></figure>\n",
            "<p><b><a href=\"/wiki/Portal:Ciencias_naturales\" title=\"Portal:Ciencias naturales\">Ciencias naturales</a></b>: \n",
            "<a href=\"/wiki/Portal:Astronom%C3%ADa\" title=\"Portal:Astronomía\">Astronomía</a> – \n",
            "<a href=\"/wiki/Portal:Biolog%C3%ADa\" title=\"Portal:Biología\">Biología</a> – \n",
            "<a href=\"/wiki/Portal:Bot%C3%A1nica\" title=\"Portal:Botánica\">Botánica</a> – \n",
            "<a href=\"/wiki/Portal:F%C3%ADsica\" title=\"Portal:Física\">Física</a> – \n",
            "<a href=\"/wiki/Portal:Medicina\" title=\"Portal:Medicina\">Medicina</a> – \n",
            "<a href=\"/wiki/Portal:Matem%C3%A1tica\" title=\"Portal:Matemática\">Matemática</a> – \n",
            "<a href=\"/wiki/Portal:Qu%C3%ADmica\" title=\"Portal:Química\">Química</a> \n",
            "</p>\n",
            "</div>\n",
            "<div style=\"border-top: 1px dotted #c088fe; font-size: 89%; padding-bottom:.2em; padding-top:.2em;\">\n",
            "<figure class=\"mw-halign-right noviewer\" typeof=\"mw:File\"><a href=\"/wiki/Archivo:Ambox_globe.svg\" class=\"mw-file-description\" title=\"Geografía\"><img alt=\"Geografía\" src=\"//upload.wikimedia.org/wikipedia/commons/thumb/e/e2/Ambox_globe.svg/20px-Ambox_globe.svg.png\" decoding=\"async\" width=\"20\" height=\"20\" class=\"mw-file-element\" srcset=\"//upload.wikimedia.org/wikipedia/commons/thumb/e/e2/Ambox_globe.svg/30px-Ambox_globe.svg.png 1.5x, //upload.wikimedia.org/wikipedia/commons/thumb/e/e2/Ambox_globe.svg/40px-Ambox_globe.svg.png 2x\" data-file-width=\"512\" data-file-height=\"512\"/></a><figcaption>Geografía</figcaption></figure>\n",
            "<p><b><a href=\"/wiki/Portal:Geograf%C3%ADa\" title=\"Portal:Geografía\">Geografía</a></b>: \n",
            "<a href=\"/wiki/Portal:%C3%81frica\" title=\"Portal:África\">África</a> – \n",
            "<a href=\"/wiki/Portal:Am%C3%A9rica\" title=\"Portal:América\">América</a> – \n",
            "<a href=\"/wiki/Portal:Ant%C3%A1rtida\" title=\"Portal:Antártida\">Antártida</a> –\n",
            "<a href=\"/wiki/Portal:Asia\" title=\"Portal:Asia\">Asia</a> – \n",
            "<a href=\"/wiki/Portal:Europa\" title=\"Portal:Europa\">Europa</a> – \n",
            "<a href=\"/wiki/Portal:Ocean%C3%ADa\" title=\"Portal:Oceanía\">Oceanía</a> – \n",
            "<a href=\"/wiki/Portal:Pa%C3%ADses\" title=\"Portal:Países\">Países</a>\n",
            "</p>\n",
            "</div>\n",
            "<div style=\"border-top: 1px dotted #c088fe; font-size: 89%; padding-bottom:.2em; padding-top:.2em;\">\n",
            "<figure class=\"mw-halign-right noviewer\" typeof=\"mw:File\"><a href=\"/wiki/Archivo:History2.svg\" class=\"mw-file-description\" title=\"Historia\"><img alt=\"Historia\" src=\"//upload.wikimedia.org/wikipedia/commons/thumb/2/29/History2.svg/20px-History2.svg.png\" decoding=\"async\" width=\"20\" height=\"22\" class=\"mw-file-element\" srcset=\"//upload.wikimedia.org/wikipedia/commons/thumb/2/29/History2.svg/30px-History2.svg.png 1.5x, //upload.wikimedia.org/wikipedia/commons/thumb/2/29/History2.svg/40px-History2.svg.png 2x\" data-file-width=\"30\" data-file-height=\"33\"/></a><figcaption>Historia</figcaption></figure>\n",
            "<p><b><a href=\"/wiki/Portal:Historia\" title=\"Portal:Historia\">Historia</a></b>: \n",
            "<a href=\"/wiki/Portal:Prehistoria\" title=\"Portal:Prehistoria\">Prehistoria</a> – \n",
            "<a href=\"/wiki/Portal:Edad_Antigua\" title=\"Portal:Edad Antigua\">Edad Antigua</a> – \n",
            "<a href=\"/wiki/Portal:Edad_Media\" title=\"Portal:Edad Media\">Edad Media</a> – \n",
            "<a href=\"/wiki/Portal:Edad_Moderna\" title=\"Portal:Edad Moderna\">Edad Moderna</a> – \n",
            "<a href=\"/wiki/Portal:Edad_Contempor%C3%A1nea\" title=\"Portal:Edad Contemporánea\">Edad Contemporánea</a>\n",
            "</p>\n",
            "</div>\n",
            "<div style=\"border-top: 1px dotted #c088fe; font-size: 89%; padding-bottom:.2em; padding-top:.2em;\">\n",
            "<figure class=\"mw-halign-right noviewer\" typeof=\"mw:File\"><a href=\"/wiki/Archivo:Vote3_final.png\" class=\"mw-file-description\" title=\"Política\"><img alt=\"Política\" src=\"//upload.wikimedia.org/wikipedia/commons/thumb/9/94/Vote3_final.png/20px-Vote3_final.png\" decoding=\"async\" width=\"20\" height=\"20\" class=\"mw-file-element\" srcset=\"//upload.wikimedia.org/wikipedia/commons/thumb/9/94/Vote3_final.png/30px-Vote3_final.png 1.5x, //upload.wikimedia.org/wikipedia/commons/thumb/9/94/Vote3_final.png/40px-Vote3_final.png 2x\" data-file-width=\"146\" data-file-height=\"146\"/></a><figcaption>Política</figcaption></figure>\n",
            "<p><b><a href=\"/wiki/Portal:Pol%C3%ADtica\" title=\"Portal:Política\">Política</a></b>:\n",
            "<a href=\"/wiki/Portal:Feminismo\" title=\"Portal:Feminismo\">Feminismo</a> – \n",
            "<a href=\"/wiki/Portal:LGBT\" title=\"Portal:LGBT\">LGBT</a> – \n",
            "<a href=\"/wiki/Portal:Marxismo\" title=\"Portal:Marxismo\">Marxismo</a>  – \n",
            "<a href=\"/wiki/Portal:Nacionalismo\" title=\"Portal:Nacionalismo\">Nacionalismo</a> –\n",
            "<a href=\"/wiki/Portal:Socialismo\" title=\"Portal:Socialismo\">Socialismo</a> – \n",
            "<a href=\"/wiki/Portal:Terrorismo\" title=\"Portal:Terrorismo\">Terrorismo</a> \n",
            "</p>\n",
            "</div>\n",
            "<div style=\"border-top: 1px dotted #c088fe; font-size: 89%; padding-bottom:.2em; padding-top:.2em;\">\n",
            "<figure class=\"mw-halign-right noviewer\" typeof=\"mw:File\"><a href=\"/wiki/Archivo:P_religion_world.svg\" class=\"mw-file-description\" title=\"Religión\"><img alt=\"Religión\" src=\"//upload.wikimedia.org/wikipedia/commons/thumb/2/28/P_religion_world.svg/20px-P_religion_world.svg.png\" decoding=\"async\" width=\"20\" height=\"18\" class=\"mw-file-element\" srcset=\"//upload.wikimedia.org/wikipedia/commons/thumb/2/28/P_religion_world.svg/30px-P_religion_world.svg.png 1.5x, //upload.wikimedia.org/wikipedia/commons/thumb/2/28/P_religion_world.svg/40px-P_religion_world.svg.png 2x\" data-file-width=\"400\" data-file-height=\"360\"/></a><figcaption>Religión</figcaption></figure>\n",
            "<p><b><a href=\"/wiki/Portal:Religi%C3%B3n\" title=\"Portal:Religión\">Religión</a></b>:\n",
            "<a href=\"/wiki/Portal:Ate%C3%ADsmo\" title=\"Portal:Ateísmo\">Ateísmo</a> – \n",
            "<a href=\"/wiki/Portal:Budismo\" title=\"Portal:Budismo\">Budismo</a> – \n",
            "<a href=\"/wiki/Portal:Cristianismo\" title=\"Portal:Cristianismo\">Cristianismo</a>  – \n",
            "<a href=\"/wiki/Portal:Iglesia_cat%C3%B3lica\" title=\"Portal:Iglesia católica\">Iglesia católica</a> –\n",
            "<a href=\"/wiki/Portal:Islam\" title=\"Portal:Islam\">Islam</a> – \n",
            "<a href=\"/wiki/Portal:Juda%C3%ADsmo\" title=\"Portal:Judaísmo\">Judaísmo</a> –\n",
            "<a href=\"/wiki/Portal:Mitolog%C3%ADa\" title=\"Portal:Mitología\">Mitología</a>\n",
            "</p>\n",
            "</div>\n",
            "<div style=\"border-top: 1px dotted #c088fe; font-size: 89%; padding-bottom:.2em; padding-top:.2em;\">\n",
            "<figure class=\"mw-halign-right noviewer\" typeof=\"mw:File\"><a href=\"/wiki/Archivo:Tecno-rueda.svg\" class=\"mw-file-description\" title=\"Tecnologías\"><img alt=\"Tecnologías\" src=\"//upload.wikimedia.org/wikipedia/commons/thumb/1/1f/Tecno-rueda.svg/20px-Tecno-rueda.svg.png\" decoding=\"async\" width=\"20\" height=\"20\" class=\"mw-file-element\" srcset=\"//upload.wikimedia.org/wikipedia/commons/thumb/1/1f/Tecno-rueda.svg/30px-Tecno-rueda.svg.png 1.5x, //upload.wikimedia.org/wikipedia/commons/thumb/1/1f/Tecno-rueda.svg/40px-Tecno-rueda.svg.png 2x\" data-file-width=\"48\" data-file-height=\"48\"/></a><figcaption>Tecnologías</figcaption></figure>\n",
            "<p><b><a href=\"/wiki/Portal:Tecnolog%C3%ADa\" title=\"Portal:Tecnología\">Tecnologías</a></b>: \n",
            "<a href=\"/wiki/Portal:Biotecnolog%C3%ADa\" title=\"Portal:Biotecnología\">Biotecnología</a> – \n",
            "<a href=\"/wiki/Portal:Exploraci%C3%B3n_espacial\" title=\"Portal:Exploración espacial\">Exploración espacial</a> – \n",
            "<a href=\"/wiki/Portal:Inform%C3%A1tica\" title=\"Portal:Informática\">Informática</a> – \n",
            "<a href=\"/wiki/Portal:Ingenier%C3%ADa\" title=\"Portal:Ingeniería\">Ingeniería</a> – \n",
            "<a href=\"/wiki/Portal:Software_libre\" title=\"Portal:Software libre\">Software libre</a> – \n",
            "<a href=\"/wiki/Portal:Videojuegos\" title=\"Portal:Videojuegos\">Videojuegos</a>\n",
            "</p>\n",
            "</div>\n",
            "<div style=\"clear: both;\"></div>\n",
            "</div>\n",
            "</div>\n",
            "<div class=\"main-wrapper-column\">\n",
            "<link rel=\"mw-deduplicated-inline-style\" href=\"mw-data:TemplateStyles:r144107018\">\n",
            "<div id=\"main-cur\" class=\"main-box\"><h2 class=\"main-header main-box-header\"><span class=\"mw-headline\" id=\"Actualidad\" data-mw-thread-id=\"h-Actualidad-Bienvenidos_a_Wikipedia,\"><span data-mw-comment-start=\"\" id=\"h-Actualidad-Bienvenidos_a_Wikipedia,\"></span><a href=\"/wiki/Portal:Actualidad\" title=\"Portal:Actualidad\">Actualidad</a><span data-mw-comment-end=\"h-Actualidad-Bienvenidos_a_Wikipedia,\"></span></span></h2>\n",
            "<ul><li><a href=\"/wiki/Crisis_del_mar_Rojo\" title=\"Crisis del mar Rojo\">Crisis del mar Rojo</a> / <a href=\"/wiki/Ataques_en_Yemen_de_2024\" title=\"Ataques en Yemen de 2024\">Ataques en Yemen</a></li>\n",
            "<li><a href=\"/wiki/Guerra_Israel-Gaza_(2023-presente)\" title=\"Guerra Israel-Gaza (2023-presente)\">Guerra Israel-Gaza</a></li>\n",
            "<li><a href=\"/wiki/Invasi%C3%B3n_rusa_de_Ucrania\" title=\"Invasión rusa de Ucrania\">Invasión rusa de Ucrania</a></li>\n",
            "<li>26 de febrero-3 de marzo: Torneos de <a href=\"/wiki/Torneo_de_Acapulco_2024\" title=\"Torneo de Acapulco 2024\">Acapulco</a>, <a href=\"/wiki/Torneo_de_Austin_2024\" title=\"Torneo de Austin 2024\">Austin</a> y <a href=\"/wiki/Torneo_de_San_Diego_2024\" title=\"Torneo de San Diego 2024\">San Diego</a> de tenis</li>\n",
            "<li>25 de febrero-1 de marzo: <a href=\"/wiki/LXIII_Festival_Internacional_de_la_Canci%C3%B3n_de_Vi%C3%B1a_del_Mar\" title=\"LXIII Festival Internacional de la Canción de Viña del Mar\">Festival de la Canción de Viña del Mar</a></li>\n",
            "<li>25 de febrero: <a href=\"/wiki/Elecciones_parlamentarias_de_Bielorrusia_de_2024\" title=\"Elecciones parlamentarias de Bielorrusia de 2024\">Elecciones parlamentarias de Bielorrusia</a></li>\n",
            "<li>23-28 de febrero: <a href=\"/wiki/Liga_de_Naciones_Femenina_de_la_UEFA_2023-24\" title=\"Liga de Naciones Femenina de la UEFA 2023-24\">Liga de Naciones Femenina de la UEFA</a>: Fase final</li>\n",
            "<li>23-25 de febrero: <a href=\"/wiki/SVNS_2023-24\" title=\"SVNS 2023-24\">SVNS</a> de Canadá de rugby</li>\n",
            "<li>22-29 de febrero: <a href=\"/wiki/Recopa_Sudamericana_2024\" title=\"Recopa Sudamericana 2024\">Recopa Sudamericana</a></li>\n",
            "<li>20 de febrero-10 de marzo: <a href=\"/wiki/Copa_Oro_Femenina_de_la_Concacaf_de_2024\" title=\"Copa Oro Femenina de la Concacaf de 2024\">Copa Oro Femenina de la Concacaf</a></li>\n",
            "<li>19 de febrero-3 de marzo: <a href=\"/wiki/Campeonato_Mundial_de_Bobsleigh_y_Skeleton_de_2024\" title=\"Campeonato Mundial de Bobsleigh y Skeleton de 2024\">Campeonato Mundial de Bobsleigh y Skeleton</a></li>\n",
            "<li>19-25 de febrero: <a href=\"/wiki/UAE_Tour_2024\" title=\"UAE Tour 2024\">Tour de Emiratos Árabes Unidos</a></li>\n",
            "<li>19-25 de febrero: Torneos de <a href=\"/wiki/Torneo_de_Doha_2024\" title=\"Torneo de Doha 2024\">Doha</a>, <a href=\"/wiki/Torneo_de_Dub%C3%A1i_2024\" title=\"Torneo de Dubái 2024\">Dubái</a> y <a href=\"/wiki/Torneo_de_R%C3%ADo_de_Janeiro_2024\" title=\"Torneo de Río de Janeiro 2024\">Río de Janeiro</a> de tenis</li>\n",
            "<li>16-25 de febrero: <a href=\"/wiki/Campeonato_Mundial_de_Tenis_de_Mesa_por_Equipos_de_2024\" title=\"Campeonato Mundial de Tenis de Mesa por Equipos de 2024\">Campeonato Mundial de Tenis de Mesa por Equipos</a></li>\n",
            "<li>15-25 de febrero: <a href=\"/wiki/Copa_Mundial_de_F%C3%BAtbol_Playa_FIFA_2024\" title=\"Copa Mundial de Fútbol Playa FIFA 2024\">Copa Mundial de Fútbol Playa FIFA</a></li></ul>\n",
            "<div style=\"margin-top: .9em; margin-bottom: .9em;\">\n",
            "<dl><dt><a href=\"/wiki/Anexo:Fallecidos_en_2024\" class=\"mw-redirect\" title=\"Anexo:Fallecidos en 2024\">Fallecimientos</a></dt></dl>\n",
            "<figure class=\"mw-halign-right\" typeof=\"mw:File\"><a href=\"/wiki/Archivo:Pasqualino_Abeti_1970.jpg\" class=\"mw-file-description\" title=\"El atleta italiano Pasqualino Abeti\"><img alt=\"El atleta italiano Pasqualino Abeti\" src=\"//upload.wikimedia.org/wikipedia/commons/thumb/6/65/Pasqualino_Abeti_1970.jpg/120px-Pasqualino_Abeti_1970.jpg\" decoding=\"async\" width=\"120\" height=\"167\" class=\"mw-file-element\" srcset=\"//upload.wikimedia.org/wikipedia/commons/thumb/6/65/Pasqualino_Abeti_1970.jpg/180px-Pasqualino_Abeti_1970.jpg 1.5x, //upload.wikimedia.org/wikipedia/commons/thumb/6/65/Pasqualino_Abeti_1970.jpg/240px-Pasqualino_Abeti_1970.jpg 2x\" data-file-width=\"412\" data-file-height=\"574\"/></a><figcaption>El atleta italiano Pasqualino Abeti</figcaption></figure>\n",
            "<ul><li>24 de febrero: <a href=\"/wiki/Pasqualino_Abeti\" title=\"Pasqualino Abeti\">Pasqualino Abeti</a>, atleta italiano (75; <i>en la imagen superior</i>)</li></ul>\n",
            "<figure class=\"mw-halign-right\" typeof=\"mw:File\"><a href=\"/wiki/Archivo:Ulrik_Le_Fevre.jpg\" class=\"mw-file-description\" title=\"El futbolista danés Ulrik le Fevre\"><img alt=\"El futbolista danés Ulrik le Fevre\" src=\"//upload.wikimedia.org/wikipedia/commons/thumb/1/1f/Ulrik_Le_Fevre.jpg/120px-Ulrik_Le_Fevre.jpg\" decoding=\"async\" width=\"120\" height=\"166\" class=\"mw-file-element\" srcset=\"//upload.wikimedia.org/wikipedia/commons/thumb/1/1f/Ulrik_Le_Fevre.jpg/180px-Ulrik_Le_Fevre.jpg 1.5x, //upload.wikimedia.org/wikipedia/commons/thumb/1/1f/Ulrik_Le_Fevre.jpg/240px-Ulrik_Le_Fevre.jpg 2x\" data-file-width=\"1077\" data-file-height=\"1491\"/></a><figcaption>El futbolista danés Ulrik le Fevre</figcaption></figure>\n",
            "<ul><li>24 de febrero: <a href=\"/wiki/Ulrik_le_Fevre\" title=\"Ulrik le Fevre\">Ulrik le Fevre</a>, futbolista danés (77; <i>en la imagen inferior</i>)</li>\n",
            "<li>24 de febrero: <a href=\"/wiki/Kenneth_Mitchell\" title=\"Kenneth Mitchell\">Kenneth Mitchell</a>, actor canadiense (49)</li>\n",
            "<li>24 de febrero: <a href=\"/wiki/Juana_Bacallao\" title=\"Juana Bacallao\">Juana Bacallao</a>, vedete cubana (98)</li>\n",
            "<li>24 de febrero: <a href=\"/wiki/Ramona_Fradon\" title=\"Ramona Fradon\">Ramona Fradon</a>, historietista estadounidense (97)</li>\n",
            "<li>24 de febrero: <a href=\"/wiki/Stan_Bowles\" title=\"Stan Bowles\">Stan Bowles</a>, futbolista británico (75)</li>\n",
            "<li>23 de febrero: <a href=\"/wiki/Don_Poile\" title=\"Don Poile\">Don Poile</a>, jugador de hockey sobre hielo canadiense (91)</li>\n",
            "<li>23 de febrero: <a href=\"/wiki/Rui_Rodrigues\" title=\"Rui Rodrigues\">Rui Rodrigues</a>, futbolista portugués (80)</li>\n",
            "<li>23 de febrero: <a href=\"/wiki/Jos%C3%A9_Mar%C3%ADa_Vernet\" title=\"José María Vernet\">José María Vernet</a>, político argentino (79)</li>\n",
            "<li>23 de febrero: <a href=\"/wiki/Wilson_Fittipaldi\" title=\"Wilson Fittipaldi\">Wilson Fittipaldi</a>, piloto y empresario brasileño (80)</li>\n",
            "<li>23 de febrero: <a href=\"/wiki/Claude_Montana\" title=\"Claude Montana\">Claude Montana</a>, diseñador de moda francés (76)</li>\n",
            "<li>23 de febrero: <a href=\"/wiki/Shinsadong_Tiger\" title=\"Shinsadong Tiger\">Shinsadong Tiger</a>, músico surcoreano (40)</li>\n",
            "<li>23 de febrero: <a href=\"/wiki/Irene_Camber\" title=\"Irene Camber\">Irene Camber</a>, esgrimista italiana (98)</li>\n",
            "<li>22 de febrero: <a href=\"/wiki/Alois_Kothgasser\" title=\"Alois Kothgasser\">Alois Kothgasser</a>, obispo católico austriaco (86)</li>\n",
            "<li>22 de febrero: <a href=\"/wiki/John_Duff_Lowe\" title=\"John Duff Lowe\">John Duff Lowe</a>, músico británico (81)</li>\n",
            "<li>21 de febrero: <a href=\"/wiki/Pamela_Salem\" title=\"Pamela Salem\">Pamela Salem</a>, actriz británica (80)</li>\n",
            "<li>21 de febrero: <a href=\"/wiki/Roberto_Darvin\" title=\"Roberto Darvin\">Roberto Darvin</a>, músico uruguayo (82)</li></ul>\n",
            "</div>\n",
            "<dl><dt>Conmemoraciones y fiestas</dt></dl>\n",
            "<ul><li>27 de febrero: Día Nacional de la <a href=\"/wiki/Rep%C3%BAblica_Dominicana\" title=\"República Dominicana\">República Dominicana</a></li>\n",
            "<li>25 de febrero: Día Nacional de <a href=\"/wiki/Kuwait\" title=\"Kuwait\">Kuwait</a></li></ul>\n",
            "<p><br/>\n",
            "<b>Véase también:</b> <a href=\"/wiki/Categor%C3%ADa:Actualidad\" title=\"Categoría:Actualidad\">Categoría:Actualidad</a>, <a href=\"/wiki/2024\" title=\"2024\">2024</a>, <a href=\"/wiki/Categor%C3%ADa:2024\" title=\"Categoría:2024\">Categoría:2024</a>\n",
            "</p>\n",
            "<div style=\"clear: both;\"></div>\n",
            "<div class=\"main-footer\"><div class=\"main-footer-actions main-plainlist nomobile\">\n",
            "<ul><li><a href=\"/wiki/Portal:Actualidad\" title=\"Portal:Actualidad\"><span class=\"mw-ui-button\"> Otros eventos actuales </span></a></li></ul>\n",
            "</div><div id=\"mw-customcollapsible-cur\" class=\"main-footer-menu mw-collapsible mw-collapsed nomobile\">\n",
            "<div class=\"main-footer-menuToggle mw-collapsible-toggle mw-customtoggle-main-cur\"><span typeof=\"mw:File\"><span title=\"Acciones adicionales\"><img alt=\"Acciones adicionales\" src=\"//upload.wikimedia.org/wikipedia/commons/thumb/b/b3/OOjs_UI_icon_ellipsis.svg/20px-OOjs_UI_icon_ellipsis.svg.png\" decoding=\"async\" width=\"20\" height=\"20\" class=\"mw-file-element\" srcset=\"//upload.wikimedia.org/wikipedia/commons/thumb/b/b3/OOjs_UI_icon_ellipsis.svg/30px-OOjs_UI_icon_ellipsis.svg.png 1.5x, //upload.wikimedia.org/wikipedia/commons/thumb/b/b3/OOjs_UI_icon_ellipsis.svg/40px-OOjs_UI_icon_ellipsis.svg.png 2x\" data-file-width=\"20\" data-file-height=\"20\"/></span></span></div>\n",
            "<div class=\"main-footer-menuDropdown mw-collapsible-content main-plainlist\">\n",
            "<ul><li><a href=\"/wiki/Categor%C3%ADa:Actualidad\" title=\"Categoría:Actualidad\"><span class=\"mw-ui-button mw-ui-quiet\"> Categoría de actualidad </span></a></li>\n",
            "<li><a href=\"/wiki/2024\" title=\"2024\"><span class=\"mw-ui-button mw-ui-quiet\"> Año 2024 </span></a></li>\n",
            "<li><a href=\"/wiki/Categor%C3%ADa:2024\" title=\"Categoría:2024\"><span class=\"mw-ui-button mw-ui-quiet\"> Categoría 2024 </span></a></li>\n",
            "<li><a href=\"/wiki/Plantilla:Portada:Actualidad\" title=\"Plantilla:Portada:Actualidad\"><span class=\"mw-ui-button mw-ui-quiet\"> Plantilla </span></a></li></ul>\n",
            "</div></div></div>\n",
            "</div>\n",
            "<link rel=\"mw-deduplicated-inline-style\" href=\"mw-data:TemplateStyles:r144107018\">\n",
            "<div id=\"main-itd\" class=\"main-box\"><div id=\"Efemérides\" class=\"main-box-section\">Efemérides</div><h2 class=\"main-header main-box-header\"><span class=\"mw-headline\" id=\"26_de_febrero\" data-mw-thread-id=\"h-26_de_febrero-Bienvenidos_a_Wikipedia,\"><span data-mw-comment-start=\"\" id=\"h-26_de_febrero-Bienvenidos_a_Wikipedia,\"></span><a href=\"/wiki/26_de_febrero\" title=\"26 de febrero\">26 de febrero</a><span data-mw-comment-end=\"h-26_de_febrero-Bienvenidos_a_Wikipedia,\"></span></span></h2>\n",
            "<figure class=\"mw-halign-right\" typeof=\"mw:File\"><a href=\"/wiki/Archivo:Turkish_President_Recep_Tayyip_Erdo%C4%9Fan_in_January_2024_(cropped).jpg\" class=\"mw-file-description\"><img src=\"//upload.wikimedia.org/wikipedia/commons/thumb/b/ba/Turkish_President_Recep_Tayyip_Erdo%C4%9Fan_in_January_2024_%28cropped%29.jpg/120px-Turkish_President_Recep_Tayyip_Erdo%C4%9Fan_in_January_2024_%28cropped%29.jpg\" decoding=\"async\" width=\"120\" height=\"155\" class=\"mw-file-element\" srcset=\"//upload.wikimedia.org/wikipedia/commons/thumb/b/ba/Turkish_President_Recep_Tayyip_Erdo%C4%9Fan_in_January_2024_%28cropped%29.jpg/180px-Turkish_President_Recep_Tayyip_Erdo%C4%9Fan_in_January_2024_%28cropped%29.jpg 1.5x, //upload.wikimedia.org/wikipedia/commons/thumb/b/ba/Turkish_President_Recep_Tayyip_Erdo%C4%9Fan_in_January_2024_%28cropped%29.jpg/240px-Turkish_President_Recep_Tayyip_Erdo%C4%9Fan_in_January_2024_%28cropped%29.jpg 2x\" data-file-width=\"1527\" data-file-height=\"1976\"/></a><figcaption></figcaption></figure>\n",
            "<ul><li><b><a href=\"/wiki/1924\" title=\"1924\">1924</a></b> <i>(hace 100 años)</i>: Fallece <b><a href=\"/wiki/Isabel_de_Baviera_(1863-1924)\" title=\"Isabel de Baviera (1863-1924)\">Isabel de Baviera</a></b>, princesa italoalemana (n. 1863).</li>\n",
            "<li><b><a href=\"/wiki/1924\" title=\"1924\">1924</a></b> <i>(hace 100 años)</i>: Nace <b><a href=\"/wiki/Noboru_Takeshita\" title=\"Noboru Takeshita\">Noboru Takeshita</a></b>, político japonés (f. 2000).</li>\n",
            "<li><b><a href=\"/wiki/1954\" title=\"1954\">1954</a></b> <i>(hace 70 años)</i>: Nace <b><a href=\"/wiki/Recep_Tayyip_Erdo%C4%9Fan\" title=\"Recep Tayyip Erdoğan\">Recep Tayyip Erdoğan</a></b>, político turco <i>(en la imagen)</i>.</li>\n",
            "<li><b><a href=\"/wiki/1974\" title=\"1974\">1974</a></b> <i>(hace 50 años)</i>: Nace <b><a href=\"/wiki/S%C3%A9bastien_Loeb\" title=\"Sébastien Loeb\">Sébastien Loeb</a></b>, piloto de automovilismo francés.</li>\n",
            "<li><b><a href=\"/wiki/1999\" title=\"1999\">1999</a></b> <i>(hace 25 años)</i>: En Estados Unidos, se lanza el microprocesador <b><a href=\"/wiki/Intel_Pentium_III\" title=\"Intel Pentium III\">Intel Pentium III</a></b>.</li></ul>\n",
            "<div style=\"clear: both;\"></div>\n",
            "<div class=\"main-footer\"><div class=\"main-footer-actions main-plainlist nomobile\">\n",
            "<ul><li><a href=\"/wiki/25_de_febrero\" title=\"25 de febrero\"><span class=\"mw-ui-button mw-ui-quiet\"> 25 de febrero </span></a></li>\n",
            "<li><a href=\"/wiki/26_de_febrero\" title=\"26 de febrero\"><span class=\"mw-ui-button\"> 26 de febrero </span></a></li>\n",
            "<li><a href=\"/wiki/27_de_febrero\" title=\"27 de febrero\"><span class=\"mw-ui-button mw-ui-quiet\"> 27 de febrero </span></a></li></ul>\n",
            "</div><div id=\"mw-customcollapsible-itd\" class=\"main-footer-menu mw-collapsible mw-collapsed nomobile\">\n",
            "<div class=\"main-footer-menuToggle mw-collapsible-toggle mw-customtoggle-main-itd\"><span typeof=\"mw:File\"><span title=\"Acciones adicionales\"><img alt=\"Acciones adicionales\" src=\"//upload.wikimedia.org/wikipedia/commons/thumb/b/b3/OOjs_UI_icon_ellipsis.svg/20px-OOjs_UI_icon_ellipsis.svg.png\" decoding=\"async\" width=\"20\" height=\"20\" class=\"mw-file-element\" srcset=\"//upload.wikimedia.org/wikipedia/commons/thumb/b/b3/OOjs_UI_icon_ellipsis.svg/30px-OOjs_UI_icon_ellipsis.svg.png 1.5x, //upload.wikimedia.org/wikipedia/commons/thumb/b/b3/OOjs_UI_icon_ellipsis.svg/40px-OOjs_UI_icon_ellipsis.svg.png 2x\" data-file-width=\"20\" data-file-height=\"20\"/></span></span></div>\n",
            "<div class=\"main-footer-menuDropdown mw-collapsible-content main-plainlist\">\n",
            "<ul><li><a href=\"/wiki/Plantilla:Efem%C3%A9rides\" title=\"Plantilla:Efemérides\"><span class=\"mw-ui-button mw-ui-quiet\"> Plantilla </span></a></li></ul>\n",
            "</div></div></div>\n",
            "</div>\n",
            "<link rel=\"mw-deduplicated-inline-style\" href=\"mw-data:TemplateStyles:r144107018\">\n",
            "<div id=\"main-wmfsp\" class=\"main-box\"><h2 class=\"main-header main-box-header\"><span id=\"Otros_proyectos_de_la_Fundaci.C3.B3n_Wikimedia\"></span><span class=\"mw-headline\" id=\"Otros_proyectos_de_la_Fundación_Wikimedia\" data-mw-thread-id=\"h-Otros_proyectos_de_la_Fundación_Wikimedia-Bienvenidos_a_Wikipedia,\"><span data-mw-comment-start=\"\" id=\"h-Otros_proyectos_de_la_Fundación_Wikimedia-Bienvenidos_a_Wikipedia,\"></span><a href=\"https://meta.wikimedia.org/wiki/Special:MyLanguage/Wikimedia_projects\" class=\"extiw\" title=\"meta:Special:MyLanguage/Wikimedia projects\">Otros proyectos</a> de la <a href=\"/wiki/Fundaci%C3%B3n_Wikimedia\" title=\"Fundación Wikimedia\">Fundación Wikimedia</a><span data-mw-comment-end=\"h-Otros_proyectos_de_la_Fundación_Wikimedia-Bienvenidos_a_Wikipedia,\"></span></span></h2>\n",
            "<table style=\"background:transparent; margin: 0 auto;\">\n",
            "\n",
            "<tbody><tr>\n",
            "<td style=\"padding: 8px;\"><figure class=\"mw-halign-center\" typeof=\"mw:File\"><a href=\"https://commons.wikimedia.org/wiki/Portada\" title=\"Wikimedia Commons\"><img alt=\"Wikimedia Commons\" src=\"//upload.wikimedia.org/wikipedia/commons/thumb/7/76/Notification-icon-Commons-logo.svg/30px-Notification-icon-Commons-logo.svg.png\" decoding=\"async\" width=\"30\" height=\"30\" class=\"mw-file-element\" srcset=\"//upload.wikimedia.org/wikipedia/commons/thumb/7/76/Notification-icon-Commons-logo.svg/45px-Notification-icon-Commons-logo.svg.png 1.5x, //upload.wikimedia.org/wikipedia/commons/thumb/7/76/Notification-icon-Commons-logo.svg/60px-Notification-icon-Commons-logo.svg.png 2x\" data-file-width=\"30\" data-file-height=\"30\"/></a><figcaption>Wikimedia Commons</figcaption></figure>\n",
            "</td>\n",
            "<td><b><a href=\"https://commons.wikimedia.org/wiki/Portada\" class=\"extiw\" title=\"commons:Portada\">Commons</a></b><br/><div style=\"font-size: 90%\">Imágenes y multimedia</div>\n",
            "</td>\n",
            "<td>\n",
            "</td>\n",
            "<td style=\"padding: 8px;\"><figure class=\"mw-halign-center\" typeof=\"mw:File\"><a href=\"https://es.wiktionary.org/wiki/Wikcionario:Portada\" title=\"Wikcionario\"><img alt=\"Wikcionario\" src=\"//upload.wikimedia.org/wikipedia/commons/thumb/a/ac/Notification-icon-Wiktionary-logo.svg/30px-Notification-icon-Wiktionary-logo.svg.png\" decoding=\"async\" width=\"30\" height=\"30\" class=\"mw-file-element\" srcset=\"//upload.wikimedia.org/wikipedia/commons/thumb/a/ac/Notification-icon-Wiktionary-logo.svg/45px-Notification-icon-Wiktionary-logo.svg.png 1.5x, //upload.wikimedia.org/wikipedia/commons/thumb/a/ac/Notification-icon-Wiktionary-logo.svg/60px-Notification-icon-Wiktionary-logo.svg.png 2x\" data-file-width=\"30\" data-file-height=\"30\"/></a><figcaption>Wikcionario</figcaption></figure>\n",
            "</td>\n",
            "<td><b><a href=\"https://es.wiktionary.org/wiki/Wikcionario:Portada\" class=\"extiw\" title=\"wikt:Wikcionario:Portada\">Wikcionario</a></b><br/><div style=\"font-size: 90%\">Diccionario libre</div>\n",
            "</td></tr>\n",
            "<tr>\n",
            "<td style=\"padding: 8px;\"><figure class=\"mw-halign-center\" typeof=\"mw:File\"><a href=\"https://www.wikidata.org/wiki/Wikidata:Portada\" title=\"Wikidata\"><img alt=\"Wikidata\" src=\"//upload.wikimedia.org/wikipedia/commons/thumb/6/67/Notification-icon-Wikidata-logo.svg/30px-Notification-icon-Wikidata-logo.svg.png\" decoding=\"async\" width=\"30\" height=\"30\" class=\"mw-file-element\" srcset=\"//upload.wikimedia.org/wikipedia/commons/thumb/6/67/Notification-icon-Wikidata-logo.svg/45px-Notification-icon-Wikidata-logo.svg.png 1.5x, //upload.wikimedia.org/wikipedia/commons/thumb/6/67/Notification-icon-Wikidata-logo.svg/60px-Notification-icon-Wikidata-logo.svg.png 2x\" data-file-width=\"30\" data-file-height=\"30\"/></a><figcaption>Wikidata</figcaption></figure>\n",
            "</td>\n",
            "<td><b><a href=\"https://www.wikidata.org/wiki/Wikidata:Portada\" class=\"extiw\" title=\"wikidata:Wikidata:Portada\">Wikidata</a></b><br/><div style=\"font-size: 90%\">Base de datos libre</div>\n",
            "</td>\n",
            "<td>\n",
            "</td>\n",
            "<td style=\"padding: 8px;\"><figure class=\"mw-halign-center\" typeof=\"mw:File\"><a href=\"https://es.wikibooks.org/wiki/Portada\" title=\"Wikilibros\"><img alt=\"Wikilibros\" src=\"//upload.wikimedia.org/wikipedia/commons/thumb/e/e0/Notification-icon-Wikibooks-logo.svg/30px-Notification-icon-Wikibooks-logo.svg.png\" decoding=\"async\" width=\"30\" height=\"30\" class=\"mw-file-element\" srcset=\"//upload.wikimedia.org/wikipedia/commons/thumb/e/e0/Notification-icon-Wikibooks-logo.svg/45px-Notification-icon-Wikibooks-logo.svg.png 1.5x, //upload.wikimedia.org/wikipedia/commons/thumb/e/e0/Notification-icon-Wikibooks-logo.svg/60px-Notification-icon-Wikibooks-logo.svg.png 2x\" data-file-width=\"30\" data-file-height=\"30\"/></a><figcaption>Wikilibros</figcaption></figure>\n",
            "</td>\n",
            "<td><b><a href=\"https://es.wikibooks.org/wiki/Portada\" class=\"extiw\" title=\"b:Portada\">Wikilibros</a></b><br/><div style=\"font-size: 90%\">Libros de texto y manuales</div>\n",
            "</td></tr>\n",
            "<tr>\n",
            "<td style=\"padding: 8px;\"><figure class=\"mw-halign-center\" typeof=\"mw:File\"><a href=\"https://es.wikinews.org/wiki/Portada\" title=\"Wikinoticias\"><img alt=\"Wikinoticias\" src=\"//upload.wikimedia.org/wikipedia/commons/thumb/5/57/Notification-icon-Wikinews-logo.svg/30px-Notification-icon-Wikinews-logo.svg.png\" decoding=\"async\" width=\"30\" height=\"30\" class=\"mw-file-element\" srcset=\"//upload.wikimedia.org/wikipedia/commons/thumb/5/57/Notification-icon-Wikinews-logo.svg/45px-Notification-icon-Wikinews-logo.svg.png 1.5x, //upload.wikimedia.org/wikipedia/commons/thumb/5/57/Notification-icon-Wikinews-logo.svg/60px-Notification-icon-Wikinews-logo.svg.png 2x\" data-file-width=\"30\" data-file-height=\"30\"/></a><figcaption>Wikinoticias</figcaption></figure>\n",
            "</td>\n",
            "<td><b><a href=\"https://es.wikinews.org/wiki/Portada\" class=\"extiw\" title=\"n:Portada\">Wikinoticias</a></b><br/><div style=\"font-size: 90%\">Noticias libres</div>\n",
            "</td>\n",
            "<td>\n",
            "</td>\n",
            "<td style=\"padding: 8px;\"><figure class=\"mw-halign-center\" typeof=\"mw:File\"><a href=\"https://es.wikiquote.org/wiki/Portada\" title=\"Wikiquote\"><img alt=\"Wikiquote\" src=\"//upload.wikimedia.org/wikipedia/commons/thumb/5/5a/Notification-icon-Wikiquote.svg/30px-Notification-icon-Wikiquote.svg.png\" decoding=\"async\" width=\"30\" height=\"30\" class=\"mw-file-element\" srcset=\"//upload.wikimedia.org/wikipedia/commons/thumb/5/5a/Notification-icon-Wikiquote.svg/45px-Notification-icon-Wikiquote.svg.png 1.5x, //upload.wikimedia.org/wikipedia/commons/thumb/5/5a/Notification-icon-Wikiquote.svg/60px-Notification-icon-Wikiquote.svg.png 2x\" data-file-width=\"30\" data-file-height=\"30\"/></a><figcaption>Wikiquote</figcaption></figure>\n",
            "</td>\n",
            "<td><b><a href=\"https://es.wikiquote.org/wiki/Portada\" class=\"extiw\" title=\"q:Portada\">Wikiquote</a></b><br/><div style=\"font-size: 90%\">Colección de citas</div>\n",
            "</td></tr>\n",
            "<tr>\n",
            "<td style=\"padding: 8px;\"><figure class=\"mw-halign-center\" typeof=\"mw:File\"><a href=\"https://es.wikisource.org/wiki/Portada\" title=\"Wikisource\"><img alt=\"Wikisource\" src=\"//upload.wikimedia.org/wikipedia/commons/thumb/5/5a/Notification-icon-Wikisource-logo.svg/30px-Notification-icon-Wikisource-logo.svg.png\" decoding=\"async\" width=\"30\" height=\"30\" class=\"mw-file-element\" srcset=\"//upload.wikimedia.org/wikipedia/commons/thumb/5/5a/Notification-icon-Wikisource-logo.svg/45px-Notification-icon-Wikisource-logo.svg.png 1.5x, //upload.wikimedia.org/wikipedia/commons/thumb/5/5a/Notification-icon-Wikisource-logo.svg/60px-Notification-icon-Wikisource-logo.svg.png 2x\" data-file-width=\"30\" data-file-height=\"30\"/></a><figcaption>Wikisource</figcaption></figure>\n",
            "</td>\n",
            "<td><b><a href=\"https://es.wikisource.org/wiki/Portada\" class=\"extiw\" title=\"s:Portada\">Wikisource</a></b><br/><div style=\"font-size: 90%\">Biblioteca libre</div>\n",
            "</td>\n",
            "<td>\n",
            "</td>\n",
            "<td style=\"padding: 8px;\"><figure class=\"mw-halign-center\" typeof=\"mw:File\"><a href=\"https://species.wikimedia.org/wiki/Portada\" title=\"Wikispecies\"><img alt=\"Wikispecies\" src=\"//upload.wikimedia.org/wikipedia/commons/thumb/0/08/Notification-icon-Wikispecies-logo.svg/30px-Notification-icon-Wikispecies-logo.svg.png\" decoding=\"async\" width=\"30\" height=\"30\" class=\"mw-file-element\" srcset=\"//upload.wikimedia.org/wikipedia/commons/thumb/0/08/Notification-icon-Wikispecies-logo.svg/45px-Notification-icon-Wikispecies-logo.svg.png 1.5x, //upload.wikimedia.org/wikipedia/commons/thumb/0/08/Notification-icon-Wikispecies-logo.svg/60px-Notification-icon-Wikispecies-logo.svg.png 2x\" data-file-width=\"30\" data-file-height=\"30\"/></a><figcaption>Wikispecies</figcaption></figure>\n",
            "</td>\n",
            "<td><b><a href=\"https://species.wikimedia.org/wiki/Portada\" class=\"extiw\" title=\"wikispecies:Portada\">Wikispecies</a></b><br/><div style=\"font-size: 90%\">Directorio de especies</div>\n",
            "</td></tr>\n",
            "<tr>\n",
            "<td style=\"padding: 8px;\"><figure class=\"mw-halign-center\" typeof=\"mw:File\"><a href=\"https://es.wikiversity.org/wiki/Portada\" title=\"Wikiversidad\"><img alt=\"Wikiversidad\" src=\"//upload.wikimedia.org/wikipedia/commons/thumb/0/01/Notification-icon-Wikiversity-logo.svg/30px-Notification-icon-Wikiversity-logo.svg.png\" decoding=\"async\" width=\"30\" height=\"30\" class=\"mw-file-element\" srcset=\"//upload.wikimedia.org/wikipedia/commons/thumb/0/01/Notification-icon-Wikiversity-logo.svg/45px-Notification-icon-Wikiversity-logo.svg.png 1.5x, //upload.wikimedia.org/wikipedia/commons/thumb/0/01/Notification-icon-Wikiversity-logo.svg/60px-Notification-icon-Wikiversity-logo.svg.png 2x\" data-file-width=\"30\" data-file-height=\"30\"/></a><figcaption>Wikiversidad</figcaption></figure>\n",
            "</td>\n",
            "<td><b><a href=\"https://es.wikiversity.org/wiki/Portada\" class=\"extiw\" title=\"v:Portada\">Wikiversidad</a></b><br/><div style=\"font-size: 90%\">Recursos de aprendizaje</div>\n",
            "</td>\n",
            "<td>\n",
            "</td>\n",
            "<td style=\"padding: 8px;\"><figure class=\"mw-halign-center\" typeof=\"mw:File\"><a href=\"https://es.wikivoyage.org/wiki/es:P%C3%A1gina_principal\" title=\"Wikiviajes\"><img alt=\"Wikiviajes\" src=\"//upload.wikimedia.org/wikipedia/commons/thumb/4/47/Notification-icon-Wikivoyage-logo.svg/30px-Notification-icon-Wikivoyage-logo.svg.png\" decoding=\"async\" width=\"30\" height=\"30\" class=\"mw-file-element\" srcset=\"//upload.wikimedia.org/wikipedia/commons/thumb/4/47/Notification-icon-Wikivoyage-logo.svg/45px-Notification-icon-Wikivoyage-logo.svg.png 1.5x, //upload.wikimedia.org/wikipedia/commons/thumb/4/47/Notification-icon-Wikivoyage-logo.svg/60px-Notification-icon-Wikivoyage-logo.svg.png 2x\" data-file-width=\"30\" data-file-height=\"30\"/></a><figcaption>Wikiviajes</figcaption></figure>\n",
            "</td>\n",
            "<td><b><a href=\"https://es.wikivoyage.org/wiki/es:P%C3%A1gina_principal\" class=\"extiw\" title=\"voy:es:Página principal\">Wikiviajes</a></b><br/><div style=\"font-size: 90%\">Guía de viajes</div>\n",
            "</td></tr>\n",
            "<tr>\n",
            "<td colspan=\"5\" style=\"padding: 8px; text-align: center;\"><span typeof=\"mw:File\"><a href=\"https://meta.wikimedia.org/wiki/Portada/Es\" title=\"Meta-Wiki\"><img alt=\"Meta-Wiki\" src=\"//upload.wikimedia.org/wikipedia/commons/thumb/8/86/Notification-icon-Meta-logo.svg/30px-Notification-icon-Meta-logo.svg.png\" decoding=\"async\" width=\"30\" height=\"30\" class=\"mw-file-element\" srcset=\"//upload.wikimedia.org/wikipedia/commons/thumb/8/86/Notification-icon-Meta-logo.svg/45px-Notification-icon-Meta-logo.svg.png 1.5x, //upload.wikimedia.org/wikipedia/commons/thumb/8/86/Notification-icon-Meta-logo.svg/60px-Notification-icon-Meta-logo.svg.png 2x\" data-file-width=\"30\" data-file-height=\"30\"/></a></span><span style=\"padding-left: 8px;\"><b><a href=\"https://meta.wikimedia.org/wiki/Portada/es\" class=\"extiw\" title=\"m:Portada/es\">Meta-Wiki</a></b> – <span style=\"font-size: 90%\">Coordinación de proyectos</span></span>\n",
            "</td></tr></tbody></table>\n",
            "<div style=\"clear: both;\"></div>\n",
            "</div>\n",
            "</div>\n",
            "</div>\n",
            "<!-- \n",
            "NewPP limit report\n",
            "Parsed by mw‐web.codfw.main‐6c48d7fb95‐96wc4\n",
            "Cached time: 20240226140705\n",
            "Cache expiry: 3600\n",
            "Reduced expiry: true\n",
            "Complications: [no‐toc]\n",
            "DiscussionTools time usage: 0.025 seconds\n",
            "CPU time usage: 0.279 seconds\n",
            "Real time usage: 0.351 seconds\n",
            "Preprocessor visited node count: 4968/1000000\n",
            "Post‐expand include size: 74647/2097152 bytes\n",
            "Template argument size: 29838/2097152 bytes\n",
            "Highest expansion depth: 21/100\n",
            "Expensive parser function count: 0/500\n",
            "Unstrip recursion depth: 0/20\n",
            "Unstrip post‐expand size: 21451/5000000 bytes\n",
            "Lua time usage: 0.011/10.000 seconds\n",
            "Lua memory usage: 1321252/52428800 bytes\n",
            "Number of Wikibase entities loaded: 0/400\n",
            "-->\n",
            "<!--\n",
            "Transclusion expansion time report (%,ms,calls,template)\n",
            "100.00%  196.674      1 -total\n",
            " 86.93%  170.971      7 Plantilla:Portada:Sección\n",
            " 25.51%   50.178      4 Plantilla:Portada:Destacado\n",
            " 19.70%   38.752      5 Plantilla:Portada:Destacado/A\n",
            " 18.56%   36.496      5 Plantilla:Portada:Resumen\n",
            " 12.99%   25.543     16 Plantilla:Título_sin_coletilla\n",
            " 12.51%   24.597      1 Plantilla:Portada:Portales_II\n",
            " 11.69%   22.986      5 Plantilla:ABDD\n",
            " 11.46%   22.541      1 Plantilla:Portada:Encabezado/OOUI\n",
            " 10.89%   21.414      8 Plantilla:PortalIconos\n",
            "-->\n",
            "\n",
            "<!-- Saved in parser cache with key eswiki:pcache:idhash:2271189-0!canonical and timestamp 20240226140705 and revision id 149134229. Rendering was triggered because: page-view\n",
            " -->\n",
            "</div><!--esi <esi:include src=\"/esitest-fa8a495983347898/content\" /> --><noscript><img src=\"https://login.wikimedia.org/wiki/Special:CentralAutoLogin/start?type=1x1\" alt=\"\" width=\"1\" height=\"1\" style=\"border: none; position: absolute;\"></noscript>\n",
            "<div class=\"printfooter\" data-nosnippet=\"\">Obtenido de «<a dir=\"ltr\" href=\"https://es.wikipedia.org/w/index.php?title=Wikipedia:Portada&amp;oldid=149134229\">https://es.wikipedia.org/w/index.php?title=Wikipedia:Portada&amp;oldid=149134229</a>»</div></div>\n",
            "\t\t\t\t\t<div id=\"catlinks\" class=\"catlinks catlinks-allhidden\" data-mw=\"interface\"></div>\n",
            "\t\t\t\t\t\t\n",
            "<div id=\"p-lang-btn\" class=\"vector-dropdown mw-portlet mw-portlet-lang\"  >\n",
            "\t<input type=\"checkbox\" id=\"p-lang-btn-checkbox\" role=\"button\" aria-haspopup=\"true\" data-event-name=\"ui.dropdown-p-lang-btn\" class=\"vector-dropdown-checkbox mw-interlanguage-selector\" aria-label=\"Ir a un artículo en otro idioma. Disponible en 62 idiomas\"   >\n",
            "\t<label id=\"p-lang-btn-label\" for=\"p-lang-btn-checkbox\" class=\"vector-dropdown-label cdx-button cdx-button--fake-button cdx-button--fake-button--enabled cdx-button--weight-quiet cdx-button--action-progressive mw-portlet-lang-heading-62\" aria-hidden=\"true\"  ><span class=\"vector-icon mw-ui-icon-language-progressive mw-ui-icon-wikimedia-language-progressive\"></span>\n",
            "\n",
            "<span class=\"vector-dropdown-label-text\">62 idiomas</span>\n",
            "\t</label>\n",
            "\t<div class=\"vector-dropdown-content\">\n",
            "\n",
            "\t\t<div class=\"vector-menu-content\">\n",
            "\t\t\t\n",
            "\t\t\t<ul class=\"vector-menu-content-list\">\n",
            "\t\t\t\t\n",
            "\t\t\t\t<li class=\"interlanguage-link interwiki-an mw-list-item\"><a href=\"https://an.wikipedia.org/wiki/\" title=\"aragonés\" lang=\"an\" hreflang=\"an\" class=\"interlanguage-link-target\"><span>Aragonés</span></a></li><li class=\"interlanguage-link interwiki-ar mw-list-item\"><a href=\"https://ar.wikipedia.org/wiki/\" title=\"árabe\" lang=\"ar\" hreflang=\"ar\" class=\"interlanguage-link-target\"><span>العربية</span></a></li><li class=\"interlanguage-link interwiki-ast mw-list-item\"><a href=\"https://ast.wikipedia.org/wiki/\" title=\"asturiano\" lang=\"ast\" hreflang=\"ast\" class=\"interlanguage-link-target\"><span>Asturianu</span></a></li><li class=\"interlanguage-link interwiki-ay mw-list-item\"><a href=\"https://ay.wikipedia.org/wiki/\" title=\"aimara\" lang=\"ay\" hreflang=\"ay\" class=\"interlanguage-link-target\"><span>Aymar aru</span></a></li><li class=\"interlanguage-link interwiki-bg mw-list-item\"><a href=\"https://bg.wikipedia.org/wiki/\" title=\"búlgaro\" lang=\"bg\" hreflang=\"bg\" class=\"interlanguage-link-target\"><span>Български</span></a></li><li class=\"interlanguage-link interwiki-bpy mw-list-item\"><a href=\"https://bpy.wikipedia.org/wiki/\" title=\"Bishnupriya\" lang=\"bpy\" hreflang=\"bpy\" class=\"interlanguage-link-target\"><span>বিষ্ণুপ্রিয়া মণিপুরী</span></a></li><li class=\"interlanguage-link interwiki-bs mw-list-item\"><a href=\"https://bs.wikipedia.org/wiki/\" title=\"bosnio\" lang=\"bs\" hreflang=\"bs\" class=\"interlanguage-link-target\"><span>Bosanski</span></a></li><li class=\"interlanguage-link interwiki-ca mw-list-item\"><a href=\"https://ca.wikipedia.org/wiki/\" title=\"catalán\" lang=\"ca\" hreflang=\"ca\" class=\"interlanguage-link-target\"><span>Català</span></a></li><li class=\"interlanguage-link interwiki-cbk-zam mw-list-item\"><a href=\"https://cbk-zam.wikipedia.org/wiki/\" title=\"Chavacano\" lang=\"cbk\" hreflang=\"cbk\" class=\"interlanguage-link-target\"><span>Chavacano de Zamboanga</span></a></li><li class=\"interlanguage-link interwiki-ceb mw-list-item\"><a href=\"https://ceb.wikipedia.org/wiki/\" title=\"cebuano\" lang=\"ceb\" hreflang=\"ceb\" class=\"interlanguage-link-target\"><span>Cebuano</span></a></li><li class=\"interlanguage-link interwiki-ch mw-list-item\"><a href=\"https://ch.wikipedia.org/wiki/\" title=\"chamorro\" lang=\"ch\" hreflang=\"ch\" class=\"interlanguage-link-target\"><span>Chamoru</span></a></li><li class=\"interlanguage-link interwiki-cs mw-list-item\"><a href=\"https://cs.wikipedia.org/wiki/\" title=\"checo\" lang=\"cs\" hreflang=\"cs\" class=\"interlanguage-link-target\"><span>Čeština</span></a></li><li class=\"interlanguage-link interwiki-da mw-list-item\"><a href=\"https://da.wikipedia.org/wiki/\" title=\"danés\" lang=\"da\" hreflang=\"da\" class=\"interlanguage-link-target\"><span>Dansk</span></a></li><li class=\"interlanguage-link interwiki-de mw-list-item\"><a href=\"https://de.wikipedia.org/wiki/\" title=\"alemán\" lang=\"de\" hreflang=\"de\" class=\"interlanguage-link-target\"><span>Deutsch</span></a></li><li class=\"interlanguage-link interwiki-el mw-list-item\"><a href=\"https://el.wikipedia.org/wiki/\" title=\"griego\" lang=\"el\" hreflang=\"el\" class=\"interlanguage-link-target\"><span>Ελληνικά</span></a></li><li class=\"interlanguage-link interwiki-en mw-list-item\"><a href=\"https://en.wikipedia.org/wiki/\" title=\"inglés\" lang=\"en\" hreflang=\"en\" class=\"interlanguage-link-target\"><span>English</span></a></li><li class=\"interlanguage-link interwiki-eo mw-list-item\"><a href=\"https://eo.wikipedia.org/wiki/\" title=\"esperanto\" lang=\"eo\" hreflang=\"eo\" class=\"interlanguage-link-target\"><span>Esperanto</span></a></li><li class=\"interlanguage-link interwiki-et mw-list-item\"><a href=\"https://et.wikipedia.org/wiki/\" title=\"estonio\" lang=\"et\" hreflang=\"et\" class=\"interlanguage-link-target\"><span>Eesti</span></a></li><li class=\"interlanguage-link interwiki-eu mw-list-item\"><a href=\"https://eu.wikipedia.org/wiki/\" title=\"euskera\" lang=\"eu\" hreflang=\"eu\" class=\"interlanguage-link-target\"><span>Euskara</span></a></li><li class=\"interlanguage-link interwiki-ext mw-list-item\"><a href=\"https://ext.wikipedia.org/wiki/\" title=\"Extremaduran\" lang=\"ext\" hreflang=\"ext\" class=\"interlanguage-link-target\"><span>Estremeñu</span></a></li><li class=\"interlanguage-link interwiki-fa mw-list-item\"><a href=\"https://fa.wikipedia.org/wiki/\" title=\"persa\" lang=\"fa\" hreflang=\"fa\" class=\"interlanguage-link-target\"><span>فارسی</span></a></li><li class=\"interlanguage-link interwiki-fi mw-list-item\"><a href=\"https://fi.wikipedia.org/wiki/\" title=\"finés\" lang=\"fi\" hreflang=\"fi\" class=\"interlanguage-link-target\"><span>Suomi</span></a></li><li class=\"interlanguage-link interwiki-fr mw-list-item\"><a href=\"https://fr.wikipedia.org/wiki/\" title=\"francés\" lang=\"fr\" hreflang=\"fr\" class=\"interlanguage-link-target\"><span>Français</span></a></li><li class=\"interlanguage-link interwiki-gl mw-list-item\"><a href=\"https://gl.wikipedia.org/wiki/\" title=\"gallego\" lang=\"gl\" hreflang=\"gl\" class=\"interlanguage-link-target\"><span>Galego</span></a></li><li class=\"interlanguage-link interwiki-gn mw-list-item\"><a href=\"https://gn.wikipedia.org/wiki/\" title=\"guaraní\" lang=\"gn\" hreflang=\"gn\" class=\"interlanguage-link-target\"><span>Avañe'ẽ</span></a></li><li class=\"interlanguage-link interwiki-he mw-list-item\"><a href=\"https://he.wikipedia.org/wiki/\" title=\"hebreo\" lang=\"he\" hreflang=\"he\" class=\"interlanguage-link-target\"><span>עברית</span></a></li><li class=\"interlanguage-link interwiki-hr mw-list-item\"><a href=\"https://hr.wikipedia.org/wiki/\" title=\"croata\" lang=\"hr\" hreflang=\"hr\" class=\"interlanguage-link-target\"><span>Hrvatski</span></a></li><li class=\"interlanguage-link interwiki-hu mw-list-item\"><a href=\"https://hu.wikipedia.org/wiki/\" title=\"húngaro\" lang=\"hu\" hreflang=\"hu\" class=\"interlanguage-link-target\"><span>Magyar</span></a></li><li class=\"interlanguage-link interwiki-id mw-list-item\"><a href=\"https://id.wikipedia.org/wiki/\" title=\"indonesio\" lang=\"id\" hreflang=\"id\" class=\"interlanguage-link-target\"><span>Bahasa Indonesia</span></a></li><li class=\"interlanguage-link interwiki-it mw-list-item\"><a href=\"https://it.wikipedia.org/wiki/\" title=\"italiano\" lang=\"it\" hreflang=\"it\" class=\"interlanguage-link-target\"><span>Italiano</span></a></li><li class=\"interlanguage-link interwiki-ja mw-list-item\"><a href=\"https://ja.wikipedia.org/wiki/\" title=\"japonés\" lang=\"ja\" hreflang=\"ja\" class=\"interlanguage-link-target\"><span>日本語</span></a></li><li class=\"interlanguage-link interwiki-ko mw-list-item\"><a href=\"https://ko.wikipedia.org/wiki/\" title=\"coreano\" lang=\"ko\" hreflang=\"ko\" class=\"interlanguage-link-target\"><span>한국어</span></a></li><li class=\"interlanguage-link interwiki-la mw-list-item\"><a href=\"https://la.wikipedia.org/wiki/\" title=\"latín\" lang=\"la\" hreflang=\"la\" class=\"interlanguage-link-target\"><span>Latina</span></a></li><li class=\"interlanguage-link interwiki-lad mw-list-item\"><a href=\"https://lad.wikipedia.org/wiki/\" title=\"ladino\" lang=\"lad\" hreflang=\"lad\" class=\"interlanguage-link-target\"><span>Ladino</span></a></li><li class=\"interlanguage-link interwiki-lmo mw-list-item\"><a href=\"https://lmo.wikipedia.org/wiki/\" title=\"lombardo\" lang=\"lmo\" hreflang=\"lmo\" class=\"interlanguage-link-target\"><span>Lombard</span></a></li><li class=\"interlanguage-link interwiki-lt mw-list-item\"><a href=\"https://lt.wikipedia.org/wiki/\" title=\"lituano\" lang=\"lt\" hreflang=\"lt\" class=\"interlanguage-link-target\"><span>Lietuvių</span></a></li><li class=\"interlanguage-link interwiki-ms mw-list-item\"><a href=\"https://ms.wikipedia.org/wiki/\" title=\"malayo\" lang=\"ms\" hreflang=\"ms\" class=\"interlanguage-link-target\"><span>Bahasa Melayu</span></a></li><li class=\"interlanguage-link interwiki-mwl mw-list-item\"><a href=\"https://mwl.wikipedia.org/wiki/\" title=\"mirandés\" lang=\"mwl\" hreflang=\"mwl\" class=\"interlanguage-link-target\"><span>Mirandés</span></a></li><li class=\"interlanguage-link interwiki-nah mw-list-item\"><a href=\"https://nah.wikipedia.org/wiki/\" title=\"Nāhuatl\" lang=\"nah\" hreflang=\"nah\" class=\"interlanguage-link-target\"><span>Nāhuatl</span></a></li><li class=\"interlanguage-link interwiki-new mw-list-item\"><a href=\"https://new.wikipedia.org/wiki/\" title=\"nevarí\" lang=\"new\" hreflang=\"new\" class=\"interlanguage-link-target\"><span>नेपाल भाषा</span></a></li><li class=\"interlanguage-link interwiki-nl mw-list-item\"><a href=\"https://nl.wikipedia.org/wiki/\" title=\"neerlandés\" lang=\"nl\" hreflang=\"nl\" class=\"interlanguage-link-target\"><span>Nederlands</span></a></li><li class=\"interlanguage-link interwiki-nn mw-list-item\"><a href=\"https://nn.wikipedia.org/wiki/\" title=\"noruego nynorsk\" lang=\"nn\" hreflang=\"nn\" class=\"interlanguage-link-target\"><span>Norsk nynorsk</span></a></li><li class=\"interlanguage-link interwiki-no mw-list-item\"><a href=\"https://no.wikipedia.org/wiki/\" title=\"noruego bokmal\" lang=\"nb\" hreflang=\"nb\" class=\"interlanguage-link-target\"><span>Norsk bokmål</span></a></li><li class=\"interlanguage-link interwiki-oc mw-list-item\"><a href=\"https://oc.wikipedia.org/wiki/\" title=\"occitano\" lang=\"oc\" hreflang=\"oc\" class=\"interlanguage-link-target\"><span>Occitan</span></a></li><li class=\"interlanguage-link interwiki-pap mw-list-item\"><a href=\"https://pap.wikipedia.org/wiki/\" title=\"papiamento\" lang=\"pap\" hreflang=\"pap\" class=\"interlanguage-link-target\"><span>Papiamentu</span></a></li><li class=\"interlanguage-link interwiki-pl mw-list-item\"><a href=\"https://pl.wikipedia.org/wiki/\" title=\"polaco\" lang=\"pl\" hreflang=\"pl\" class=\"interlanguage-link-target\"><span>Polski</span></a></li><li class=\"interlanguage-link interwiki-pt mw-list-item\"><a href=\"https://pt.wikipedia.org/wiki/\" title=\"portugués\" lang=\"pt\" hreflang=\"pt\" class=\"interlanguage-link-target\"><span>Português</span></a></li><li class=\"interlanguage-link interwiki-qu mw-list-item\"><a href=\"https://qu.wikipedia.org/wiki/\" title=\"quechua\" lang=\"qu\" hreflang=\"qu\" class=\"interlanguage-link-target\"><span>Runa Simi</span></a></li><li class=\"interlanguage-link interwiki-ro mw-list-item\"><a href=\"https://ro.wikipedia.org/wiki/\" title=\"rumano\" lang=\"ro\" hreflang=\"ro\" class=\"interlanguage-link-target\"><span>Română</span></a></li><li class=\"interlanguage-link interwiki-ru mw-list-item\"><a href=\"https://ru.wikipedia.org/wiki/\" title=\"ruso\" lang=\"ru\" hreflang=\"ru\" class=\"interlanguage-link-target\"><span>Русский</span></a></li><li class=\"interlanguage-link interwiki-simple mw-list-item\"><a href=\"https://simple.wikipedia.org/wiki/\" title=\"Simple English\" lang=\"en-simple\" hreflang=\"en-simple\" class=\"interlanguage-link-target\"><span>Simple English</span></a></li><li class=\"interlanguage-link interwiki-sk mw-list-item\"><a href=\"https://sk.wikipedia.org/wiki/\" title=\"eslovaco\" lang=\"sk\" hreflang=\"sk\" class=\"interlanguage-link-target\"><span>Slovenčina</span></a></li><li class=\"interlanguage-link interwiki-sl mw-list-item\"><a href=\"https://sl.wikipedia.org/wiki/\" title=\"esloveno\" lang=\"sl\" hreflang=\"sl\" class=\"interlanguage-link-target\"><span>Slovenščina</span></a></li><li class=\"interlanguage-link interwiki-sr mw-list-item\"><a href=\"https://sr.wikipedia.org/wiki/\" title=\"serbio\" lang=\"sr\" hreflang=\"sr\" class=\"interlanguage-link-target\"><span>Српски / srpski</span></a></li><li class=\"interlanguage-link interwiki-sv mw-list-item\"><a href=\"https://sv.wikipedia.org/wiki/\" title=\"sueco\" lang=\"sv\" hreflang=\"sv\" class=\"interlanguage-link-target\"><span>Svenska</span></a></li><li class=\"interlanguage-link interwiki-te mw-list-item\"><a href=\"https://te.wikipedia.org/wiki/\" title=\"telugu\" lang=\"te\" hreflang=\"te\" class=\"interlanguage-link-target\"><span>తెలుగు</span></a></li><li class=\"interlanguage-link interwiki-th mw-list-item\"><a href=\"https://th.wikipedia.org/wiki/\" title=\"tailandés\" lang=\"th\" hreflang=\"th\" class=\"interlanguage-link-target\"><span>ไทย</span></a></li><li class=\"interlanguage-link interwiki-tl mw-list-item\"><a href=\"https://tl.wikipedia.org/wiki/\" title=\"tagalo\" lang=\"tl\" hreflang=\"tl\" class=\"interlanguage-link-target\"><span>Tagalog</span></a></li><li class=\"interlanguage-link interwiki-tr mw-list-item\"><a href=\"https://tr.wikipedia.org/wiki/\" title=\"turco\" lang=\"tr\" hreflang=\"tr\" class=\"interlanguage-link-target\"><span>Türkçe</span></a></li><li class=\"interlanguage-link interwiki-uk mw-list-item\"><a href=\"https://uk.wikipedia.org/wiki/\" title=\"ucraniano\" lang=\"uk\" hreflang=\"uk\" class=\"interlanguage-link-target\"><span>Українська</span></a></li><li class=\"interlanguage-link interwiki-vi mw-list-item\"><a href=\"https://vi.wikipedia.org/wiki/\" title=\"vietnamita\" lang=\"vi\" hreflang=\"vi\" class=\"interlanguage-link-target\"><span>Tiếng Việt</span></a></li><li class=\"interlanguage-link interwiki-zh mw-list-item\"><a href=\"https://zh.wikipedia.org/wiki/\" title=\"chino\" lang=\"zh\" hreflang=\"zh\" class=\"interlanguage-link-target\"><span>中文</span></a></li>\n",
            "\t\t\t</ul>\n",
            "\t\t\t\n",
            "\t\t</div>\n",
            "\n",
            "\t</div>\n",
            "</div>\n",
            "\n",
            "\t\t\t\t</div>\n",
            "\t\t\t</main>\n",
            "\t\t\t\n",
            "\t\t</div>\n",
            "\t\t<div class=\"mw-footer-container\">\n",
            "\t\t\t\n",
            "<footer id=\"footer\" class=\"mw-footer\" role=\"contentinfo\" >\n",
            "\t<ul id=\"footer-info\">\n",
            "\t<li id=\"footer-info-lastmod\"> Esta página se editó por última vez el 8 feb 2023 a las 00:22.</li>\n",
            "\t<li id=\"footer-info-copyright\">El texto está disponible bajo la <a rel=\"license\" href=\"https://es.wikipedia.org/wiki/Wikipedia:Texto_de_la_Licencia_Creative_Commons_Atribuci%C3%B3n-CompartirIgual_4.0_Internacional\">Licencia Creative Commons Atribución-CompartirIgual 4.0</a><a rel=\"license\" href=\"https://creativecommons.org/licenses/by-sa/4.0/deed.es\" style=\"display:none;\"></a>; pueden aplicarse cláusulas adicionales. Al usar este sitio aceptas nuestros <a href=\"https://foundation.wikimedia.org/wiki/Policy:Terms_of_Use/es\">términos de uso</a> y nuestra <a href=\"https://foundation.wikimedia.org/wiki/Policy:Privacy_policy/es\">política de privacidad</a>.<br/>Wikipedia&reg; es una marca registrada de la <a href=\"https://wikimediafoundation.org/es/\">Fundación Wikimedia</a>, una organización sin ánimo de lucro.</li>\n",
            "</ul>\n",
            "\n",
            "\t<ul id=\"footer-places\">\n",
            "\t<li id=\"footer-places-privacy\"><a href=\"https://foundation.wikimedia.org/wiki/Special:MyLanguage/Policy:Privacy_policy/es\">Política de privacidad</a></li>\n",
            "\t<li id=\"footer-places-about\"><a href=\"/wiki/Wikipedia:Acerca_de\">Acerca de Wikipedia</a></li>\n",
            "\t<li id=\"footer-places-disclaimers\"><a href=\"/wiki/Wikipedia:Limitaci%C3%B3n_general_de_responsabilidad\">Limitación de responsabilidad</a></li>\n",
            "\t<li id=\"footer-places-wm-codeofconduct\"><a href=\"https://foundation.wikimedia.org/wiki/Special:MyLanguage/Policy:Universal_Code_of_Conduct\">Código de conducta</a></li>\n",
            "\t<li id=\"footer-places-developers\"><a href=\"https://developer.wikimedia.org\">Desarrolladores</a></li>\n",
            "\t<li id=\"footer-places-statslink\"><a href=\"https://stats.wikimedia.org/#/es.wikipedia.org\">Estadísticas</a></li>\n",
            "\t<li id=\"footer-places-cookiestatement\"><a href=\"https://foundation.wikimedia.org/wiki/Special:MyLanguage/Policy:Cookie_statement/es\">Declaración de cookies</a></li>\n",
            "\t<li id=\"footer-places-mobileview\"><a href=\"//es.m.wikipedia.org/w/index.php?title=Wikipedia:Portada&amp;mobileaction=toggle_view_mobile\" class=\"noprint stopMobileRedirectToggle\">Versión para móviles</a></li>\n",
            "</ul>\n",
            "\n",
            "\t<ul id=\"footer-icons\" class=\"noprint\">\n",
            "\t<li id=\"footer-copyrightico\"><a href=\"https://wikimediafoundation.org/\"><img src=\"/static/images/footer/wikimedia-button.png\" srcset=\"/static/images/footer/wikimedia-button-1.5x.png 1.5x, /static/images/footer/wikimedia-button-2x.png 2x\" width=\"88\" height=\"31\" alt=\"Wikimedia Foundation\" loading=\"lazy\" /></a></li>\n",
            "\t<li id=\"footer-poweredbyico\"><a href=\"https://www.mediawiki.org/\"><img src=\"/static/images/footer/poweredby_mediawiki_88x31.png\" alt=\"Powered by MediaWiki\" srcset=\"/static/images/footer/poweredby_mediawiki_132x47.png 1.5x, /static/images/footer/poweredby_mediawiki_176x62.png 2x\" width=\"88\" height=\"31\" loading=\"lazy\"></a></li>\n",
            "</ul>\n",
            "\n",
            "</footer>\n",
            "\n",
            "\t\t</div>\n",
            "\t</div> \n",
            "</div> \n",
            "<div class=\"vector-settings\" id=\"p-dock-bottom\">\n",
            "\t<ul>\n",
            "\t\t<li>\n",
            "\t\t<button class=\"cdx-button cdx-button--icon-only vector-limited-width-toggle\" id=\"\"><span class=\"vector-icon mw-ui-icon-fullScreen mw-ui-icon-wikimedia-fullScreen\"></span>\n",
            "\n",
            "<span>Activar o desactivar el límite de anchura del contenido</span>\n",
            "</button>\n",
            "</li>\n",
            "\t</ul>\n",
            "</div>\n",
            "<script>(RLQ=window.RLQ||[]).push(function(){mw.log.warn(\"This page is using the deprecated ResourceLoader module \\\"mediawiki.ui.button\\\".\\n[1.41] Please use Codex. See migration guidelines: https://www.mediawiki.org/wiki/Codex/Migrating_from_MediaWiki_UI\");mw.config.set({\"wgHostname\":\"mw2329\",\"wgBackendResponseTime\":109,\"wgDiscussionToolsPageThreads\":[{\"headingLevel\":1,\"name\":\"h-\",\"type\":\"heading\",\"level\":0,\"id\":\"h-Bienvenidos_a_Wikipedia,\",\"replies\":[{\"headingLevel\":2,\"name\":\"h-\",\"type\":\"heading\",\"level\":0,\"id\":\"h-Mariya_Spiridónova-Bienvenidos_a_Wikipedia,\",\"replies\":[]},{\"headingLevel\":2,\"name\":\"h-\",\"type\":\"heading\",\"level\":0,\"id\":\"h-Born_to_Make_You_Happy-Bienvenidos_a_Wikipedia,\",\"replies\":[]},{\"headingLevel\":2,\"name\":\"h-\",\"type\":\"heading\",\"level\":0,\"id\":\"h-Recurso_del_día-Bienvenidos_a_Wikipedia,\",\"replies\":[]},{\"headingLevel\":2,\"name\":\"h-\",\"type\":\"heading\",\"level\":0,\"id\":\"h-Portales-Bienvenidos_a_Wikipedia,\",\"replies\":[]},{\"headingLevel\":2,\"name\":\"h-\",\"type\":\"heading\",\"level\":0,\"id\":\"h-Actualidad-Bienvenidos_a_Wikipedia,\",\"replies\":[]},{\"headingLevel\":2,\"name\":\"h-\",\"type\":\"heading\",\"level\":0,\"id\":\"h-26_de_febrero-Bienvenidos_a_Wikipedia,\",\"replies\":[]},{\"headingLevel\":2,\"name\":\"h-\",\"type\":\"heading\",\"level\":0,\"id\":\"h-Otros_proyectos_de_la_Fundación_Wikimedia-Bienvenidos_a_Wikipedia,\",\"replies\":[]}]}],\"wgPageParseReport\":{\"discussiontools\":{\"limitreport-timeusage\":\"0.025\"},\"limitreport\":{\"cputime\":\"0.279\",\"walltime\":\"0.351\",\"ppvisitednodes\":{\"value\":4968,\"limit\":1000000},\"postexpandincludesize\":{\"value\":74647,\"limit\":2097152},\"templateargumentsize\":{\"value\":29838,\"limit\":2097152},\"expansiondepth\":{\"value\":21,\"limit\":100},\"expensivefunctioncount\":{\"value\":0,\"limit\":500},\"unstrip-depth\":{\"value\":0,\"limit\":20},\"unstrip-size\":{\"value\":21451,\"limit\":5000000},\"entityaccesscount\":{\"value\":0,\"limit\":400},\"timingprofile\":[\"100.00%  196.674      1 -total\",\" 86.93%  170.971      7 Plantilla:Portada:Sección\",\" 25.51%   50.178      4 Plantilla:Portada:Destacado\",\" 19.70%   38.752      5 Plantilla:Portada:Destacado/A\",\" 18.56%   36.496      5 Plantilla:Portada:Resumen\",\" 12.99%   25.543     16 Plantilla:Título_sin_coletilla\",\" 12.51%   24.597      1 Plantilla:Portada:Portales_II\",\" 11.69%   22.986      5 Plantilla:ABDD\",\" 11.46%   22.541      1 Plantilla:Portada:Encabezado/OOUI\",\" 10.89%   21.414      8 Plantilla:PortalIconos\"]},\"scribunto\":{\"limitreport-timeusage\":{\"value\":\"0.011\",\"limit\":\"10.000\"},\"limitreport-memusage\":{\"value\":1321252,\"limit\":52428800}},\"cachereport\":{\"origin\":\"mw-web.codfw.main-6c48d7fb95-96wc4\",\"timestamp\":\"20240226140705\",\"ttl\":3600,\"transientcontent\":true}}});});</script>\n",
            "</body>\n",
            "</html> \n",
            "\n"
          ]
        }
      ],
      "source": [
        "# Hacemos un pedido a la página de wikipedia\n",
        "URL = 'https://es.wikipedia.org/'\n",
        "\n",
        "# Guardamos el objeto que nos devuelve\n",
        "respuesta = requests.get(URL)\n",
        "\n",
        "# print(f'Tipo de Objeto: {type(respuesta)} \\n')\n",
        "# print(f'Código de estado: {respuesta.status_code} \\n')\n",
        "print(f'Data: {respuesta.text} \\n')"
      ]
    },
    {
      "cell_type": "markdown",
      "metadata": {
        "id": "z1AgS5HxPIPg"
      },
      "source": [
        "## **Headers**\n",
        "\n",
        "Una serie de datos que acompañan al pedido. Para saber más: https://developer.mozilla.org/en-US/docs/Web/HTTP/Headers\n",
        "\n",
        "\n",
        "El objeto `Response` de `requests` tiene los siguientes elementos principales:\n",
        "\n",
        "* `.text`\n",
        "* `.content`\n",
        "* `.json()`\n",
        "* `.status_code`"
      ]
    },
    {
      "cell_type": "code",
      "execution_count": 3,
      "metadata": {
        "id": "HBifgfShPKlV"
      },
      "outputs": [],
      "source": [
        "URL = 'https://scrapepark.org/courses/spanish/'\n",
        "\n",
        "headers = {\n",
        "    'User-Agent': 'Mozilla/5.0 (X11; Ubuntu; Linux x86_64; rv:52.0) Gecko/20100101 Firefox/52.0'\n",
        "}\n",
        "respuesta = requests.get(URL, headers=headers)"
      ]
    },
    {
      "cell_type": "code",
      "execution_count": 4,
      "metadata": {
        "id": "sbA4w5LXhb-F",
        "colab": {
          "base_uri": "https://localhost:8080/",
          "height": 110
        },
        "outputId": "87617ef7-ea76-416d-80f5-256f8c4b30b7"
      },
      "outputs": [
        {
          "output_type": "execute_result",
          "data": {
            "text/plain": [
              "'<!DOCTYPE html>\\r\\n<html lang=\"es\">\\r\\n\\r\\n  <head>\\r\\n    <!-- Basic -->\\r\\n    <meta charset=\"utf-8\">\\r\\n    <meta http-equiv=\"X-UA-Compatible\" content=\"IE=edge\">\\r\\n    <!-- Mobile Metas -->\\r\\n    <meta name=\"viewport\" content=\"width=device-width, initial-scale=1, shrink-to-fit=no\">\\r\\n    <!-- Site Metas -->\\r\\n    <meta name=\"keywords\" content=\"\">\\r\\n    <meta name=\"description\" content=\"\">\\r\\n    <meta name=\"author\" content=\"\">\\r\\n    <link rel=\"shortcut icon\" href=\"images/favicon.svg\" type=\"\">\\r\\n    <title>ScrapePark.org</title>\\r\\n    <!-- bootstrap core css -->\\r\\n    <link rel=\"stylesheet\" type=\"text/css\" href=\"css/bootstrap.css\">\\r\\n    <!-- font awesome style -->\\r\\n    <link href=\"css/font-awesome.min.css\" rel=\"stylesheet\">\\r\\n    <!-- Custom styles for this template -->\\r\\n    <link href=\"css/style.css\" rel=\"stylesheet\">\\r\\n    <!-- responsive style -->\\r\\n    <link href=\"css/responsive.css\" rel=\"stylesheet\">\\r\\n  </head>\\r\\n\\r\\n  <body>\\r\\n    <div class=\"hero-area\">\\r\\n      <!-- header section strats -->\\r\\n      <header class=\"header-section\">\\r\\n        <div class=\"container\">\\r\\n          <nav class=\"navbar navbar-expand-lg custom-nav-container \">\\r\\n            <a class=\\'navbar-brand\\' href=\\'/courses/spanish/\\'>\\r\\n              <img width=\"250\" src=\"images/logo.svg\" alt=\"Logo de ScrapePark.org\">\\r\\n            </a>\\r\\n            <button class=\"navbar-toggler\" type=\"button\" data-toggle=\"collapse\" data-target=\"#navbarSupportedContent\"\\r\\n              aria-controls=\"navbarSupportedContent\" aria-expanded=\"false\" aria-label=\"Toggle navigation\">\\r\\n              <span class=\"\"> </span>\\r\\n            </button>\\r\\n            <div class=\"collapse navbar-collapse\" id=\"navbarSupportedContent\">\\r\\n              <ul class=\"navbar-nav\">\\r\\n                <li class=\"nav-item active\">\\r\\n                  <a class=\\'nav-link\\' href=\\'/courses/spanish/\\'>Inicio<span class=\"sr-only\">(current)</span></a>\\r\\n                </li>\\r\\n                <li class=\"nav-item dropdown\">\\r\\n                  <a class=\"nav-link dropdown-toggle\" href=\"#\" data-toggle=\"dropdown\" role=\"button\" aria-haspopup=\"true\"\\r\\n                    aria-expanded=\"true\"> <span class=\"nav-label\">Contenido<span class=\"caret\"></span></a>\\r\\n                  <ul class=\"dropdown-menu\">\\r\\n                    <li><a href=#acerca>Acerca</a></li>\\r\\n                    <li><a href=#testimonios>Testimonios</a></li>\\r\\n                  </ul>\\r\\n                </li>\\r\\n                <li class=\"nav-item\">\\r\\n                  <a class=\"nav-link\" href=#productos>Productos</a>\\r\\n                </li>\\r\\n                <li class=\"nav-item\">\\r\\n                  <a class=\"nav-link\" href=#precios>Precios</a>\\r\\n                </li>\\r\\n\\r\\n                <li class=\"nav-item dropdown\">\\r\\n                  <a class=\"nav-link dropdown-toggle\" href=\"#\" data-toggle=\"dropdown\" role=\"button\" aria-haspopup=\"true\"\\r\\n                    aria-expanded=\"true\">\\r\\n                    <span class=\"nav-label\">Contacto<span class=\"caret\"></span></a>\\r\\n                  <ul class=\"dropdown-menu\">\\r\\n                    <li class=\"nav-item\">\\r\\n                      <a class=\\'nav-link\\' href=\\'/courses/spanish/contact1\\'>Contacto 1</a>\\r\\n                    </li>\\r\\n                    <li class=\"nav-item\">\\r\\n                      <a class=\\'nav-link\\' href=\\'/courses/spanish/contact2\\'>Contacto 2</a>\\r\\n                    </li>\\r\\n                  </ul>\\r\\n                <li class=\"nav-item\" id=\"cart\">\\r\\n                  <a class=\"nav-link\" href=\"#\">\\r\\n                    <svg version=\"1.1\" id=\"Capa-1\" xmlns=\"http://www.w3.org/2000/svg\"\\r\\n                      xmlns:xlink=\"http://www.w3.org/1999/xlink\" x=\"0px\" y=\"0px\" viewBox=\"0 0 456.029 456.029\"\\r\\n                      style=\"enable-background:new 0 0 456.029 456.029;\" xml:space=\"preserve\">\\r\\n                      <g>\\r\\n                        <g>\\r\\n                          <path\\r\\n                            d=\"M345.6,338.862c-29.184,0-53.248,23.552-53.248,53.248c0,29.184,23.552,53.248,53.248,53.248\\r\\n                                            c29.184,0,53.248-23.552,53.248-53.248C398.336,362.926,374.784,338.862,345.6,338.862z\" />\\r\\n                        </g>\\r\\n                      </g>\\r\\n                      <g>\\r\\n                        <g>\\r\\n                          <path d=\"M439.296,84.91c-1.024,0-2.56-0.512-4.096-0.512H112.64l-5.12-34.304C104.448,27.566,84.992,10.67,61.952,10.67H20.48\\r\\n                                            C9.216,10.67,0,19.886,0,31.15c0,11.264,9.216,20.48,20.48,20.48h41.472c2.56,0,4.608,2.048,5.12,4.608l31.744,216.064\\r\\n                                            c4.096,27.136,27.648,47.616,55.296,47.616h212.992c26.624,0,49.664-18.944,55.296-45.056l33.28-166.4\\r\\n                                            C457.728,97.71,450.56,86.958,439.296,84.91z\" />\\r\\n                        </g>\\r\\n                      </g>\\r\\n                      <g>\\r\\n                        <g>\\r\\n                          <path\\r\\n                            d=\"M215.04,389.55c-1.024-28.16-24.576-50.688-52.736-50.688c-29.696,1.536-52.224,26.112-51.2,55.296\\r\\n                                            c1.024,28.16,24.064,50.688,52.224,50.688h1.024C193.536,443.31,216.576,418.734,215.04,389.55z\" />\\r\\n                        </g>\\r\\n                      </g>\\r\\n                      <g>\\r\\n                      </g>\\r\\n                      <g>\\r\\n                      </g>\\r\\n                      <g>\\r\\n                      </g>\\r\\n                      <g>\\r\\n                      </g>\\r\\n                      <g>\\r\\n                      </g>\\r\\n                      <g>\\r\\n                      </g>\\r\\n                      <g>\\r\\n                      </g>\\r\\n                      <g>\\r\\n                      </g>\\r\\n                      <g>\\r\\n                      </g>\\r\\n                      <g>\\r\\n                      </g>\\r\\n                      <g>\\r\\n                      </g>\\r\\n                      <g>\\r\\n                      </g>\\r\\n                      <g>\\r\\n                      </g>\\r\\n                      <g>\\r\\n                      </g>\\r\\n                      <g>\\r\\n                      </g>\\r\\n                    </svg>\\r\\n                  </a>\\r\\n                </li>\\r\\n                <form class=\"form-inline\" id=\"search\">\\r\\n                  <button class=\"btn  my-2 my-sm-0 nav-search-btn\" type=\"submit\">\\r\\n                    <i class=\"fa fa-search\" aria-hidden=\"true\"></i>\\r\\n                  </button>\\r\\n                </form>\\r\\n              </ul>\\r\\n            </div>\\r\\n          </nav>\\r\\n        </div>\\r\\n      </header>\\r\\n      <!-- end header section -->\\r\\n      <!-- slider section -->\\r\\n      <section class=\"slider-section\">\\r\\n        <div class=\"slider-bg-box\">\\r\\n          <img src=\"images/slider-bg.jpg\" alt=\"Parque de patinaje\">\\r\\n        </div>\\r\\n        <div id=\"customCarousel1\" class=\"carousel slide\" data-ride=\"carousel\">\\r\\n          <div class=\"carousel-inner\">\\r\\n            <div class=\"carousel-item active\">\\r\\n              <div class=\"container \">\\r\\n                <div class=\"row\">\\r\\n                  <div class=\"col-md-7 col-lg-6 \">\\r\\n                    <div class=\"detail-box\">\\r\\n                      <h1>\\r\\n                        <span>\\r\\n                          Descuentos 20% Off\\r\\n                        </span>\\r\\n                        <br>\\r\\n                        ¡En todos los productos!\\r\\n                      </h1>\\r\\n                      <p>\\r\\n                        Aprovechá nuestras ofertas.\\r\\n                      </p>\\r\\n                      <div class=\"btn-box\">\\r\\n                        <a href=\"\" class=\"btn1\">\\r\\n                          Comprar ahora\\r\\n                        </a>\\r\\n                      </div>\\r\\n                    </div>\\r\\n                  </div>\\r\\n                </div>\\r\\n              </div>\\r\\n            </div>\\r\\n            <div class=\"carousel-item \">\\r\\n              <div class=\"container \">\\r\\n                <div class=\"row\">\\r\\n                  <div class=\"col-md-7 col-lg-6 \">\\r\\n                    <div class=\"detail-box\">\\r\\n                      <h1>\\r\\n                        <span>\\r\\n                          Descuentos 20% Off\\r\\n                        </span>\\r\\n                        <br>\\r\\n                        ¡En todos los productos!\\r\\n                      </h1>\\r\\n                      <p>\\r\\n                        Aprovechá nuestras ofertas.\\r\\n                      </p>\\r\\n                      <div class=\"btn-box\">\\r\\n                        <a href=\"\" class=\"btn1\">\\r\\n                          Comprar ahora\\r\\n                        </a>\\r\\n                      </div>\\r\\n                    </div>\\r\\n                  </div>\\r\\n                </div>\\r\\n              </div>\\r\\n            </div>\\r\\n            <div class=\"carousel-item\">\\r\\n              <div class=\"container \">\\r\\n                <div class=\"row\">\\r\\n                  <div class=\"col-md-7 col-lg-6 \">\\r\\n                    <div class=\"detail-box\">\\r\\n                      <h1>\\r\\n                        <span>\\r\\n                          Descuentos 20% Off\\r\\n                        </span>\\r\\n                        <br>\\r\\n                        ¡En todos los productos!\\r\\n                      </h1>\\r\\n                      <p>\\r\\n                        Aprovechá nuestras ofertas.\\r\\n                      </p>\\r\\n                      <div class=\"btn-box\">\\r\\n                        <a href=\"\" class=\"btn1\">\\r\\n                          Comprar ahora\\r\\n                        </a>\\r\\n                      </div>\\r\\n                    </div>\\r\\n                  </div>\\r\\n                </div>\\r\\n              </div>\\r\\n            </div>\\r\\n          </div>\\r\\n          <div class=\"container\">\\r\\n            <ol class=\"carousel-indicators\">\\r\\n              <li data-target=\"#customCarousel1\" data-slide-to=\"0\" class=\"active\"></li>\\r\\n              <li data-target=\"#customCarousel1\" data-slide-to=\"1\"></li>\\r\\n              <li data-target=\"#customCarousel1\" data-slide-to=\"2\"></li>\\r\\n            </ol>\\r\\n          </div>\\r\\n        </div>\\r\\n      </section>\\r\\n      <!-- end slider section -->\\r\\n    </div>\\r\\n    <!-- why section -->\\r\\n    <section class=\"why-section layout-padding\">\\r\\n      <div class=\"container\">\\r\\n        <div class=\"heading-container heading-center\" id=\"acerca\">\\r\\n          <h2>¿Por qué comprar con nosotros?</h2>\\r\\n        </div>\\r\\n        <div class=\"row\">\\r\\n          <div class=\"col-md-4\">\\r\\n            <div class=\"box \">\\r\\n              <div class=\"img-box\">\\r\\n                <svg version=\"1.1\" id=\"Layer-1\" xmlns=\"http://www.w3.org/2000/svg\"\\r\\n                  xmlns:xlink=\"http://www.w3.org/1999/xlink\" x=\"0px\" y=\"0px\" viewBox=\"0 0 512 512\"\\r\\n                  style=\"enable-background:new 0 0 512 512;\" xml:space=\"preserve\">\\r\\n                  <g>\\r\\n                    <g>\\r\\n                      <path d=\"M476.158,231.363l-13.259-53.035c3.625-0.77,6.345-3.986,6.345-7.839v-8.551c0-18.566-15.105-33.67-33.67-33.67h-60.392\\r\\n                                      V110.63c0-9.136-7.432-16.568-16.568-16.568H50.772c-9.136,0-16.568,7.432-16.568,16.568V256c0,4.427,3.589,8.017,8.017,8.017\\r\\n                                      c4.427,0,8.017-3.589,8.017-8.017V110.63c0-0.295,0.239-0.534,0.534-0.534h307.841c0.295,0,0.534,0.239,0.534,0.534v145.372\\r\\n                                      c0,4.427,3.589,8.017,8.017,8.017c4.427,0,8.017-3.589,8.017-8.017v-9.088h94.569c0.008,0,0.014,0.002,0.021,0.002\\r\\n                                      c0.008,0,0.015-0.001,0.022-0.001c11.637,0.008,21.518,7.646,24.912,18.171h-24.928c-4.427,0-8.017,3.589-8.017,8.017v17.102\\r\\n                                      c0,13.851,11.268,25.119,25.119,25.119h9.086v35.273h-20.962c-6.886-19.883-25.787-34.205-47.982-34.205\\r\\n                                      s-41.097,14.322-47.982,34.205h-3.86v-60.393c0-4.427-3.589-8.017-8.017-8.017c-4.427,0-8.017,3.589-8.017,8.017v60.391H192.817\\r\\n                                      c-6.886-19.883-25.787-34.205-47.982-34.205s-41.097,14.322-47.982,34.205H50.772c-0.295,0-0.534-0.239-0.534-0.534v-17.637\\r\\n                                      h34.739c4.427,0,8.017-3.589,8.017-8.017s-3.589-8.017-8.017-8.017H8.017c-4.427,0-8.017,3.589-8.017,8.017\\r\\n                                      s3.589,8.017,8.017,8.017h26.188v17.637c0,9.136,7.432,16.568,16.568,16.568h43.304c-0.002,0.178-0.014,0.355-0.014,0.534\\r\\n                                      c0,27.996,22.777,50.772,50.772,50.772s50.772-22.776,50.772-50.772c0-0.18-0.012-0.356-0.014-0.534h180.67\\r\\n                                      c-0.002,0.178-0.014,0.355-0.014,0.534c0,27.996,22.777,50.772,50.772,50.772c27.995,0,50.772-22.776,50.772-50.772\\r\\n                                      c0-0.18-0.012-0.356-0.014-0.534h26.203c4.427,0,8.017-3.589,8.017-8.017v-85.511C512,251.989,496.423,234.448,476.158,231.363z\\r\\n                                      M375.182,144.301h60.392c9.725,0,17.637,7.912,17.637,17.637v0.534h-78.029V144.301z M375.182,230.881v-52.376h71.235\\r\\n                                      l13.094,52.376H375.182z M144.835,401.904c-19.155,0-34.739-15.583-34.739-34.739s15.584-34.739,34.739-34.739\\r\\n                                      c19.155,0,34.739,15.583,34.739,34.739S163.99,401.904,144.835,401.904z M427.023,401.904c-19.155,0-34.739-15.583-34.739-34.739\\r\\n                                      s15.584-34.739,34.739-34.739c19.155,0,34.739,15.583,34.739,34.739S446.178,401.904,427.023,401.904z M495.967,299.29h-9.086\\r\\n                                      c-5.01,0-9.086-4.076-9.086-9.086v-9.086h18.171V299.29z\" />\\r\\n                    </g>\\r\\n                  </g>\\r\\n                  <g>\\r\\n                    <g>\\r\\n                      <path\\r\\n                        d=\"M144.835,350.597c-9.136,0-16.568,7.432-16.568,16.568c0,9.136,7.432,16.568,16.568,16.568\\r\\n                                      c9.136,0,16.568-7.432,16.568-16.568C161.403,358.029,153.971,350.597,144.835,350.597z\" />\\r\\n                    </g>\\r\\n                  </g>\\r\\n                  <g>\\r\\n                    <g>\\r\\n                      <path\\r\\n                        d=\"M427.023,350.597c-9.136,0-16.568,7.432-16.568,16.568c0,9.136,7.432,16.568,16.568,16.568\\r\\n                                      c9.136,0,16.568-7.432,16.568-16.568C443.591,358.029,436.159,350.597,427.023,350.597z\" />\\r\\n                    </g>\\r\\n                  </g>\\r\\n                  <g>\\r\\n                    <g>\\r\\n                      <path d=\"M332.96,316.393H213.244c-4.427,0-8.017,3.589-8.017,8.017s3.589,8.017,8.017,8.017H332.96\\r\\n                                      c4.427,0,8.017-3.589,8.017-8.017S337.388,316.393,332.96,316.393z\" />\\r\\n                    </g>\\r\\n                  </g>\\r\\n                  <g>\\r\\n                    <g>\\r\\n                      <path d=\"M127.733,282.188H25.119c-4.427,0-8.017,3.589-8.017,8.017s3.589,8.017,8.017,8.017h102.614\\r\\n                                      c4.427,0,8.017-3.589,8.017-8.017S132.16,282.188,127.733,282.188z\" />\\r\\n                    </g>\\r\\n                  </g>\\r\\n                  <g>\\r\\n                    <g>\\r\\n                      <path d=\"M278.771,173.37c-3.13-3.13-8.207-3.13-11.337,0.001l-71.292,71.291l-37.087-37.087c-3.131-3.131-8.207-3.131-11.337,0\\r\\n                                      c-3.131,3.131-3.131,8.206,0,11.337l42.756,42.756c1.565,1.566,3.617,2.348,5.668,2.348s4.104-0.782,5.668-2.348l76.96-76.96\\r\\n                                      C281.901,181.576,281.901,176.501,278.771,173.37z\" />\\r\\n                    </g>\\r\\n                  </g>\\r\\n                  <g>\\r\\n                  </g>\\r\\n                  <g>\\r\\n                  </g>\\r\\n                  <g>\\r\\n                  </g>\\r\\n                  <g>\\r\\n                  </g>\\r\\n                  <g>\\r\\n                  </g>\\r\\n                  <g>\\r\\n                  </g>\\r\\n                  <g>\\r\\n                  </g>\\r\\n                  <g>\\r\\n                  </g>\\r\\n                  <g>\\r\\n                  </g>\\r\\n                  <g>\\r\\n                  </g>\\r\\n                  <g>\\r\\n                  </g>\\r\\n                  <g>\\r\\n                  </g>\\r\\n                  <g>\\r\\n                  </g>\\r\\n                  <g>\\r\\n                  </g>\\r\\n                  <g>\\r\\n                  </g>\\r\\n                </svg>\\r\\n              </div>\\r\\n              <div class=\"detail-box\">\\r\\n                <h5>\\r\\n                  Entrega rápida\\r\\n                </h5>\\r\\n              </div>\\r\\n            </div>\\r\\n          </div>\\r\\n          <div class=\"col-md-4\">\\r\\n            <div class=\"box \">\\r\\n              <div class=\"img-box\">\\r\\n                <svg version=\"1.1\" id=\"Capa-1\" xmlns=\"http://www.w3.org/2000/svg\"\\r\\n                  xmlns:xlink=\"http://www.w3.org/1999/xlink\" x=\"0px\" y=\"0px\" viewBox=\"0 0 490.667 490.667\"\\r\\n                  style=\"enable-background:new 0 0 490.667 490.667;\" xml:space=\"preserve\">\\r\\n                  <g>\\r\\n                    <g>\\r\\n                      <path d=\"M138.667,192H96c-5.888,0-10.667,4.779-10.667,10.667V288c0,5.888,4.779,10.667,10.667,10.667s10.667-4.779,10.667-10.667\\r\\n                                      v-74.667h32c5.888,0,10.667-4.779,10.667-10.667S144.555,192,138.667,192z\" />\\r\\n                    </g>\\r\\n                  </g>\\r\\n                  <g>\\r\\n                    <g>\\r\\n                      <path d=\"M117.333,234.667H96c-5.888,0-10.667,4.779-10.667,10.667S90.112,256,96,256h21.333c5.888,0,10.667-4.779,10.667-10.667\\r\\n                                      S123.221,234.667,117.333,234.667z\" />\\r\\n                    </g>\\r\\n                  </g>\\r\\n                  <g>\\r\\n                    <g>\\r\\n                      <path d=\"M245.333,0C110.059,0,0,110.059,0,245.333s110.059,245.333,245.333,245.333s245.333-110.059,245.333-245.333\\r\\n                                      S380.608,0,245.333,0z M245.333,469.333c-123.52,0-224-100.48-224-224s100.48-224,224-224s224,100.48,224,224\\r\\n                                      S368.853,469.333,245.333,469.333z\" />\\r\\n                    </g>\\r\\n                  </g>\\r\\n                  <g>\\r\\n                    <g>\\r\\n                      <path d=\"M386.752,131.989C352.085,88.789,300.544,64,245.333,64s-106.752,24.789-141.419,67.989\\r\\n                                      c-3.691,4.587-2.965,11.307,1.643,14.997c4.587,3.691,11.307,2.965,14.976-1.643c30.613-38.144,76.096-60.011,124.8-60.011\\r\\n                                      s94.187,21.867,124.779,60.011c2.112,2.624,5.205,3.989,8.32,3.989c2.368,0,4.715-0.768,6.677-2.347\\r\\n                                      C389.717,143.296,390.443,136.576,386.752,131.989z\" />\\r\\n                    </g>\\r\\n                  </g>\\r\\n                  <g>\\r\\n                    <g>\\r\\n                      <path\\r\\n                        d=\"M376.405,354.923c-4.224-4.032-11.008-3.861-15.061,0.405c-30.613,32.235-71.808,50.005-116.011,50.005\\r\\n                                      s-85.397-17.771-115.989-50.005c-4.032-4.309-10.816-4.437-15.061-0.405c-4.309,4.053-4.459,10.816-0.405,15.083\\r\\n                                      c34.667,36.544,81.344,56.661,131.456,56.661s96.789-20.117,131.477-56.661C380.864,365.739,380.693,358.976,376.405,354.923z\" />\\r\\n                    </g>\\r\\n                  </g>\\r\\n                  <g>\\r\\n                    <g>\\r\\n                      <path d=\"M206.805,255.723c15.701-2.027,27.861-15.488,27.861-31.723c0-17.643-14.357-32-32-32h-21.333\\r\\n                                      c-5.888,0-10.667,4.779-10.667,10.667v42.581c0,0.043,0,0.107,0,0.149V288c0,5.888,4.779,10.667,10.667,10.667\\r\\n                                      S192,293.888,192,288v-16.917l24.448,24.469c2.091,2.069,4.821,3.115,7.552,3.115c2.731,0,5.461-1.045,7.531-3.136\\r\\n                                      c4.16-4.16,4.16-10.923,0-15.083L206.805,255.723z M192,234.667v-21.333h10.667c5.867,0,10.667,4.779,10.667,10.667\\r\\n                                      s-4.8,10.667-10.667,10.667H192z\" />\\r\\n                    </g>\\r\\n                  </g>\\r\\n                  <g>\\r\\n                    <g>\\r\\n                      <path d=\"M309.333,277.333h-32v-64h32c5.888,0,10.667-4.779,10.667-10.667S315.221,192,309.333,192h-42.667\\r\\n                                      c-5.888,0-10.667,4.779-10.667,10.667V288c0,5.888,4.779,10.667,10.667,10.667h42.667c5.888,0,10.667-4.779,10.667-10.667\\r\\n                                      S315.221,277.333,309.333,277.333z\" />\\r\\n                    </g>\\r\\n                  </g>\\r\\n                  <g>\\r\\n                    <g>\\r\\n                      <path d=\"M288,234.667h-21.333c-5.888,0-10.667,4.779-10.667,10.667S260.779,256,266.667,256H288\\r\\n                                      c5.888,0,10.667-4.779,10.667-10.667S293.888,234.667,288,234.667z\" />\\r\\n                    </g>\\r\\n                  </g>\\r\\n                  <g>\\r\\n                    <g>\\r\\n                      <path d=\"M394.667,277.333h-32v-64h32c5.888,0,10.667-4.779,10.667-10.667S400.555,192,394.667,192H352\\r\\n                                      c-5.888,0-10.667,4.779-10.667,10.667V288c0,5.888,4.779,10.667,10.667,10.667h42.667c5.888,0,10.667-4.779,10.667-10.667\\r\\n                                      S400.555,277.333,394.667,277.333z\" />\\r\\n                    </g>\\r\\n                  </g>\\r\\n                  <g>\\r\\n                    <g>\\r\\n                      <path d=\"M373.333,234.667H352c-5.888,0-10.667,4.779-10.667,10.667S346.112,256,352,256h21.333\\r\\n                                      c5.888,0,10.667-4.779,10.667-10.667S379.221,234.667,373.333,234.667z\" />\\r\\n                    </g>\\r\\n                  </g>\\r\\n                  <g>\\r\\n                  </g>\\r\\n                  <g>\\r\\n                  </g>\\r\\n                  <g>\\r\\n                  </g>\\r\\n                  <g>\\r\\n                  </g>\\r\\n                  <g>\\r\\n                  </g>\\r\\n                  <g>\\r\\n                  </g>\\r\\n                  <g>\\r\\n                  </g>\\r\\n                  <g>\\r\\n                  </g>\\r\\n                  <g>\\r\\n                  </g>\\r\\n                  <g>\\r\\n                  </g>\\r\\n                  <g>\\r\\n                  </g>\\r\\n                  <g>\\r\\n                  </g>\\r\\n                  <g>\\r\\n                  </g>\\r\\n                  <g>\\r\\n                  </g>\\r\\n                  <g>\\r\\n                  </g>\\r\\n                </svg>\\r\\n              </div>\\r\\n              <div class=\"detail-box\">\\r\\n                <h5>\\r\\n                  Envío gratuito\\r\\n                </h5>\\r\\n              </div>\\r\\n            </div>\\r\\n          </div>\\r\\n          <div class=\"col-md-4\">\\r\\n            <div class=\"box \">\\r\\n              <div class=\"img-box\">\\r\\n                <svg id=\"-30-Premium\" height=\"512\" viewBox=\"0 0 512 512\" width=\"512\" xmlns=\"http://www.w3.org/2000/svg\"\\r\\n                  data-name=\"30-Premium\">\\r\\n                  <g id=\"filled\">\\r\\n                    <path\\r\\n                      d=\"m252.92 300h3.08a124.245 124.245 0 1 0 -4.49-.09c.075.009.15.023.226.03.394.039.789.06 1.184.06zm-96.92-124a100 100 0 1 1 100 100 100.113 100.113 0 0 1 -100-100z\" />\\r\\n                    <path\\r\\n                      d=\"m447.445 387.635-80.4-80.4a171.682 171.682 0 0 0 60.955-131.235c0-94.841-77.159-172-172-172s-172 77.159-172 172c0 73.747 46.657 136.794 112 161.2v158.8c-.3 9.289 11.094 15.384 18.656 9.984l41.344-27.562 41.344 27.562c7.574 5.4 18.949-.7 18.656-9.984v-70.109l46.6 46.594c6.395 6.789 18.712 3.025 20.253-6.132l9.74-48.724 48.725-9.742c9.163-1.531 12.904-13.893 6.127-20.252zm-339.445-211.635c0-81.607 66.393-148 148-148s148 66.393 148 148-66.393 148-148 148-148-66.393-148-148zm154.656 278.016a12 12 0 0 0 -13.312 0l-29.344 19.562v-129.378a172.338 172.338 0 0 0 72 0v129.38zm117.381-58.353a12 12 0 0 0 -9.415 9.415l-6.913 34.58-47.709-47.709v-54.749a171.469 171.469 0 0 0 31.467-15.6l67.151 67.152z\" />\\r\\n                    <path\\r\\n                      d=\"m287.62 236.985c8.349 4.694 19.251-3.212 17.367-12.618l-5.841-35.145 25.384-25c7.049-6.5 2.89-19.3-6.634-20.415l-35.23-5.306-15.933-31.867c-4.009-8.713-17.457-8.711-21.466 0l-15.933 31.866-35.23 5.306c-9.526 1.119-13.681 13.911-6.634 20.415l25.384 25-5.841 35.145c-1.879 9.406 9 17.31 17.367 12.618l31.62-16.414zm-53-32.359 2.928-17.615a12 12 0 0 0 -3.417-10.516l-12.721-12.531 17.658-2.66a12 12 0 0 0 8.947-6.5l7.985-15.971 7.985 15.972a12 12 0 0 0 8.947 6.5l17.658 2.66-12.723 12.535a12 12 0 0 0 -3.417 10.516l2.928 17.615-15.849-8.231a12 12 0 0 0 -11.058 0z\" />\\r\\n                  </g>\\r\\n                </svg>\\r\\n              </div>\\r\\n              <div class=\"detail-box\">\\r\\n                <h5>\\r\\n                  La mejor calidad\\r\\n                </h5>\\r\\n              </div>\\r\\n            </div>\\r\\n          </div>\\r\\n        </div>\\r\\n      </div>\\r\\n    </section>\\r\\n    <!-- end why section -->\\r\\n\\r\\n    <!-- arrival section -->\\r\\n    <section class=\"arrival-section-top\">\\r\\n      <div class=\"container\">\\r\\n        <div class=\"box\">\\r\\n          <div class=\"arrival-bg-box\">\\r\\n            <img src=\"images/arrival-bg-store.png\" alt=\"Variedad de patinetas en la tienda\">\\r\\n          </div>\\r\\n          <div class=\"row\">\\r\\n            <div class=\"col-md-6 ml-auto\">\\r\\n              <div class=\"heading-container remove-line-bt\">\\r\\n                <h2>\\r\\n                  #Novedades\\r\\n                </h2>\\r\\n              </div>\\r\\n              <p style=\"margin-top: 20px;margin-bottom: 30px;\">\\r\\n                ¡No te pierdas nuestros últimos productos!\\r\\n              </p>\\r\\n              <a href=\"\">\\r\\n                Comprar ahora\\r\\n              </a>\\r\\n            </div>\\r\\n          </div>\\r\\n        </div>\\r\\n      </div>\\r\\n    </section>\\r\\n    <!-- end arrival section -->\\r\\n\\r\\n    <!-- product section -->\\r\\n    <section class=\"product-section layout-padding\">\\r\\n      <div class=\"container\">\\r\\n        <div class=\"heading-container heading-center\" id=\"productos\">\\r\\n          <h2>\\r\\n            Nuestros <span>productos</span>\\r\\n          </h2>\\r\\n        </div>\\r\\n        <div class=\"row\">\\r\\n          <div class=\"col-sm-6 col-md-4 col-lg-4\">\\r\\n            <div class=\"box\">\\r\\n              <div class=\"option-container\">\\r\\n                <div class=\"options\">\\r\\n                  <a href=\"\" class=\"option1\">\\r\\n                    Agregar al carrito\\r\\n                  </a>\\r\\n                  <a href=\"\" class=\"option2\">\\r\\n                    Comprar ahora\\r\\n                  </a>\\r\\n                </div>\\r\\n              </div>\\r\\n              <div class=\"img-box\">\\r\\n                <img src=\"images/p1.png\" alt=\"Patineta 1\">\\r\\n              </div>\\r\\n              <div class=\"detail-box\">\\r\\n                <h5>\\r\\n                  Patineta Nueva 1\\r\\n                </h5>\\r\\n                <h6>\\r\\n                  $75\\r\\n                </h6>\\r\\n              </div>\\r\\n            </div>\\r\\n          </div>\\r\\n          <div class=\"col-sm-6 col-md-4 col-lg-4\">\\r\\n            <div class=\"box\">\\r\\n              <div class=\"option-container\">\\r\\n                <div class=\"options\">\\r\\n                  <a href=\"\" class=\"option1\">\\r\\n                    Agregar al carrito\\r\\n                  </a>\\r\\n                  <a href=\"\" class=\"option2\">\\r\\n                    Comprar ahora\\r\\n                  </a>\\r\\n                </div>\\r\\n              </div>\\r\\n              <div class=\"img-box\">\\r\\n                <img src=\"images/p2.jpg\" alt=\"Patineta 2\">\\r\\n              </div>\\r\\n              <div class=\"detail-box\">\\r\\n                <h5>\\r\\n                  Patineta Usada 2\\r\\n                </h5>\\r\\n                <h6>\\r\\n                  $80\\r\\n                </h6>\\r\\n              </div>\\r\\n            </div>\\r\\n          </div>\\r\\n          <div class=\"col-sm-6 col-md-4 col-lg-4\">\\r\\n            <div class=\"box\">\\r\\n              <div class=\"option-container\">\\r\\n                <div class=\"options\">\\r\\n                  <a href=\"\" class=\"option1\">\\r\\n                    Agregar al carrito\\r\\n                  </a>\\r\\n                  <a href=\"\" class=\"option2\">\\r\\n                    Comprar ahora\\r\\n                  </a>\\r\\n                </div>\\r\\n              </div>\\r\\n              <div class=\"img-box\">\\r\\n                <img src=\"images/p3.png\" alt=\"Patineta 3\">\\r\\n              </div>\\r\\n              <div class=\"detail-box\">\\r\\n                <h5>\\r\\n                  Patineta Nueva 3\\r\\n                </h5>\\r\\n                <h6>\\r\\n                  $68\\r\\n                </h6>\\r\\n              </div>\\r\\n            </div>\\r\\n          </div>\\r\\n          <div class=\"col-sm-6 col-md-4 col-lg-4\">\\r\\n            <div class=\"box\">\\r\\n              <div class=\"option-container\">\\r\\n                <div class=\"options\">\\r\\n                  <a href=\"\" class=\"option1\">\\r\\n                    Agregar al carrito\\r\\n                  </a>\\r\\n                  <a href=\"\" class=\"option2\">\\r\\n                    Comprar ahora\\r\\n                  </a>\\r\\n                </div>\\r\\n              </div>\\r\\n              <div class=\"img-box\">\\r\\n                <img src=\"images/p4.png\" alt=\"Patineta 4\">\\r\\n              </div>\\r\\n              <div class=\"detail-box\">\\r\\n                <h5>\\r\\n                  Patineta Usada 4\\r\\n                </h5>\\r\\n                <h6>\\r\\n                  $70\\r\\n                </h6>\\r\\n              </div>\\r\\n            </div>\\r\\n          </div>\\r\\n          <div class=\"col-sm-6 col-md-4 col-lg-4\">\\r\\n            <div class=\"box\">\\r\\n              <div class=\"option-container\">\\r\\n                <div class=\"options\">\\r\\n                  <a href=\"\" class=\"option1\">\\r\\n                    Agregar al carrito\\r\\n                  </a>\\r\\n                  <a href=\"\" class=\"option2\">\\r\\n                    Comprar ahora\\r\\n                  </a>\\r\\n                </div>\\r\\n              </div>\\r\\n              <div class=\"img-box\">\\r\\n                <img src=\"images/p5.png\" alt=\"Patineta 5\">\\r\\n              </div>\\r\\n              <div class=\"detail-box\">\\r\\n                <h5>\\r\\n                  Patineta Nueva 5\\r\\n                </h5>\\r\\n                <h6>\\r\\n                  $75\\r\\n                </h6>\\r\\n              </div>\\r\\n            </div>\\r\\n          </div>\\r\\n          <div class=\"col-sm-6 col-md-4 col-lg-4\">\\r\\n            <div class=\"box\">\\r\\n              <div class=\"option-container\">\\r\\n                <div class=\"options\">\\r\\n                  <a href=\"\" class=\"option1\">\\r\\n                    Agregar al carrito\\r\\n                  </a>\\r\\n                  <a href=\"\" class=\"option2\">\\r\\n                    Comprar ahora\\r\\n                  </a>\\r\\n                </div>\\r\\n              </div>\\r\\n              <div class=\"img-box\">\\r\\n                <img src=\"images/p6.png\" alt=\"Patineta 6\">\\r\\n              </div>\\r\\n              <div class=\"detail-box\">\\r\\n                <h5>\\r\\n                  Patineta Nueva 6\\r\\n                </h5>\\r\\n                <h6>\\r\\n                  $58\\r\\n                </h6>\\r\\n              </div>\\r\\n            </div>\\r\\n          </div>\\r\\n          <div class=\"col-sm-6 col-md-4 col-lg-4\">\\r\\n            <div class=\"box\">\\r\\n              <div class=\"option-container\">\\r\\n                <div class=\"options\">\\r\\n                  <a href=\"\" class=\"option1\">\\r\\n                    Agregar al carrito\\r\\n                  </a>\\r\\n                  <a href=\"\" class=\"option2\">\\r\\n                    Comprar ahora\\r\\n                  </a>\\r\\n                </div>\\r\\n              </div>\\r\\n              <div class=\"img-box\">\\r\\n                <img src=\"images/p7.png\" alt=\"Patineta 7\">\\r\\n              </div>\\r\\n              <div class=\"detail-box\">\\r\\n                <h5>\\r\\n                  Patineta Nueva 7\\r\\n                </h5>\\r\\n                <h6>\\r\\n                  $80\\r\\n                </h6>\\r\\n              </div>\\r\\n            </div>\\r\\n          </div>\\r\\n          <div class=\"col-sm-6 col-md-4 col-lg-4\">\\r\\n            <div class=\"box\">\\r\\n              <div class=\"option-container\">\\r\\n                <div class=\"options\">\\r\\n                  <a href=\"\" class=\"option1\">\\r\\n                    Agregar al carrito\\r\\n                  </a>\\r\\n                  <a href=\"\" class=\"option2\">\\r\\n                    Comprar ahora\\r\\n                  </a>\\r\\n                </div>\\r\\n              </div>\\r\\n              <div class=\"img-box\">\\r\\n                <img src=\"images/p8.png\" alt=\"Patineta 8\">\\r\\n              </div>\\r\\n              <div class=\"detail-box\">\\r\\n                <h5>\\r\\n                  Patineta Nueva 8\\r\\n                </h5>\\r\\n                <h6>\\r\\n                  $35\\r\\n                </h6>\\r\\n              </div>\\r\\n            </div>\\r\\n          </div>\\r\\n          <div class=\"col-sm-6 col-md-4 col-lg-4\">\\r\\n            <div class=\"box\">\\r\\n              <div class=\"option-container\">\\r\\n                <div class=\"options\">\\r\\n                  <a href=\"\" class=\"option1\">\\r\\n                    Agregar al carrito\\r\\n                  </a>\\r\\n                  <a href=\"\" class=\"option2\">\\r\\n                    Comprar ahora\\r\\n                  </a>\\r\\n                </div>\\r\\n              </div>\\r\\n              <div class=\"img-box\">\\r\\n                <img src=\"images/p9.png\" alt=\"Patineta 9\">\\r\\n              </div>\\r\\n              <div class=\"detail-box\">\\r\\n                <h5>\\r\\n                  Patineta Nueva 9\\r\\n                </h5>\\r\\n                <h6>\\r\\n                  $165\\r\\n                </h6>\\r\\n              </div>\\r\\n            </div>\\r\\n          </div>\\r\\n          <div class=\"col-sm-6 col-md-4 col-lg-4\">\\r\\n            <div class=\"box\">\\r\\n              <div class=\"option-container\">\\r\\n                <div class=\"options\">\\r\\n                  <a href=\"\" class=\"option1\">\\r\\n                    Agregar al carrito\\r\\n                  </a>\\r\\n                  <a href=\"\" class=\"option2\">\\r\\n                    Comprar ahora\\r\\n                  </a>\\r\\n                </div>\\r\\n              </div>\\r\\n              <div class=\"img-box\">\\r\\n                <img src=\"images/p10.png\" alt=\"Patineta 10\">\\r\\n              </div>\\r\\n              <div class=\"detail-box\">\\r\\n                <h5>\\r\\n                  Patineta Usada 10\\r\\n                </h5>\\r\\n                <h6>\\r\\n                  $54\\r\\n                </h6>\\r\\n              </div>\\r\\n            </div>\\r\\n          </div>\\r\\n          <div class=\"col-sm-6 col-md-4 col-lg-4\">\\r\\n            <div class=\"box\">\\r\\n              <div class=\"option-container\">\\r\\n                <div class=\"options\">\\r\\n                  <a href=\"\" class=\"option1\">\\r\\n                    Agregar al carrito\\r\\n                  </a>\\r\\n                  <a href=\"\" class=\"option2\">\\r\\n                    Comprar ahora\\r\\n                  </a>\\r\\n                </div>\\r\\n              </div>\\r\\n              <div class=\"img-box\">\\r\\n                <img src=\"images/p11.png\" alt=\"Patineta 11\">\\r\\n              </div>\\r\\n              <div class=\"detail-box\">\\r\\n                <h5>\\r\\n                  Patineta Usada 11\\r\\n                </h5>\\r\\n                <h6>\\r\\n                  $99\\r\\n                </h6>\\r\\n              </div>\\r\\n            </div>\\r\\n          </div>\\r\\n          <div class=\"col-sm-6 col-md-4 col-lg-4\">\\r\\n            <div class=\"box\">\\r\\n              <div class=\"option-container\">\\r\\n                <div class=\"options\">\\r\\n                  <a href=\"\" class=\"option1\">\\r\\n                    Agregar al carrito\\r\\n                  </a>\\r\\n                  <a href=\"\" class=\"option2\">\\r\\n                    Comprar ahora\\r\\n                  </a>\\r\\n                </div>\\r\\n              </div>\\r\\n              <div class=\"img-box\">\\r\\n                <img src=\"images/p12.png\" alt=\"Patineta 12\">\\r\\n              </div>\\r\\n              <div class=\"detail-box\">\\r\\n                <h5>\\r\\n                  Patineta Nueva 12\\r\\n                </h5>\\r\\n                <h6>\\r\\n                  $110\\r\\n                </h6>\\r\\n              </div>\\r\\n            </div>\\r\\n          </div>\\r\\n        </div>\\r\\n        <div class=\"btn-box\">\\r\\n          <a href=\"\">\\r\\n            Ver todos los productos\\r\\n          </a>\\r\\n        </div>\\r\\n      </div>\\r\\n    </section>\\r\\n    <!-- end product section -->\\r\\n\\r\\n    <!-- subscribe section -->\\r\\n    <section class=\"subscribe-section\">\\r\\n      <div class=\"container-fuild\">\\r\\n        <div class=\"box\">\\r\\n          <div class=\"row\">\\r\\n            <div class=\"col-md-6 offset-md-3\">\\r\\n              <div class=\"subscribe-form \">\\r\\n                <div class=\"heading-container heading-center\">\\r\\n                  <h3>Suscríbete para obtener descuentos y ofertas</h3>\\r\\n                </div>\\r\\n                <form action=\"\">\\r\\n                  <input type=\"email\" placeholder=\"Dejanos tu email\">\\r\\n                  <button>\\r\\n                    Suscribirse\\r\\n                  </button>\\r\\n                </form>\\r\\n              </div>\\r\\n            </div>\\r\\n          </div>\\r\\n        </div>\\r\\n      </div>\\r\\n    </section>\\r\\n    <!-- end subscribe section -->\\r\\n    <!-- client section -->\\r\\n    <section class=\"client-section layout-padding\" id=\"testimonios\">\\r\\n      <div class=\"container\">\\r\\n        <div class=\"heading-container heading-center\">\\r\\n          <h2>\\r\\n            Testimonios de clientes\\r\\n          </h2>\\r\\n        </div>\\r\\n        <div id=\"carouselExample3Controls\" class=\"carousel slide\" data-ride=\"carousel\">\\r\\n          <div class=\"carousel-inner\">\\r\\n            <div class=\"carousel-item active\">\\r\\n              <div class=\"box col-lg-10 mx-auto\">\\r\\n                <div class=\"img-container\">\\r\\n                  <div class=\"img-box\">\\r\\n                    <div class=\"img-box-inner\">\\r\\n                      <img src=\"images/client-one.png\" alt=\"Cliente 1\">\\r\\n                    </div>\\r\\n                  </div>\\r\\n                </div>\\r\\n                <div class=\"detail-box\">\\r\\n                  <h5 class=\"cliente-nombre\">\\r\\n                    Cliente 1\\r\\n                  </h5>\\r\\n                  <p class=\"cliente-comentario\">\\r\\n                    Los productos me encantaron y los precios son muy buenos. Lo recomiendo.\\r\\n                  </p>\\r\\n                </div>\\r\\n              </div>\\r\\n            </div>\\r\\n            <div class=\"carousel-item\">\\r\\n              <div class=\"box col-lg-10 mx-auto\">\\r\\n                <div class=\"img-container\">\\r\\n                  <div class=\"img-box\">\\r\\n                    <div class=\"img-box-inner\">\\r\\n                      <img src=\"images/client-two.png\" alt=\"Cliente 2\">\\r\\n                    </div>\\r\\n                  </div>\\r\\n                </div>\\r\\n                <div class=\"detail-box\">\\r\\n                  <h5 class=\"cliente-nombre\">\\r\\n                    Cliente 2\\r\\n                  </h5>\\r\\n                  <p class=\"cliente-comentario\">\\r\\n                    ¡La calidad y variedad de patinetas es impresionante! Definitivamente volveré a comprar.\\r\\n                  </p>\\r\\n                </div>\\r\\n              </div>\\r\\n            </div>\\r\\n            <div class=\"carousel-item\">\\r\\n              <div class=\"box col-lg-10 mx-auto\">\\r\\n                <div class=\"img-container\">\\r\\n                  <div class=\"img-box\">\\r\\n                    <div class=\"img-box-inner\">\\r\\n                      <img src=\"images/client-three.png\" alt=\"Cliente 3\">\\r\\n                    </div>\\r\\n                  </div>\\r\\n                </div>\\r\\n                <div class=\"detail-box\">\\r\\n                  <h5 class=\"cliente-nombre\">\\r\\n                    Cliente 3\\r\\n                  </h5>\\r\\n                  <p class=\"cliente-comentario\">\\r\\n                    Estoy muy conforme. Hay muchas patinetas y los diseños son fantásticos.\\r\\n                  </p>\\r\\n                </div>\\r\\n              </div>\\r\\n            </div>\\r\\n          </div>\\r\\n          <div class=\"carousel-btn-box\">\\r\\n            <a class=\"carousel-control-prev\" href=\"#carouselExample3Controls\" role=\"button\" data-slide=\"prev\">\\r\\n              <i class=\"fa fa-long-arrow-left\" aria-hidden=\"true\"></i>\\r\\n              <span class=\"sr-only\">Anterior</span>\\r\\n            </a>\\r\\n            <a class=\"carousel-control-next\" href=\"#carouselExample3Controls\" role=\"button\" data-slide=\"next\">\\r\\n              <i class=\"fa fa-long-arrow-right\" aria-hidden=\"true\"></i>\\r\\n              <span class=\"sr-only\">Siguiente</span>\\r\\n            </a>\\r\\n          </div>\\r\\n        </div>\\r\\n      </div>\\r\\n    </section>\\r\\n    <!-- end client section -->\\r\\n    <section class=\"arrival-section-bottom\" id=\"precios\">\\r\\n      <div class=\"container \">\\r\\n        <h2 class=\"heading-container\">\\r\\n          Tabla de precios\\r\\n        </h2>\\r\\n        <br>\\r\\n        <div class=\"table-responsive\">\\r\\n          <iframe src=\"table.html\" title=\"table_iframe\"></iframe>\\r\\n        </div>\\r\\n\\r\\n        <div class=\"btn-box\" id=\"missing-models-box\">\\r\\n          <a href=\"\">\\r\\n            Los modelos faltantes se muestran en color rojo.\\r\\n          </a>\\r\\n        </div>\\r\\n      </div>\\r\\n    </section>\\r\\n\\r\\n    <!-- footer start -->\\r\\n    <footer>\\r\\n      <div class=\"container\">\\r\\n        <div class=\"row\">\\r\\n          <div class=\"col-md-4\">\\r\\n            <div class=\"full\">\\r\\n              <div class=\"logo-footer\">\\r\\n                <a href=\"#\"><img width=\"210\" src=\"images/logo.svg\" alt=\"#\" /></a>\\r\\n              </div>\\r\\n              <div class=\"information-f\">\\r\\n                <p><strong>DIRECCIÓN:</strong> Calle falsa 123</p>\\r\\n                <p><strong>TELÉFONO:</strong> 4-444-4444</p>\\r\\n                <p><strong>EMAIL:</strong> ventas@mail.com</p>\\r\\n              </div>\\r\\n            </div>\\r\\n          </div>\\r\\n          <div class=\"col-md-8\">\\r\\n            <div class=\"row\">\\r\\n              <div class=\"col-md-7\">\\r\\n                <div class=\"row\">\\r\\n                  <div class=\"col-md-6\">\\r\\n                    <div class=\"widget-menu\">\\r\\n                      <h3 class=\"menu\">MENÚ</h3>\\r\\n                      <ul>\\r\\n                        <li><a href=\"#\">Inicio</a></li>\\r\\n                        <li><a href=\"#\">Acerca</a></li>\\r\\n                        <li><a href=\"#\">Servicios</a></li>\\r\\n                        <li><a href=\"#\">Testimonios</a></li>\\r\\n                        <li><a href=\"#\">Contacto</a></li>\\r\\n                      </ul>\\r\\n                    </div>\\r\\n                  </div>\\r\\n                </div>\\r\\n              </div>\\r\\n            </div>\\r\\n          </div>\\r\\n        </div>\\r\\n      </div>\\r\\n    </footer>\\r\\n    <!-- footer end -->\\r\\n    <div class=\"attribution\">\\r\\n      <p>© 2022 <span>Todos los derechos reservados</span>.\\r\\n        <a href=\"https://html.design/\" target=\"_blank\" rel=\"noopener noreferrer\">Creado con Free Html Templates</a>.\\r\\n      </p>\\r\\n      <a href=\"https://freecodecamp.org/\" target=\"_blank\" rel=\"noopener noreferrer\">\\r\\n        <img class=\"freecodecamp-logo\" src=\"./images/freecodecamp-logo.png\" alt=\"Logo de freeCodeCamp\">\\r\\n      </a>\\r\\n    </div>\\r\\n    <!-- jQuery -->\\r\\n    <script src=\"js/jquery-3.4.1.min.js\"></script>\\r\\n    <!-- popper js -->\\r\\n    <script src=\"js/popper.min.js\"></script>\\r\\n    <!-- bootstrap js -->\\r\\n    <script src=\"js/bootstrap.js\"></script>\\r\\n  </body>\\r\\n\\r\\n</html>'"
            ],
            "application/vnd.google.colaboratory.intrinsic+json": {
              "type": "string"
            }
          },
          "metadata": {},
          "execution_count": 4
        }
      ],
      "source": [
        "respuesta.text"
      ]
    },
    {
      "cell_type": "markdown",
      "metadata": {
        "id": "6yF0A4Nl6K2d"
      },
      "source": [
        "Veamoslo en la práctica utilizando la siguiente web: http://httpbin.org/headers (útil para testear pedidos HTTP).\n"
      ]
    },
    {
      "cell_type": "code",
      "execution_count": 5,
      "metadata": {
        "id": "yGvs4upI6KLv",
        "colab": {
          "base_uri": "https://localhost:8080/"
        },
        "outputId": "214111f6-cc76-4bf4-dd01-7b11af068989"
      },
      "outputs": [
        {
          "output_type": "stream",
          "name": "stdout",
          "text": [
            "Respuesta sin headers:\n",
            "{\n",
            "  \"headers\": {\n",
            "    \"Accept\": \"*/*\", \n",
            "    \"Accept-Encoding\": \"gzip, deflate\", \n",
            "    \"Host\": \"httpbin.org\", \n",
            "    \"User-Agent\": \"python-requests/2.31.0\", \n",
            "    \"X-Amzn-Trace-Id\": \"Root=1-65dcf745-5b686a86387eed22552bbe8f\"\n",
            "  }\n",
            "}\n",
            "\n"
          ]
        }
      ],
      "source": [
        "URL = 'http://httpbin.org/headers'\n",
        "resp = requests.get(URL)\n",
        "\n",
        "print('Respuesta sin headers:')\n",
        "print(resp.text)"
      ]
    },
    {
      "cell_type": "code",
      "execution_count": 6,
      "metadata": {
        "id": "X94bg5Lfh1Uw",
        "colab": {
          "base_uri": "https://localhost:8080/"
        },
        "outputId": "3ea35fe9-02a3-4461-cf95-92b904651320"
      },
      "outputs": [
        {
          "output_type": "stream",
          "name": "stdout",
          "text": [
            "Respuesta con headers:\n",
            "{\n",
            "  \"headers\": {\n",
            "    \"Accept\": \"*/*\", \n",
            "    \"Accept-Encoding\": \"gzip, deflate\", \n",
            "    \"Host\": \"httpbin.org\", \n",
            "    \"User-Agent\": \"Mozilla/5.0 (X11; Linux x86_64) AppleWebKit/537.36 (KHTML, like Gecko) Chrome/84.0.4147.105 Safari/537.36\", \n",
            "    \"X-Amzn-Trace-Id\": \"Root=1-65dcf745-35a0de9b7fd82ede30298b26\"\n",
            "  }\n",
            "}\n",
            "\n"
          ]
        }
      ],
      "source": [
        "print('Respuesta con headers:')\n",
        "nuestros_headers = {\n",
        "    'user-agent': 'Mozilla/5.0 (X11; Linux x86_64) AppleWebKit/537.36 (KHTML, like Gecko) Chrome/84.0.4147.105 Safari/537.36'\n",
        "    }\n",
        "resp_con_headers = requests.get(URL, headers = nuestros_headers)\n",
        "print(resp_con_headers.text)"
      ]
    },
    {
      "cell_type": "markdown",
      "metadata": {
        "id": "NFVDnesOKZ7N"
      },
      "source": [
        "# **Uso basico de APIs**"
      ]
    },
    {
      "cell_type": "markdown",
      "metadata": {
        "id": "Dd60DCLFhhvP"
      },
      "source": [
        "### Uso de API de manera directa"
      ]
    },
    {
      "cell_type": "markdown",
      "metadata": {
        "id": "i3rq7-cOLHuV"
      },
      "source": [
        "[Sunset and sunrise times API](https://sunrise-sunset.org/api)\n",
        "\n",
        "**Sirve para obtener la hora del amanecer y el ocaso de un determinado día**\n",
        "\n",
        "*Parámetros:*\n",
        "\n",
        "\n",
        "*  **lat** (float): Latitud en grados decimales(Obligatorio)\n",
        "*  **lng** (float): Longitud en grados decimales (obligatorio)\n",
        "*  **date** (string): Fecha en formato AAAA-MM-DD (opcional, por defecto usa el día actual)\n",
        "\n",
        "*Estructura de la query:*\n",
        "\n",
        "`https://api.sunrise-sunset.org/json?`\n",
        "\n",
        "`lat=36.7201600`\n",
        "\n",
        "`&`\n",
        "\n",
        "`lng=-4.4203400`\n",
        "\n",
        "`&`\n",
        "\n",
        "`date=2021-07-26`"
      ]
    },
    {
      "cell_type": "code",
      "execution_count": 7,
      "metadata": {
        "id": "EIFWdHPVJsEi"
      },
      "outputs": [],
      "source": [
        "# Definimos los parametros de nuestra query\n",
        "latitud = -34.6\n",
        "longitud = -58.4\n",
        "fecha = '1816-07-09' # AAAA-MM-DD"
      ]
    },
    {
      "cell_type": "code",
      "execution_count": 8,
      "metadata": {
        "id": "oe0bMEQBJubx"
      },
      "outputs": [],
      "source": [
        "# Hacemos el pedido y guardamos la respuesta en una nueva variable\n",
        "respuesta_sunset = requests.get(f'https://api.sunrise-sunset.org/json?lat={latitud}&lng={longitud}&date={fecha}')"
      ]
    },
    {
      "cell_type": "code",
      "execution_count": 9,
      "metadata": {
        "id": "1KBTJWoYllvx",
        "colab": {
          "base_uri": "https://localhost:8080/",
          "height": 139
        },
        "outputId": "93068111-b347-49ba-970c-4478443b56d4"
      },
      "outputs": [
        {
          "output_type": "execute_result",
          "data": {
            "text/plain": [
              "requests.models.Response"
            ],
            "text/html": [
              "<div style=\"max-width:800px; border: 1px solid var(--colab-border-color);\"><style>\n",
              "      pre.function-repr-contents {\n",
              "        overflow-x: auto;\n",
              "        padding: 8px 12px;\n",
              "        max-height: 500px;\n",
              "      }\n",
              "\n",
              "      pre.function-repr-contents.function-repr-contents-collapsed {\n",
              "        cursor: pointer;\n",
              "        max-height: 100px;\n",
              "      }\n",
              "    </style>\n",
              "    <pre style=\"white-space: initial; background:\n",
              "         var(--colab-secondary-surface-color); padding: 8px 12px;\n",
              "         border-bottom: 1px solid var(--colab-border-color);\"><b>requests.models.Response</b><br/>def __init__()</pre><pre class=\"function-repr-contents function-repr-contents-collapsed\" style=\"\"><a class=\"filepath\" style=\"display:none\" href=\"#\">/usr/local/lib/python3.10/dist-packages/requests/models.py</a>The :class:`Response &lt;Response&gt;` object, which contains a\n",
              "server&#x27;s response to an HTTP request.</pre>\n",
              "      <script>\n",
              "      if (google.colab.kernel.accessAllowed && google.colab.files && google.colab.files.view) {\n",
              "        for (const element of document.querySelectorAll('.filepath')) {\n",
              "          element.style.display = 'block'\n",
              "          element.onclick = (event) => {\n",
              "            event.preventDefault();\n",
              "            event.stopPropagation();\n",
              "            google.colab.files.view(element.textContent, 641);\n",
              "          };\n",
              "        }\n",
              "      }\n",
              "      for (const element of document.querySelectorAll('.function-repr-contents')) {\n",
              "        element.onclick = (event) => {\n",
              "          event.preventDefault();\n",
              "          event.stopPropagation();\n",
              "          element.classList.toggle('function-repr-contents-collapsed');\n",
              "        };\n",
              "      }\n",
              "      </script>\n",
              "      </div>"
            ]
          },
          "metadata": {},
          "execution_count": 9
        }
      ],
      "source": [
        "type(respuesta_sunset)"
      ]
    },
    {
      "cell_type": "code",
      "execution_count": 10,
      "metadata": {
        "id": "dZkY8OHKJxFN",
        "colab": {
          "base_uri": "https://localhost:8080/"
        },
        "outputId": "1bf0eb5f-2c32-4355-d8fc-fb0e750c8e03"
      },
      "outputs": [
        {
          "output_type": "stream",
          "name": "stdout",
          "text": [
            "{'results': {'sunrise': '10:58:20 AM', 'sunset': '8:58:27 PM', 'solar_noon': '3:58:24 PM', 'day_length': '10:00:07', 'civil_twilight_begin': '10:32:04 AM', 'civil_twilight_end': '9:24:44 PM', 'nautical_twilight_begin': '10:00:49 AM', 'nautical_twilight_end': '9:55:58 PM', 'astronomical_twilight_begin': '9:30:19 AM', 'astronomical_twilight_end': '10:26:29 PM'}, 'status': 'OK', 'tzid': 'UTC'}\n"
          ]
        }
      ],
      "source": [
        "# Para des-serializar el objeto (que era tipo 'HTTPResponse') y cargarlo como json\n",
        "datos_sunset = respuesta_sunset.json()\n",
        "print(datos_sunset)\n"
      ]
    },
    {
      "cell_type": "code",
      "execution_count": 11,
      "metadata": {
        "id": "7kr6nPiQl1gK",
        "colab": {
          "base_uri": "https://localhost:8080/"
        },
        "outputId": "26deb125-5976-4b2f-fb9d-4d2ab6c4d22b"
      },
      "outputs": [
        {
          "output_type": "execute_result",
          "data": {
            "text/plain": [
              "dict_keys(['results', 'status', 'tzid'])"
            ]
          },
          "metadata": {},
          "execution_count": 11
        }
      ],
      "source": [
        "type(datos_sunset)\n",
        "datos_sunset.keys()"
      ]
    },
    {
      "cell_type": "code",
      "execution_count": 12,
      "metadata": {
        "id": "Z8lcUaepJ2IJ",
        "colab": {
          "base_uri": "https://localhost:8080/"
        },
        "outputId": "c62af005-cf4f-4fba-ba60-043ccc9357df"
      },
      "outputs": [
        {
          "output_type": "stream",
          "name": "stdout",
          "text": [
            "Status: OK\n"
          ]
        }
      ],
      "source": [
        "# Evaluamos el status del pedido\n",
        "sunset_status = datos_sunset['status']\n",
        "print(f'Status: {sunset_status}')"
      ]
    },
    {
      "cell_type": "code",
      "execution_count": 13,
      "metadata": {
        "id": "AVf-wnSKmAKg",
        "colab": {
          "base_uri": "https://localhost:8080/",
          "height": 36
        },
        "outputId": "ecb02816-6e74-45fa-ca10-8c43a8743d7a"
      },
      "outputs": [
        {
          "output_type": "execute_result",
          "data": {
            "text/plain": [
              "'8:58:27 PM'"
            ],
            "application/vnd.google.colaboratory.intrinsic+json": {
              "type": "string"
            }
          },
          "metadata": {},
          "execution_count": 13
        }
      ],
      "source": [
        "datos_sunset['results']['sunset']"
      ]
    },
    {
      "cell_type": "code",
      "execution_count": 14,
      "metadata": {
        "id": "vDCpwey_J6J1",
        "colab": {
          "base_uri": "https://localhost:8080/"
        },
        "outputId": "2ed49ba0-9a2c-4f5d-8e66-20dda79f9b55"
      },
      "outputs": [
        {
          "output_type": "stream",
          "name": "stdout",
          "text": [
            "El 1816-07-09 el sol se ocultó a las 8:58:27 PM (UTC)\n"
          ]
        }
      ],
      "source": [
        "# Podemos ver su contenido ya que es son diccionarios anidados:\n",
        "sunset = datos_sunset['results']['sunset']\n",
        "print(f'El {fecha} el sol se ocultó a las {sunset} (UTC)')"
      ]
    },
    {
      "cell_type": "code",
      "execution_count": 15,
      "metadata": {
        "id": "_1N7IJIiKIIC",
        "colab": {
          "base_uri": "https://localhost:8080/"
        },
        "outputId": "51a10ffc-2b5b-42e4-801a-118ec2c4d5fe"
      },
      "outputs": [
        {
          "output_type": "stream",
          "name": "stdout",
          "text": [
            "Iterando data_sunset['results']:\n",
            "sunrise\n",
            "sunset\n",
            "solar_noon\n",
            "day_length\n",
            "civil_twilight_begin\n",
            "civil_twilight_end\n",
            "nautical_twilight_begin\n",
            "nautical_twilight_end\n",
            "astronomical_twilight_begin\n",
            "astronomical_twilight_end\n"
          ]
        }
      ],
      "source": [
        "# tambien podriamos iterar sobre sus claves\n",
        "print(\"Iterando data_sunset['results']:\")\n",
        "for elemento in datos_sunset['results']:\n",
        "  print(elemento)"
      ]
    },
    {
      "cell_type": "markdown",
      "metadata": {
        "id": "KcHglp06hnfy"
      },
      "source": [
        "### **Uso de API por medio de una librería: Wikipedia**\n",
        "\n",
        "Wikipedia-API es un *wrapper* de Python fácil de usar para la API de Wikipedia. Admite la extracción de textos, secciones, enlaces, categorías, traducciones, etc.\n",
        "\n",
        "Repositorio: https://github.com/martin-majlis/Wikipedia-API\n",
        "\n",
        "Documentación: https://wikipedia-api.readthedocs.io/en/latest/README.html\n",
        "\n",
        "\n",
        "\n",
        "\n"
      ]
    },
    {
      "cell_type": "code",
      "execution_count": 16,
      "metadata": {
        "id": "EqWcjExWiihS",
        "colab": {
          "base_uri": "https://localhost:8080/",
          "height": 1000
        },
        "outputId": "db855e6b-f378-4a1d-c389-e68314657762"
      },
      "outputs": [
        {
          "output_type": "stream",
          "name": "stdout",
          "text": [
            "Using pip 23.1.2 from /usr/local/lib/python3.10/dist-packages/pip (python 3.10)\n",
            "Collecting wikipedia-api==0.5.8\n",
            "  Downloading Wikipedia_API-0.5.8-py3-none-any.whl (13 kB)\n",
            "Collecting requests (from wikipedia-api==0.5.8)\n",
            "  Downloading requests-2.31.0-py3-none-any.whl (62 kB)\n",
            "\u001b[2K     \u001b[90m━━━━━━━━━━━━━━━━━━━━━━━━━━━━━━━━━━━━━━━━\u001b[0m \u001b[32m62.6/62.6 kB\u001b[0m \u001b[31m2.2 MB/s\u001b[0m eta \u001b[36m0:00:00\u001b[0m\n",
            "\u001b[?25hCollecting charset-normalizer<4,>=2 (from requests->wikipedia-api==0.5.8)\n",
            "  Downloading charset_normalizer-3.3.2-cp310-cp310-manylinux_2_17_x86_64.manylinux2014_x86_64.whl (142 kB)\n",
            "\u001b[2K     \u001b[90m━━━━━━━━━━━━━━━━━━━━━━━━━━━━━━━━━━━━━━━━\u001b[0m \u001b[32m142.1/142.1 kB\u001b[0m \u001b[31m4.7 MB/s\u001b[0m eta \u001b[36m0:00:00\u001b[0m\n",
            "\u001b[?25hCollecting idna<4,>=2.5 (from requests->wikipedia-api==0.5.8)\n",
            "  Downloading idna-3.6-py3-none-any.whl (61 kB)\n",
            "\u001b[2K     \u001b[90m━━━━━━━━━━━━━━━━━━━━━━━━━━━━━━━━━━━━━━━━\u001b[0m \u001b[32m61.6/61.6 kB\u001b[0m \u001b[31m5.3 MB/s\u001b[0m eta \u001b[36m0:00:00\u001b[0m\n",
            "\u001b[?25hCollecting urllib3<3,>=1.21.1 (from requests->wikipedia-api==0.5.8)\n",
            "  Downloading urllib3-2.2.1-py3-none-any.whl (121 kB)\n",
            "\u001b[2K     \u001b[90m━━━━━━━━━━━━━━━━━━━━━━━━━━━━━━━━━━━━━━━━\u001b[0m \u001b[32m121.1/121.1 kB\u001b[0m \u001b[31m5.0 MB/s\u001b[0m eta \u001b[36m0:00:00\u001b[0m\n",
            "\u001b[?25hCollecting certifi>=2017.4.17 (from requests->wikipedia-api==0.5.8)\n",
            "  Downloading certifi-2024.2.2-py3-none-any.whl (163 kB)\n",
            "\u001b[2K     \u001b[90m━━━━━━━━━━━━━━━━━━━━━━━━━━━━━━━━━━━━━━━━\u001b[0m \u001b[32m163.8/163.8 kB\u001b[0m \u001b[31m6.4 MB/s\u001b[0m eta \u001b[36m0:00:00\u001b[0m\n",
            "\u001b[?25hInstalling collected packages: urllib3, idna, charset-normalizer, certifi, requests, wikipedia-api\n",
            "  Attempting uninstall: urllib3\n",
            "    Found existing installation: urllib3 2.0.7\n",
            "    Uninstalling urllib3-2.0.7:\n",
            "      Removing file or directory /usr/local/lib/python3.10/dist-packages/urllib3-2.0.7.dist-info/\n",
            "      Removing file or directory /usr/local/lib/python3.10/dist-packages/urllib3/\n",
            "      Successfully uninstalled urllib3-2.0.7\n",
            "  Attempting uninstall: idna\n",
            "    Found existing installation: idna 3.6\n",
            "    Uninstalling idna-3.6:\n",
            "      Removing file or directory /usr/local/lib/python3.10/dist-packages/idna-3.6.dist-info/\n",
            "      Removing file or directory /usr/local/lib/python3.10/dist-packages/idna/\n",
            "      Successfully uninstalled idna-3.6\n",
            "  Attempting uninstall: charset-normalizer\n",
            "    Found existing installation: charset-normalizer 3.3.2\n",
            "    Uninstalling charset-normalizer-3.3.2:\n",
            "      Removing file or directory /usr/local/bin/normalizer\n",
            "      Removing file or directory /usr/local/lib/python3.10/dist-packages/charset_normalizer-3.3.2.dist-info/\n",
            "      Removing file or directory /usr/local/lib/python3.10/dist-packages/charset_normalizer/\n",
            "      Successfully uninstalled charset-normalizer-3.3.2\n",
            "  changing mode of /usr/local/bin/normalizer to 755\n",
            "  Attempting uninstall: certifi\n",
            "    Found existing installation: certifi 2024.2.2\n",
            "    Uninstalling certifi-2024.2.2:\n",
            "      Removing file or directory /usr/local/lib/python3.10/dist-packages/certifi-2024.2.2.dist-info/\n",
            "      Removing file or directory /usr/local/lib/python3.10/dist-packages/certifi/\n",
            "      Successfully uninstalled certifi-2024.2.2\n",
            "  Attempting uninstall: requests\n",
            "    Found existing installation: requests 2.31.0\n",
            "    Uninstalling requests-2.31.0:\n",
            "      Removing file or directory /usr/local/lib/python3.10/dist-packages/requests-2.31.0.dist-info/\n",
            "      Removing file or directory /usr/local/lib/python3.10/dist-packages/requests/\n",
            "      Successfully uninstalled requests-2.31.0\n",
            "Successfully installed certifi-2024.2.2 charset-normalizer-3.3.2 idna-3.6 requests-2.31.0 urllib3-2.2.1 wikipedia-api-0.5.8\n"
          ]
        },
        {
          "output_type": "display_data",
          "data": {
            "application/vnd.colab-display-data+json": {
              "pip_warning": {
                "packages": [
                  "certifi",
                  "charset_normalizer",
                  "requests"
                ]
              },
              "id": "82acac4b7ccc4aad924ba8726b4d3c31"
            }
          },
          "metadata": {}
        }
      ],
      "source": [
        "# Instalamos el paquete porque no viene con Colab\n",
        "!pip3 install --force-reinstall -v  \"wikipedia-api==0.5.8\""
      ]
    },
    {
      "cell_type": "code",
      "execution_count": 17,
      "metadata": {
        "id": "9WTgRAA3sjdG",
        "colab": {
          "base_uri": "https://localhost:8080/"
        },
        "outputId": "85b42fe4-0a1c-4cd4-b700-0fca5cde786f"
      },
      "outputs": [
        {
          "output_type": "stream",
          "name": "stdout",
          "text": [
            "(0, 5, 8)\n"
          ]
        }
      ],
      "source": [
        "# Ahora si podemos importarlo\n",
        "import wikipediaapi\n",
        "\n",
        "# Chequear versión\n",
        "print(wikipediaapi.__version__)"
      ]
    },
    {
      "cell_type": "code",
      "execution_count": 18,
      "metadata": {
        "id": "VLY7a8imigip",
        "colab": {
          "base_uri": "https://localhost:8080/"
        },
        "outputId": "1ddb4935-fbc9-4078-a333-6579a3955cf5"
      },
      "outputs": [
        {
          "output_type": "stream",
          "name": "stdout",
          "text": [
            "wikipedia_programacion es un objeto de tipo: \n",
            " \n",
            "<class 'wikipediaapi.WikipediaPage'>\n"
          ]
        }
      ],
      "source": [
        "# Instanciamos la clase wikipediaapi y utilizamos el metodo Wikipedia con el parametro de idioma\n",
        "IDIOMA = 'es'\n",
        "wiki_wiki = wikipediaapi.Wikipedia(IDIOMA)\n",
        "\n",
        "# Usamos el metodo page para y hacemos un pedido con una palabra clave\n",
        "PALABRA_CLAVE = 'programación'\n",
        "wikipedia_programacion = wiki_wiki.page(PALABRA_CLAVE)\n",
        "\n",
        "print(f'wikipedia_programacion es un objeto de tipo: \\n \\n{type(wikipedia_programacion)}')"
      ]
    },
    {
      "cell_type": "code",
      "execution_count": 19,
      "metadata": {
        "id": "dK5pdTsYivt8",
        "colab": {
          "base_uri": "https://localhost:8080/"
        },
        "outputId": "eec823a9-c6a1-402d-e761-80c4fc98b9b2"
      },
      "outputs": [
        {
          "output_type": "stream",
          "name": "stdout",
          "text": [
            "programación\n",
            " \n",
            "La programación es el proceso de crear un conjunto de instrucciones que le dicen a una computadora como realizar algún tipo de tarea. Pero no solo la acción de escribir un código para que la computadora o el software lo ejecute. Incluye, además, todas las tareas necesarias para que el código funcione correctamente y cumpla el objetivo para el cual se escribió.[1]​\n",
            "En la actualidad, la noción de programación se encuentra muy asociada a la creación de aplicaciones de informática y videojuegos. En este sentido, es el proceso por el cual una persona desarrolla un programa, valiéndose de una herramienta que le permita escribir el código (el cual puede estar en uno o varios lenguajes, como C++, Java y Python, entre muchos otros) y de otra que sea capaz de “traducirlo” a lo que se conoce como lenguaje de máquina, que puede \"comprender\" el microprocesador.[2]​\n"
          ]
        }
      ],
      "source": [
        "# Resumen\n",
        "print(wikipedia_programacion.title)\n",
        "print(' ')\n",
        "print(wikipedia_programacion.summary)"
      ]
    },
    {
      "cell_type": "code",
      "execution_count": 20,
      "metadata": {
        "id": "UhukUmpni1Au",
        "colab": {
          "base_uri": "https://localhost:8080/"
        },
        "outputId": "209a44bb-3e61-4336-f812-ddb5ecdd0082"
      },
      "outputs": [
        {
          "output_type": "stream",
          "name": "stdout",
          "text": [
            "https://es.wikipedia.org/wiki/Programaci%C3%B3n\n"
          ]
        }
      ],
      "source": [
        "# Url completa\n",
        "print(wikipedia_programacion.fullurl)"
      ]
    },
    {
      "cell_type": "markdown",
      "metadata": {
        "id": "g-ZRRKjv8b4e"
      },
      "source": [
        "# **BeautifulSoup**\n",
        "Documentación oficial: https://beautiful-soup-4.readthedocs.io/en/latest/"
      ]
    },
    {
      "cell_type": "markdown",
      "metadata": {
        "id": "BGXRo8BWtIDc"
      },
      "source": [
        "## **Generalidades**\n",
        "\n",
        "Vamos a practicar con https://scrapepark.org/spanish/\n"
      ]
    },
    {
      "cell_type": "code",
      "execution_count": 21,
      "metadata": {
        "id": "DemLUNc7d_W7"
      },
      "outputs": [],
      "source": [
        "from bs4 import BeautifulSoup\n",
        "import requests"
      ]
    },
    {
      "cell_type": "code",
      "execution_count": 22,
      "metadata": {
        "id": "T5XplMATeVXQ",
        "colab": {
          "base_uri": "https://localhost:8080/"
        },
        "outputId": "6f0f0450-54ac-4898-b389-a665267380e3"
      },
      "outputs": [
        {
          "output_type": "stream",
          "name": "stdout",
          "text": [
            "Versión de BeautifulSoup: 4.12.3\n",
            "Versión de requests: 2.31.0\n"
          ]
        }
      ],
      "source": [
        "# Versiones\n",
        "import bs4 # Solo para el chequeo\n",
        "print(\"Versión de BeautifulSoup:\",bs4.__version__)\n",
        "print(\"Versión de requests:\", requests.__version__)"
      ]
    },
    {
      "cell_type": "code",
      "execution_count": 23,
      "metadata": {
        "id": "OOJxCTeb2Sys",
        "colab": {
          "base_uri": "https://localhost:8080/",
          "height": 899
        },
        "outputId": "bd95ed03-9489-4958-9548-a4e70fa4f7fe"
      },
      "outputs": [
        {
          "output_type": "stream",
          "name": "stdout",
          "text": [
            "Collecting beautifulsoup4==4.11.2\n",
            "  Downloading beautifulsoup4-4.11.2-py3-none-any.whl (129 kB)\n",
            "\u001b[?25l     \u001b[90m━━━━━━━━━━━━━━━━━━━━━━━━━━━━━━━━━━━━━━━━\u001b[0m \u001b[32m0.0/129.4 kB\u001b[0m \u001b[31m?\u001b[0m eta \u001b[36m-:--:--\u001b[0m\r\u001b[2K     \u001b[91m━━━━━━━━━━━━━━━━━━━━━━━━━━━━━━━━━━━━━\u001b[0m\u001b[91m╸\u001b[0m\u001b[90m━━\u001b[0m \u001b[32m122.9/129.4 kB\u001b[0m \u001b[31m3.6 MB/s\u001b[0m eta \u001b[36m0:00:01\u001b[0m\r\u001b[2K     \u001b[90m━━━━━━━━━━━━━━━━━━━━━━━━━━━━━━━━━━━━━━━━\u001b[0m \u001b[32m129.4/129.4 kB\u001b[0m \u001b[31m3.1 MB/s\u001b[0m eta \u001b[36m0:00:00\u001b[0m\n",
            "\u001b[?25hRequirement already satisfied: soupsieve>1.2 in /usr/local/lib/python3.10/dist-packages (from beautifulsoup4==4.11.2) (2.5)\n",
            "Installing collected packages: beautifulsoup4\n",
            "  Attempting uninstall: beautifulsoup4\n",
            "    Found existing installation: beautifulsoup4 4.12.3\n",
            "    Uninstalling beautifulsoup4-4.12.3:\n",
            "      Successfully uninstalled beautifulsoup4-4.12.3\n",
            "Successfully installed beautifulsoup4-4.11.2\n"
          ]
        },
        {
          "output_type": "display_data",
          "data": {
            "application/vnd.colab-display-data+json": {
              "pip_warning": {
                "packages": [
                  "bs4"
                ]
              },
              "id": "56062565f19d4b068126d4ef0da40863"
            }
          },
          "metadata": {}
        },
        {
          "output_type": "stream",
          "name": "stdout",
          "text": [
            "Collecting requests==2.27.1\n",
            "  Downloading requests-2.27.1-py2.py3-none-any.whl (63 kB)\n",
            "\u001b[2K     \u001b[90m━━━━━━━━━━━━━━━━━━━━━━━━━━━━━━━━━━━━━━━━\u001b[0m \u001b[32m63.1/63.1 kB\u001b[0m \u001b[31m1.5 MB/s\u001b[0m eta \u001b[36m0:00:00\u001b[0m\n",
            "\u001b[?25hCollecting urllib3<1.27,>=1.21.1 (from requests==2.27.1)\n",
            "  Downloading urllib3-1.26.18-py2.py3-none-any.whl (143 kB)\n",
            "\u001b[2K     \u001b[90m━━━━━━━━━━━━━━━━━━━━━━━━━━━━━━━━━━━━━━━━\u001b[0m \u001b[32m143.8/143.8 kB\u001b[0m \u001b[31m6.6 MB/s\u001b[0m eta \u001b[36m0:00:00\u001b[0m\n",
            "\u001b[?25hRequirement already satisfied: certifi>=2017.4.17 in /usr/local/lib/python3.10/dist-packages (from requests==2.27.1) (2024.2.2)\n",
            "Collecting charset-normalizer~=2.0.0 (from requests==2.27.1)\n",
            "  Downloading charset_normalizer-2.0.12-py3-none-any.whl (39 kB)\n",
            "Requirement already satisfied: idna<4,>=2.5 in /usr/local/lib/python3.10/dist-packages (from requests==2.27.1) (3.6)\n",
            "Installing collected packages: urllib3, charset-normalizer, requests\n",
            "  Attempting uninstall: urllib3\n",
            "    Found existing installation: urllib3 2.2.1\n",
            "    Uninstalling urllib3-2.2.1:\n",
            "      Successfully uninstalled urllib3-2.2.1\n",
            "  Attempting uninstall: charset-normalizer\n",
            "    Found existing installation: charset-normalizer 3.3.2\n",
            "    Uninstalling charset-normalizer-3.3.2:\n",
            "      Successfully uninstalled charset-normalizer-3.3.2\n",
            "  Attempting uninstall: requests\n",
            "    Found existing installation: requests 2.31.0\n",
            "    Uninstalling requests-2.31.0:\n",
            "      Successfully uninstalled requests-2.31.0\n",
            "\u001b[31mERROR: pip's dependency resolver does not currently take into account all the packages that are installed. This behaviour is the source of the following dependency conflicts.\n",
            "google-colab 1.0.0 requires requests==2.31.0, but you have requests 2.27.1 which is incompatible.\n",
            "yfinance 0.2.36 requires requests>=2.31, but you have requests 2.27.1 which is incompatible.\u001b[0m\u001b[31m\n",
            "\u001b[0mSuccessfully installed charset-normalizer-2.0.12 requests-2.27.1 urllib3-1.26.18\n"
          ]
        },
        {
          "output_type": "display_data",
          "data": {
            "application/vnd.colab-display-data+json": {
              "pip_warning": {
                "packages": [
                  "charset_normalizer",
                  "requests",
                  "urllib3"
                ]
              },
              "id": "855da9373149423693c713bc84178b4e"
            }
          },
          "metadata": {}
        }
      ],
      "source": [
        "# En caso de no tener la versión que se usa en este curso\n",
        "!pip3 install beautifulsoup4==4.11.2\n",
        "!pip3 install requests==2.27.1"
      ]
    },
    {
      "cell_type": "code",
      "execution_count": 24,
      "metadata": {
        "id": "YLnDRuoftSDX"
      },
      "outputs": [],
      "source": [
        "# Empezamos el scraping\n",
        "\n",
        "# 1. Obtener el HTML\n",
        "URL_BASE = 'https://scrapepark.org/courses/spanish/'\n",
        "pedido_obtenido = requests.get(URL_BASE)\n",
        "html_obtenido = pedido_obtenido.text\n",
        "\n",
        "# 2. \"Parsear\" ese HTML\n",
        "soup = BeautifulSoup(html_obtenido, \"html.parser\")"
      ]
    },
    {
      "cell_type": "code",
      "execution_count": 25,
      "metadata": {
        "id": "O1lXQ39Ao64s",
        "colab": {
          "base_uri": "https://localhost:8080/",
          "height": 187
        },
        "outputId": "12de5270-5489-44e7-c578-b6a2f98e5f58"
      },
      "outputs": [
        {
          "output_type": "execute_result",
          "data": {
            "text/plain": [
              "bs4.BeautifulSoup"
            ],
            "text/html": [
              "<div style=\"max-width:800px; border: 1px solid var(--colab-border-color);\"><style>\n",
              "      pre.function-repr-contents {\n",
              "        overflow-x: auto;\n",
              "        padding: 8px 12px;\n",
              "        max-height: 500px;\n",
              "      }\n",
              "\n",
              "      pre.function-repr-contents.function-repr-contents-collapsed {\n",
              "        cursor: pointer;\n",
              "        max-height: 100px;\n",
              "      }\n",
              "    </style>\n",
              "    <pre style=\"white-space: initial; background:\n",
              "         var(--colab-secondary-surface-color); padding: 8px 12px;\n",
              "         border-bottom: 1px solid var(--colab-border-color);\"><b>bs4.BeautifulSoup</b><br/>def __eq__(other)</pre><pre class=\"function-repr-contents function-repr-contents-collapsed\" style=\"\"><a class=\"filepath\" style=\"display:none\" href=\"#\">/usr/local/lib/python3.10/dist-packages/bs4/__init__.py</a>A data structure representing a parsed HTML or XML document.\n",
              "\n",
              "Most of the methods you&#x27;ll call on a BeautifulSoup object are inherited from\n",
              "PageElement or Tag.\n",
              "\n",
              "Internally, this class defines the basic interface called by the\n",
              "tree builders when converting an HTML/XML document into a data\n",
              "structure. The interface abstracts away the differences between\n",
              "parsers. To write a new tree builder, you&#x27;ll need to understand\n",
              "these methods as a whole.\n",
              "\n",
              "These methods will be called by the BeautifulSoup constructor:\n",
              "  * reset()\n",
              "  * feed(markup)\n",
              "\n",
              "The tree builder may call these methods from its feed() implementation:\n",
              "  * handle_starttag(name, attrs) # See note about return value\n",
              "  * handle_endtag(name)\n",
              "  * handle_data(data) # Appends to the current data node\n",
              "  * endData(containerClass) # Ends the current data node\n",
              "\n",
              "No matter how complicated the underlying parser is, you should be\n",
              "able to build a tree using &#x27;start tag&#x27; events, &#x27;end tag&#x27; events,\n",
              "&#x27;data&#x27; events, and &quot;done with data&quot; events.\n",
              "\n",
              "If you encounter an empty-element tag (aka a self-closing tag,\n",
              "like HTML&#x27;s &lt;br&gt; tag), call handle_starttag and then\n",
              "handle_endtag.</pre>\n",
              "      <script>\n",
              "      if (google.colab.kernel.accessAllowed && google.colab.files && google.colab.files.view) {\n",
              "        for (const element of document.querySelectorAll('.filepath')) {\n",
              "          element.style.display = 'block'\n",
              "          element.onclick = (event) => {\n",
              "            event.preventDefault();\n",
              "            event.stopPropagation();\n",
              "            google.colab.files.view(element.textContent, 74);\n",
              "          };\n",
              "        }\n",
              "      }\n",
              "      for (const element of document.querySelectorAll('.function-repr-contents')) {\n",
              "        element.onclick = (event) => {\n",
              "          event.preventDefault();\n",
              "          event.stopPropagation();\n",
              "          element.classList.toggle('function-repr-contents-collapsed');\n",
              "        };\n",
              "      }\n",
              "      </script>\n",
              "      </div>"
            ]
          },
          "metadata": {},
          "execution_count": 25
        }
      ],
      "source": [
        "type(soup)"
      ]
    },
    {
      "cell_type": "markdown",
      "metadata": {
        "id": "AS5-q5L-eLZ_"
      },
      "source": [
        "## **El método `find()`**\n",
        "\n",
        "Nos permite quedarnos con la información asociada a una etiqueta de HTML"
      ]
    },
    {
      "cell_type": "code",
      "execution_count": 26,
      "metadata": {
        "id": "Jo7AkWAhh23W",
        "colab": {
          "base_uri": "https://localhost:8080/"
        },
        "outputId": "b8b97499-c014-43b9-bf38-9cffb8ae9e44"
      },
      "outputs": [
        {
          "output_type": "stream",
          "name": "stdout",
          "text": [
            "<h2>¿Por qué comprar con nosotros?</h2>\n"
          ]
        }
      ],
      "source": [
        "primer_h2 = soup.find('h2')\n",
        "print(primer_h2)"
      ]
    },
    {
      "cell_type": "code",
      "execution_count": 27,
      "metadata": {
        "id": "jP47spPBiYfB",
        "colab": {
          "base_uri": "https://localhost:8080/"
        },
        "outputId": "f77fd0b0-ce6c-4b54-c664-1eed78ae8255"
      },
      "outputs": [
        {
          "output_type": "stream",
          "name": "stdout",
          "text": [
            "¿Por qué comprar con nosotros?\n"
          ]
        }
      ],
      "source": [
        "# Solo el texto\n",
        "print(primer_h2.text)\n",
        "\n",
        "# equivalente a:\n",
        "# print(soup.h2.text)"
      ]
    },
    {
      "cell_type": "markdown",
      "metadata": {
        "id": "MFO_d99OeavG"
      },
      "source": [
        "## **El método `find_all()`**\n",
        "\n",
        "Busca **TODOS** los elementos de la página con esa etiqueta y devuelve una \"lista\" que los contiene (en realidad devuelve un objeto de la clase *bs4.element.ResultSet*)."
      ]
    },
    {
      "cell_type": "code",
      "execution_count": 28,
      "metadata": {
        "id": "6YlYosUFmc66",
        "colab": {
          "base_uri": "https://localhost:8080/"
        },
        "outputId": "5b3c9637-5b08-482b-a125-92e6752513f3"
      },
      "outputs": [
        {
          "output_type": "stream",
          "name": "stdout",
          "text": [
            "[<h2>¿Por qué comprar con nosotros?</h2>, <h2>\r\n",
            "                  #Novedades\r\n",
            "                </h2>, <h2>\r\n",
            "            Nuestros <span>productos</span>\n",
            "</h2>, <h2>\r\n",
            "            Testimonios de clientes\r\n",
            "          </h2>, <h2 class=\"heading-container\">\r\n",
            "          Tabla de precios\r\n",
            "        </h2>]\n"
          ]
        }
      ],
      "source": [
        "h2_todos = soup.find_all('h2')\n",
        "print(h2_todos)"
      ]
    },
    {
      "cell_type": "code",
      "execution_count": 29,
      "metadata": {
        "id": "Az5VWD8qh5XP",
        "colab": {
          "base_uri": "https://localhost:8080/"
        },
        "outputId": "588ddc83-38a6-4573-c18e-7549fe059bc3"
      },
      "outputs": [
        {
          "output_type": "stream",
          "name": "stdout",
          "text": [
            "[<h2>¿Por qué comprar con nosotros?</h2>]\n"
          ]
        }
      ],
      "source": [
        "# ARGUMENTOS\n",
        "# Si usamos el parametro limit = 1, emulamos al metodo find\n",
        "h2_uno_solo = soup.find_all('h2',limit=1)\n",
        "print(h2_uno_solo)"
      ]
    },
    {
      "cell_type": "code",
      "execution_count": 30,
      "metadata": {
        "id": "g_pjutuZh9wz",
        "colab": {
          "base_uri": "https://localhost:8080/"
        },
        "outputId": "2da5006f-210a-4620-dad7-4849fab5001a"
      },
      "outputs": [
        {
          "output_type": "stream",
          "name": "stdout",
          "text": [
            "¿Por qué comprar con nosotros?\n",
            "\r\n",
            "                  #Novedades\r\n",
            "                \n",
            "\r\n",
            "            Nuestros productos\n",
            "\n",
            "\r\n",
            "            Testimonios de clientes\r\n",
            "          \n",
            "\r\n",
            "          Tabla de precios\r\n",
            "        \n"
          ]
        }
      ],
      "source": [
        "# Podemos iterar sobre el objeto\n",
        "for seccion in h2_todos:\n",
        "  print(seccion.text)"
      ]
    },
    {
      "cell_type": "code",
      "execution_count": 31,
      "metadata": {
        "id": "Vm5TjiHV4lCR",
        "colab": {
          "base_uri": "https://localhost:8080/"
        },
        "outputId": "2ff4036c-d086-4e31-c603-2544cf187776"
      },
      "outputs": [
        {
          "output_type": "stream",
          "name": "stdout",
          "text": [
            "¿Por qué comprar con nosotros?\n",
            "#Novedades\n",
            "Nuestrosproductos\n",
            "Testimonios de clientes\n",
            "Tabla de precios\n"
          ]
        }
      ],
      "source": [
        "# get_text() para más funcionalidades\n",
        "for seccion in h2_todos:\n",
        "  print(seccion.get_text(strip=True))"
      ]
    },
    {
      "cell_type": "markdown",
      "metadata": {
        "id": "H936ZYAerBXJ"
      },
      "source": [
        "## **Utilizando atributos de las etiquetas**\n",
        "\n"
      ]
    },
    {
      "cell_type": "code",
      "execution_count": 32,
      "metadata": {
        "id": "GyPbqaejp4is",
        "colab": {
          "base_uri": "https://localhost:8080/"
        },
        "outputId": "2c9902cb-b90b-4571-ec5e-e68d0e096a95"
      },
      "outputs": [
        {
          "output_type": "stream",
          "name": "stdout",
          "text": [
            "<div class=\"heading-container heading-center\" id=\"acerca\">\n",
            "<h2>¿Por qué comprar con nosotros?</h2>\n",
            "</div>\n",
            " \n",
            "<div class=\"heading-container heading-center\" id=\"productos\">\n",
            "<h2>\r\n",
            "            Nuestros <span>productos</span>\n",
            "</h2>\n",
            "</div>\n",
            " \n",
            "<div class=\"heading-container heading-center\">\n",
            "<h3>Suscríbete para obtener descuentos y ofertas</h3>\n",
            "</div>\n",
            " \n",
            "<div class=\"heading-container heading-center\">\n",
            "<h2>\r\n",
            "            Testimonios de clientes\r\n",
            "          </h2>\n",
            "</div>\n",
            " \n"
          ]
        }
      ],
      "source": [
        "# Clase\n",
        "divs = soup.find_all('div', class_ = \"heading-container heading-center\")\n",
        "\n",
        "for div in divs:\n",
        "  print(div)\n",
        "  print(\" \")"
      ]
    },
    {
      "cell_type": "code",
      "execution_count": 33,
      "metadata": {
        "id": "fVxip8F0iEYA",
        "colab": {
          "base_uri": "https://localhost:8080/"
        },
        "outputId": "448949d2-f52a-4fa1-97d0-f32082cd2f4d"
      },
      "outputs": [
        {
          "output_type": "stream",
          "name": "stdout",
          "text": [
            "<img alt=\"Parque de patinaje\" src=\"images/slider-bg.jpg\"/>\n",
            "<img alt=\"Patineta 2\" src=\"images/p2.jpg\"/>\n"
          ]
        }
      ],
      "source": [
        "# Todas las etiquetas que tengan el atributo \"src\"\n",
        "src_todos = soup.find_all(src=True)\n",
        "\n",
        "for elemento in src_todos:\n",
        "  if elemento['src'].endswith(\".jpg\"):\n",
        "    print(elemento)\n"
      ]
    },
    {
      "cell_type": "code",
      "execution_count": 34,
      "metadata": {
        "id": "pm4eVZCW6jjD",
        "colab": {
          "base_uri": "https://localhost:8080/"
        },
        "outputId": "4e6cebaa-8ea6-4f9e-8c73-7921bd44fd25"
      },
      "outputs": [
        {
          "output_type": "stream",
          "name": "stdout",
          "text": [
            "images/arrival-bg-store.png\n",
            "images/p1.png\n",
            "images/p3.png\n",
            "images/p4.png\n",
            "images/p5.png\n",
            "images/p6.png\n",
            "images/p7.png\n",
            "images/p8.png\n",
            "images/p9.png\n",
            "images/p10.png\n",
            "images/p11.png\n",
            "images/p12.png\n",
            "images/client-one.png\n",
            "images/client-two.png\n",
            "images/client-three.png\n",
            "./images/freecodecamp-logo.png\n"
          ]
        }
      ],
      "source": [
        "#@title Ejercicio: Bajar todas las imagenes!\n",
        "\n",
        "url_imagenes = []\n",
        "\n",
        "for i, imagen in enumerate(src_todos):\n",
        "\n",
        "  if imagen['src'].endswith('png'):\n",
        "\n",
        "    print(imagen['src'])\n",
        "    r = requests.get(f\"https://scrapepark.org/courses/spanish/{imagen['src']}\")\n",
        "\n",
        "    with open(f'imagen_{i}.png', 'wb') as f:\n",
        "      f.write(r.content)"
      ]
    },
    {
      "cell_type": "markdown",
      "metadata": {
        "id": "nxurw0jxiwm0"
      },
      "source": [
        "## **Tablas**"
      ]
    },
    {
      "cell_type": "code",
      "execution_count": 35,
      "metadata": {
        "id": "YyqtIpXMw9sx",
        "colab": {
          "base_uri": "https://localhost:8080/",
          "height": 36
        },
        "outputId": "3a692f56-8ff8-49bd-b84b-ffcbdcadc050"
      },
      "outputs": [
        {
          "output_type": "execute_result",
          "data": {
            "text/plain": [
              "'table.html'"
            ],
            "application/vnd.google.colaboratory.intrinsic+json": {
              "type": "string"
            }
          },
          "metadata": {},
          "execution_count": 35
        }
      ],
      "source": [
        "soup.find_all('iframe')[0]['src']"
      ]
    },
    {
      "cell_type": "code",
      "execution_count": 36,
      "metadata": {
        "id": "qvrCha4Qwz1P",
        "colab": {
          "base_uri": "https://localhost:8080/"
        },
        "outputId": "0107e1d8-4ddb-4cf9-e87e-afb2fab5f0bc"
      },
      "outputs": [
        {
          "output_type": "stream",
          "name": "stdout",
          "text": [
            "['Longboard', '$80', '$85', '$90', '$62', '$150']\n"
          ]
        }
      ],
      "source": [
        "# Información de tablas\n",
        "\n",
        "URL_BASE = 'https://scrapepark.org/courses/spanish'\n",
        "URL_TABLA = soup.find_all('iframe')[0]['src']\n",
        "\n",
        "request_tabla = requests.get(f'{URL_BASE}/{URL_TABLA}')\n",
        "\n",
        "html_tabla = request_tabla.text\n",
        "soup_tabla = BeautifulSoup(html_tabla, \"html.parser\")\n",
        "soup_tabla.find('table')\n",
        "\n",
        "productos_faltantes = soup_tabla.find_all(['th', 'td'], attrs={'style':'color: red;'})\n",
        "productos_faltantes = [talle.text for talle in productos_faltantes]\n",
        "\n",
        "print(productos_faltantes)"
      ]
    },
    {
      "cell_type": "code",
      "execution_count": 37,
      "metadata": {
        "id": "OWDrRpN14mkR",
        "colab": {
          "base_uri": "https://localhost:8080/"
        },
        "outputId": "183416d8-de40-4b67-f5ba-9da3f871469f"
      },
      "outputs": [
        {
          "output_type": "stream",
          "name": "stdout",
          "text": [
            "producto: Patineta Nueva 1 | precio: 75\n",
            "producto: Patineta Usada 2 | precio: 80\n",
            "producto: Patineta Nueva 3 | precio: 68\n",
            "producto: Patineta Usada 4 | precio: 70\n",
            "producto: Patineta Nueva 5 | precio: 75\n",
            "producto: Patineta Nueva 6 | precio: 58\n",
            "producto: Patineta Nueva 7 | precio: 80\n",
            "producto: Patineta Nueva 8 | precio: 35\n",
            "producto: Patineta Nueva 9 | precio: 165\n",
            "producto: Patineta Usada 10 | precio: 54\n",
            "producto: Patineta Usada 11 | precio: 99\n",
            "producto: Patineta Nueva 12 | precio: 110\n"
          ]
        }
      ],
      "source": [
        "divs = soup.find_all('div', class_='detail-box')\n",
        "productos = []\n",
        "precios = []\n",
        "\n",
        "for div in divs:\n",
        "  if (div.h6 is not None) and ('Patineta' in div.h5.text):\n",
        "    producto = div.h5.get_text(strip=True)\n",
        "    precio = div.h6.get_text(strip=True).replace('$', '')\n",
        "    # Se puede agregar filtros\n",
        "    print(f'producto: {producto:<16} | precio: {precio}')\n",
        "    productos.append(producto)\n",
        "    precios.append(precio)"
      ]
    },
    {
      "cell_type": "code",
      "execution_count": 38,
      "metadata": {
        "id": "fFOxFOsRretL",
        "colab": {
          "base_uri": "https://localhost:8080/"
        },
        "outputId": "9b26c647-5e6f-4554-c915-5d903e1680e8"
      },
      "outputs": [
        {
          "output_type": "execute_result",
          "data": {
            "text/plain": [
              "['75', '80', '68', '70', '75', '58', '80', '35', '165', '54', '99', '110']"
            ]
          },
          "metadata": {},
          "execution_count": 38
        }
      ],
      "source": [
        "precios"
      ]
    },
    {
      "cell_type": "code",
      "execution_count": 39,
      "metadata": {
        "id": "guSnGHLIrcp_",
        "colab": {
          "base_uri": "https://localhost:8080/"
        },
        "outputId": "1e351648-410a-4540-83c3-a11b2bf2abf4"
      },
      "outputs": [
        {
          "output_type": "execute_result",
          "data": {
            "text/plain": [
              "['Patineta Nueva 1',\n",
              " 'Patineta Usada 2',\n",
              " 'Patineta Nueva 3',\n",
              " 'Patineta Usada 4',\n",
              " 'Patineta Nueva 5',\n",
              " 'Patineta Nueva 6',\n",
              " 'Patineta Nueva 7',\n",
              " 'Patineta Nueva 8',\n",
              " 'Patineta Nueva 9',\n",
              " 'Patineta Usada 10',\n",
              " 'Patineta Usada 11',\n",
              " 'Patineta Nueva 12']"
            ]
          },
          "metadata": {},
          "execution_count": 39
        }
      ],
      "source": [
        "productos"
      ]
    },
    {
      "cell_type": "markdown",
      "metadata": {
        "id": "2QphGTciOnZS"
      },
      "source": [
        "## **Cambios que dependen de la URL**"
      ]
    },
    {
      "cell_type": "code",
      "execution_count": 40,
      "metadata": {
        "id": "zW_XZj6TOqar",
        "colab": {
          "base_uri": "https://localhost:8080/"
        },
        "outputId": "e292e378-c359-4a94-fafb-085a4bfd2bd2"
      },
      "outputs": [
        {
          "output_type": "stream",
          "name": "stdout",
          "text": [
            "https://scrapepark.org/courses/spanish/contact1\n",
            "Texto que cambia entre páginas en contacto 1 :)\n",
            "https://scrapepark.org/courses/spanish/contact2\n",
            "Texto que cambia entre páginas en contacto 2 :)\n"
          ]
        }
      ],
      "source": [
        "URL_BASE = \"https://scrapepark.org/courses/spanish/contact\"\n",
        "\n",
        "for i in range(1,3):\n",
        "  URL_FINAL = f\"{URL_BASE}{i}\"\n",
        "  print(URL_FINAL)\n",
        "  r = requests.get(URL_FINAL)\n",
        "  soup = BeautifulSoup(r.text, \"html.parser\")\n",
        "  print(soup.h5.text)"
      ]
    },
    {
      "cell_type": "markdown",
      "metadata": {
        "id": "mRw2htzlj9Wr"
      },
      "source": [
        "## **Datos que no sabemos en que parte de la página se encuentran**"
      ]
    },
    {
      "cell_type": "code",
      "execution_count": 41,
      "metadata": {
        "id": "SClwgT23kDb_",
        "colab": {
          "base_uri": "https://localhost:8080/"
        },
        "outputId": "5b3960df-07df-4e0a-ea0d-69b4bfc70c71"
      },
      "outputs": [
        {
          "output_type": "execute_result",
          "data": {
            "text/plain": [
              "[' 4-444-4444']"
            ]
          },
          "metadata": {},
          "execution_count": 41
        }
      ],
      "source": [
        "# Expresiones regulares\n",
        "import re\n",
        "\n",
        "# 1. Obtener el HTML\n",
        "URL_BASE = 'https://scrapepark.org/courses/spanish'\n",
        "pedido_obtenido = requests.get(URL_BASE)\n",
        "html_obtenido = pedido_obtenido.text\n",
        "\n",
        "# 2. \"Parsear\" ese HTML\n",
        "soup = BeautifulSoup(html_obtenido, \"html.parser\")\n",
        "\n",
        "telefonos = soup.find_all(string=re.compile(\"\\d+-\\d+-\\d+\"))\n",
        "telefonos"
      ]
    },
    {
      "cell_type": "markdown",
      "metadata": {
        "id": "1Sq_ZX03oPQ8"
      },
      "source": [
        "## **Moviéndonos por el árbol**\n",
        "\n",
        "Para saber más: https://www.crummy.com/software/BeautifulSoup/bs4/doc/#searching-the-tree"
      ]
    },
    {
      "cell_type": "code",
      "execution_count": 42,
      "metadata": {
        "id": "QqzYlp0jnxAA",
        "colab": {
          "base_uri": "https://localhost:8080/",
          "height": 36
        },
        "outputId": "265cc06d-0265-4f5d-90a3-f43a2e6f926f"
      },
      "outputs": [
        {
          "output_type": "execute_result",
          "data": {
            "text/plain": [
              "'© 2022 '"
            ],
            "application/vnd.google.colaboratory.intrinsic+json": {
              "type": "string"
            }
          },
          "metadata": {},
          "execution_count": 42
        }
      ],
      "source": [
        "copyrights = soup.find_all(string=re.compile(\"©\"))\n",
        "copyrights[0]"
      ]
    },
    {
      "cell_type": "code",
      "execution_count": 43,
      "metadata": {
        "id": "BYaiCi_tuSek",
        "colab": {
          "base_uri": "https://localhost:8080/"
        },
        "outputId": "e9e7b580-8ceb-4619-c256-93f32e585e6c"
      },
      "outputs": [
        {
          "output_type": "execute_result",
          "data": {
            "text/plain": [
              "<p>© 2022 <span>Todos los derechos reservados</span>.\n",
              "        <a href=\"https://html.design/\" rel=\"noopener noreferrer\" target=\"_blank\">Creado con Free Html Templates</a>.\n",
              "      </p>"
            ]
          },
          "metadata": {},
          "execution_count": 43
        }
      ],
      "source": [
        "primer_copyright = copyrights[0]\n",
        "primer_copyright.parent"
      ]
    },
    {
      "cell_type": "code",
      "execution_count": 44,
      "metadata": {
        "id": "GDlAB53SuDf6",
        "colab": {
          "base_uri": "https://localhost:8080/"
        },
        "outputId": "08939bb1-a856-4f2b-e7b8-724742ed9e10"
      },
      "outputs": [
        {
          "output_type": "execute_result",
          "data": {
            "text/plain": [
              "[<ul>\n",
              " <li><a href=\"#\">Inicio</a></li>\n",
              " <li><a href=\"#\">Acerca</a></li>\n",
              " <li><a href=\"#\">Servicios</a></li>\n",
              " <li><a href=\"#\">Testimonios</a></li>\n",
              " <li><a href=\"#\">Contacto</a></li>\n",
              " </ul>]"
            ]
          },
          "metadata": {},
          "execution_count": 44
        }
      ],
      "source": [
        "# # Otro ejemplo con elementos al mismo nivel\n",
        "menu = soup.find(string=re.compile(\"MENÚ\"))\n",
        "# menu.parent\n",
        "menu.parent.find_next_siblings()"
      ]
    },
    {
      "cell_type": "markdown",
      "metadata": {
        "id": "IrUz6btarWj6"
      },
      "source": [
        "## **Comentario sobre excepciones**\n",
        "https://docs.python.org/es/3/tutorial/errors.html"
      ]
    },
    {
      "cell_type": "code",
      "execution_count": 45,
      "metadata": {
        "id": "iSgBLoDFrs3I",
        "colab": {
          "base_uri": "https://localhost:8080/"
        },
        "outputId": "bd72f342-3a4a-4bba-8754-c8bac163a331"
      },
      "outputs": [
        {
          "output_type": "stream",
          "name": "stdout",
          "text": [
            "MENÚ\n",
            "© 2022 \n",
            "El string 'carpincho' no fue encontrado\n",
            "\r\n",
            "                  Patineta Nueva 1\r\n",
            "                \n"
          ]
        }
      ],
      "source": [
        "strings_a_buscar = [\"MENÚ\", \"©\", \"carpincho\", \"Patineta\"]\n",
        "\n",
        "for string in strings_a_buscar:\n",
        "  try:\n",
        "    resultado = soup.find(string=re.compile(string))\n",
        "    print(resultado.text)\n",
        "  except AttributeError:\n",
        "    print(f\"El string '{string}' no fue encontrado\")"
      ]
    },
    {
      "cell_type": "markdown",
      "metadata": {
        "id": "rnyPln5D4dsg"
      },
      "source": [
        "## **Almacenamiento de los datos**"
      ]
    },
    {
      "cell_type": "code",
      "execution_count": 46,
      "metadata": {
        "id": "MizBsJA3gCQt"
      },
      "outputs": [],
      "source": [
        "productos.insert(0, \"productos\")\n",
        "precios.insert(0, \"precios\")\n",
        "# datos = dict(zip(productos, precios))"
      ]
    },
    {
      "cell_type": "code",
      "execution_count": 47,
      "metadata": {
        "id": "qXUvdB2Mx5WD"
      },
      "outputs": [],
      "source": [
        "datos = dict(zip(productos, precios))"
      ]
    },
    {
      "cell_type": "code",
      "execution_count": 48,
      "metadata": {
        "id": "tsss7E0Ny4mU",
        "colab": {
          "base_uri": "https://localhost:8080/"
        },
        "outputId": "c3ff0dd1-8778-4efa-91c2-375bcfdb8b12"
      },
      "outputs": [
        {
          "output_type": "execute_result",
          "data": {
            "text/plain": [
              "dict_items([('productos', 'precios'), ('Patineta Nueva 1', '75'), ('Patineta Usada 2', '80'), ('Patineta Nueva 3', '68'), ('Patineta Usada 4', '70'), ('Patineta Nueva 5', '75'), ('Patineta Nueva 6', '58'), ('Patineta Nueva 7', '80'), ('Patineta Nueva 8', '35'), ('Patineta Nueva 9', '165'), ('Patineta Usada 10', '54'), ('Patineta Usada 11', '99'), ('Patineta Nueva 12', '110')])"
            ]
          },
          "metadata": {},
          "execution_count": 48
        }
      ],
      "source": [
        "datos.items()"
      ]
    },
    {
      "cell_type": "code",
      "execution_count": 49,
      "metadata": {
        "id": "YcIts8u56tA7"
      },
      "outputs": [],
      "source": [
        "import csv\n",
        "\n",
        "with open('datos.csv','w') as f:\n",
        "    w = csv.writer(f)\n",
        "    w.writerows(datos.items())"
      ]
    },
    {
      "cell_type": "markdown",
      "metadata": {
        "id": "oEHvwn9Xw0sf"
      },
      "source": [
        "**BONUS!**\n",
        "Algunos ejercicios para seguir practicando:\n",
        "\n",
        "1. Las patinetas que salgan menos que $68\n",
        "2. Las patinetas que en su nombre tengan un numero mayor a 3\n",
        "3. Traer cualquier texto de la pagina que tenga la palabra descuento u oferta.\n",
        "5. Generar un archivo .csv con dos columnas: Una conteniendo el nombre del cliente y otra su testimonio."
      ]
    },
    {
      "cell_type": "markdown",
      "source": [
        "# **Ejercicio 4**"
      ],
      "metadata": {
        "id": "p1j4s_bv_wLV"
      }
    },
    {
      "cell_type": "code",
      "execution_count": 50,
      "metadata": {
        "id": "eCpy9QPW8Dwd"
      },
      "outputs": [],
      "source": [
        "divs = soup.find_all('div', class_='carousel-item')\n",
        "clientes = []\n",
        "testimonios = []"
      ]
    },
    {
      "cell_type": "code",
      "source": [
        "for div in divs:\n",
        "  if (div.h5 is not None) and (div.p is not None):\n",
        "    cliente = div.h5.get_text(strip=True)\n",
        "    testimonio = div.p.get_text(strip=True)\n",
        "    print(f'cliente: {cliente:<10} | testimonio: {testimonio}')\n",
        "    clientes.append(cliente)\n",
        "    testimonios.append(testimonio)"
      ],
      "metadata": {
        "colab": {
          "base_uri": "https://localhost:8080/"
        },
        "id": "isgWeoQA_yFl",
        "outputId": "7b6bbf9b-e566-4159-c7c6-b787e30e3d56"
      },
      "execution_count": 51,
      "outputs": [
        {
          "output_type": "stream",
          "name": "stdout",
          "text": [
            "cliente: Cliente 1  | testimonio: Los productos me encantaron y los precios son muy buenos. Lo recomiendo.\n",
            "cliente: Cliente 2  | testimonio: ¡La calidad y variedad de patinetas es impresionante! Definitivamente volveré a comprar.\n",
            "cliente: Cliente 3  | testimonio: Estoy muy conforme. Hay muchas patinetas y los diseños son fantásticos.\n"
          ]
        }
      ]
    },
    {
      "cell_type": "code",
      "source": [
        "clientes.insert(0, \"clientes\")\n",
        "testimonios.insert(0, \"testimonios\")"
      ],
      "metadata": {
        "id": "NncwWRGH_20F"
      },
      "execution_count": 52,
      "outputs": []
    },
    {
      "cell_type": "code",
      "source": [
        "data = dict(zip(clientes, testimonios))"
      ],
      "metadata": {
        "id": "HN9Hky6NGDXH"
      },
      "execution_count": 53,
      "outputs": []
    },
    {
      "cell_type": "code",
      "source": [
        "data.items()"
      ],
      "metadata": {
        "colab": {
          "base_uri": "https://localhost:8080/"
        },
        "id": "A564s_WCGMyP",
        "outputId": "40cc4fb1-7d7c-4159-b488-4c8ff767e215"
      },
      "execution_count": 54,
      "outputs": [
        {
          "output_type": "execute_result",
          "data": {
            "text/plain": [
              "dict_items([('clientes', 'testimonios'), ('Cliente 1', 'Los productos me encantaron y los precios son muy buenos. Lo recomiendo.'), ('Cliente 2', '¡La calidad y variedad de patinetas es impresionante! Definitivamente volveré a comprar.'), ('Cliente 3', 'Estoy muy conforme. Hay muchas patinetas y los diseños son fantásticos.')])"
            ]
          },
          "metadata": {},
          "execution_count": 54
        }
      ]
    },
    {
      "cell_type": "code",
      "source": [
        "import csv\n",
        "\n",
        "with open('datos_cli.csv','w') as f:\n",
        "    w = csv.writer(f)\n",
        "    w.writerows(data.items())"
      ],
      "metadata": {
        "id": "rDmPOX63GUF-"
      },
      "execution_count": 55,
      "outputs": []
    }
  ],
  "metadata": {
    "colab": {
      "provenance": [],
      "include_colab_link": true
    },
    "kernelspec": {
      "display_name": "Python 3",
      "name": "python3"
    },
    "language_info": {
      "name": "python"
    }
  },
  "nbformat": 4,
  "nbformat_minor": 0
}